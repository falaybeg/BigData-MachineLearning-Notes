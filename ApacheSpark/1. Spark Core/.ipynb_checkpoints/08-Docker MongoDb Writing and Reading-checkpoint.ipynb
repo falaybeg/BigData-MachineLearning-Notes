{
 "cells": [
  {
   "cell_type": "markdown",
   "metadata": {},
   "source": [
    "# Apache Spark Writing and Reading using MongoDB on Docker "
   ]
  },
  {
   "cell_type": "code",
   "execution_count": 1,
   "metadata": {},
   "outputs": [],
   "source": [
    "import findspark\n",
    "findspark.init()"
   ]
  },
  {
   "cell_type": "markdown",
   "metadata": {},
   "source": [
    "## 1. Spark and MongoDb COnfiguration"
   ]
  },
  {
   "cell_type": "markdown",
   "metadata": {},
   "source": [
    "#### Read csv file from local computer"
   ]
  },
  {
   "cell_type": "code",
   "execution_count": 2,
   "metadata": {},
   "outputs": [],
   "source": [
    "film_df = spark.read.format(\"csv\")\\\n",
    ".option(\"header\",\"True\")\\\n",
    ".option(\"inferSchema\", \"True\")\\\n",
    ".option(\"sep\", \",\")\\\n",
    ".load(\"data/film_data.csv\")"
   ]
  },
  {
   "cell_type": "code",
   "execution_count": 3,
   "metadata": {},
   "outputs": [
    {
     "data": {
      "text/html": [
       "<div>\n",
       "<style scoped>\n",
       "    .dataframe tbody tr th:only-of-type {\n",
       "        vertical-align: middle;\n",
       "    }\n",
       "\n",
       "    .dataframe tbody tr th {\n",
       "        vertical-align: top;\n",
       "    }\n",
       "\n",
       "    .dataframe thead th {\n",
       "        text-align: right;\n",
       "    }\n",
       "</style>\n",
       "<table border=\"1\" class=\"dataframe\">\n",
       "  <thead>\n",
       "    <tr style=\"text-align: right;\">\n",
       "      <th></th>\n",
       "      <th>Name</th>\n",
       "      <th>Genre</th>\n",
       "      <th>Length</th>\n",
       "      <th>Score</th>\n",
       "      <th>Country</th>\n",
       "      <th>Year</th>\n",
       "      <th>Budget</th>\n",
       "    </tr>\n",
       "  </thead>\n",
       "  <tbody>\n",
       "    <tr>\n",
       "      <th>0</th>\n",
       "      <td>stand by Me</td>\n",
       "      <td>Adventure</td>\n",
       "      <td>89</td>\n",
       "      <td>8.1</td>\n",
       "      <td>USA</td>\n",
       "      <td>1986</td>\n",
       "      <td>8000000</td>\n",
       "    </tr>\n",
       "    <tr>\n",
       "      <th>1</th>\n",
       "      <td>ferris Bueller's Day Off</td>\n",
       "      <td>Comedy</td>\n",
       "      <td>103</td>\n",
       "      <td>7.8</td>\n",
       "      <td>USA</td>\n",
       "      <td>1986</td>\n",
       "      <td>6000000</td>\n",
       "    </tr>\n",
       "    <tr>\n",
       "      <th>2</th>\n",
       "      <td>Top Gun</td>\n",
       "      <td>Action</td>\n",
       "      <td>110</td>\n",
       "      <td>6.9</td>\n",
       "      <td>USA</td>\n",
       "      <td>1986</td>\n",
       "      <td>15000000</td>\n",
       "    </tr>\n",
       "    <tr>\n",
       "      <th>3</th>\n",
       "      <td>Aliens</td>\n",
       "      <td>Action</td>\n",
       "      <td>137</td>\n",
       "      <td>8.4</td>\n",
       "      <td>USA</td>\n",
       "      <td>1986</td>\n",
       "      <td>18500000</td>\n",
       "    </tr>\n",
       "    <tr>\n",
       "      <th>4</th>\n",
       "      <td>Flight of the Navigator</td>\n",
       "      <td>Adventure</td>\n",
       "      <td>90</td>\n",
       "      <td>6.9</td>\n",
       "      <td>USA</td>\n",
       "      <td>1986</td>\n",
       "      <td>9000000</td>\n",
       "    </tr>\n",
       "  </tbody>\n",
       "</table>\n",
       "</div>"
      ],
      "text/plain": [
       "                       Name      Genre  Length  Score Country  Year    Budget\n",
       "0               stand by Me  Adventure      89    8.1     USA  1986   8000000\n",
       "1  ferris Bueller's Day Off     Comedy     103    7.8     USA  1986   6000000\n",
       "2                   Top Gun     Action     110    6.9     USA  1986  15000000\n",
       "3                    Aliens     Action     137    8.4     USA  1986  18500000\n",
       "4   Flight of the Navigator  Adventure      90    6.9     USA  1986   9000000"
      ]
     },
     "execution_count": 3,
     "metadata": {},
     "output_type": "execute_result"
    }
   ],
   "source": [
    "film_df.toPandas().head()"
   ]
  },
  {
   "cell_type": "code",
   "execution_count": 4,
   "metadata": {
    "scrolled": true
   },
   "outputs": [
    {
     "name": "stdout",
     "output_type": "stream",
     "text": [
      "+--------------------+---------+------+-----+-------+----+--------+\n",
      "|                Name|    Genre|Length|Score|Country|Year|  Budget|\n",
      "+--------------------+---------+------+-----+-------+----+--------+\n",
      "|         stand by Me|Adventure|    89|  8.1|    USA|1986| 8000000|\n",
      "|ferris Bueller's ...|   Comedy|   103|  7.8|    USA|1986| 6000000|\n",
      "|             Top Gun|   Action|   110|  6.9|    USA|1986|15000000|\n",
      "|              Aliens|   Action|   137|  8.4|    USA|1986|18500000|\n",
      "|Flight of the Nav...|Adventure|    90|  6.9|    USA|1986| 9000000|\n",
      "+--------------------+---------+------+-----+-------+----+--------+\n",
      "only showing top 5 rows\n",
      "\n"
     ]
    }
   ],
   "source": [
    "film_df.show(5)"
   ]
  },
  {
   "cell_type": "markdown",
   "metadata": {},
   "source": [
    "## 2. Writing data to MongoDb which is on the Docker"
   ]
  },
  {
   "cell_type": "markdown",
   "metadata": {},
   "source": [
    "### Method 1"
   ]
  },
  {
   "cell_type": "markdown",
   "metadata": {},
   "source": [
    "Use this method, if you define Database name and Collection name in SparkSession section"
   ]
  },
  {
   "cell_type": "code",
   "execution_count": 5,
   "metadata": {},
   "outputs": [],
   "source": [
    "from pyspark.sql import SparkSession\n",
    "\n",
    "pyspark = SparkSession \\\n",
    ".builder \\\n",
    ".appName(\"WriteToMongoDb\")\\\n",
    ".master(\"local[4]\")\\\n",
    ".config(\"spark.executer.memory\",\"3g\")\\\n",
    ".config(\"spark.driver.memory\",\"3g\")\\\n",
    ".config(\"spark.mongodb.input.uri\", \"mongodb://192.168.99.100:27017/filmdb.films\") \\\n",
    ".config(\"spark.mongodb.output.uri\", \"mongodb://192.168.99.100:27017/filmdb.films\") \\\n",
    ".getOrCreate()"
   ]
  },
  {
   "cell_type": "code",
   "execution_count": 6,
   "metadata": {},
   "outputs": [],
   "source": [
    "film_df.write.format(\"mongo\")\\\n",
    ".mode(\"append\")\\\n",
    ".save()"
   ]
  },
  {
   "cell_type": "markdown",
   "metadata": {},
   "source": [
    "### Method 2: We use this method, if Database and collection names are not defined in SparkSession "
   ]
  },
  {
   "cell_type": "markdown",
   "metadata": {},
   "source": [
    "Use this method, if you didn't define Database name and Collection name in SparkSession section"
   ]
  },
  {
   "cell_type": "code",
   "execution_count": 7,
   "metadata": {},
   "outputs": [],
   "source": [
    "from pyspark.sql import SparkSession\n",
    "\n",
    "pyspark = SparkSession \\\n",
    ".builder \\\n",
    ".appName(\"WriteToMongoDb\")\\\n",
    ".master(\"local[4]\")\\\n",
    ".config(\"spark.executer.memory\",\"3g\")\\\n",
    ".config(\"spark.driver.memory\",\"3g\")\\\n",
    ".config(\"spark.mongodb.input.uri\", \"mongodb://192.168.99.100:27017\") \\\n",
    ".config(\"spark.mongodb.output.uri\", \"mongodb://192.168.99.100:27017\") \\\n",
    ".getOrCreate()"
   ]
  },
  {
   "cell_type": "code",
   "execution_count": 8,
   "metadata": {
    "scrolled": true
   },
   "outputs": [],
   "source": [
    "film_df.write.format(\"mongo\")\\\n",
    ".option(\"database\",\"filmdb\")\\\n",
    ".option(\"collection\", \"films\")\\\n",
    ".mode(\"append\")\\\n",
    ".save()"
   ]
  },
  {
   "cell_type": "markdown",
   "metadata": {},
   "source": [
    "## 3. Docker MongoDb and Spark Reading Data"
   ]
  },
  {
   "cell_type": "code",
   "execution_count": 10,
   "metadata": {},
   "outputs": [],
   "source": [
    "mongo_df = spark.read\\\n",
    ".format(\"mongo\")\\\n",
    ".option(\"database\",\"filmdb\")\\\n",
    ".option(\"collection\", \"films\")\\\n",
    ".option(\"replaceDocument\", \"true\")\\\n",
    ".load()"
   ]
  },
  {
   "cell_type": "code",
   "execution_count": 11,
   "metadata": {},
   "outputs": [
    {
     "name": "stdout",
     "output_type": "stream",
     "text": [
      "root\n",
      " |-- Budget: integer (nullable = true)\n",
      " |-- Country: string (nullable = true)\n",
      " |-- Genre: string (nullable = true)\n",
      " |-- Length: integer (nullable = true)\n",
      " |-- Name: string (nullable = true)\n",
      " |-- Score: double (nullable = true)\n",
      " |-- Year: string (nullable = true)\n",
      " |-- _id: struct (nullable = true)\n",
      " |    |-- oid: string (nullable = true)\n",
      "\n"
     ]
    }
   ],
   "source": [
    "mongo_df.printSchema()"
   ]
  },
  {
   "cell_type": "code",
   "execution_count": 12,
   "metadata": {},
   "outputs": [
    {
     "data": {
      "text/html": [
       "<div>\n",
       "<style scoped>\n",
       "    .dataframe tbody tr th:only-of-type {\n",
       "        vertical-align: middle;\n",
       "    }\n",
       "\n",
       "    .dataframe tbody tr th {\n",
       "        vertical-align: top;\n",
       "    }\n",
       "\n",
       "    .dataframe thead th {\n",
       "        text-align: right;\n",
       "    }\n",
       "</style>\n",
       "<table border=\"1\" class=\"dataframe\">\n",
       "  <thead>\n",
       "    <tr style=\"text-align: right;\">\n",
       "      <th></th>\n",
       "      <th>Budget</th>\n",
       "      <th>Country</th>\n",
       "      <th>Genre</th>\n",
       "      <th>Length</th>\n",
       "      <th>Name</th>\n",
       "      <th>Score</th>\n",
       "      <th>Year</th>\n",
       "      <th>_id</th>\n",
       "    </tr>\n",
       "  </thead>\n",
       "  <tbody>\n",
       "    <tr>\n",
       "      <th>0</th>\n",
       "      <td>8000000</td>\n",
       "      <td>USA</td>\n",
       "      <td>Adventure</td>\n",
       "      <td>89</td>\n",
       "      <td>stand by Me</td>\n",
       "      <td>8.1</td>\n",
       "      <td>1986</td>\n",
       "      <td>(5d8c7d0b6c14965ccf1dd18f,)</td>\n",
       "    </tr>\n",
       "    <tr>\n",
       "      <th>1</th>\n",
       "      <td>6000000</td>\n",
       "      <td>USA</td>\n",
       "      <td>Comedy</td>\n",
       "      <td>103</td>\n",
       "      <td>ferris Bueller's Day Off</td>\n",
       "      <td>7.8</td>\n",
       "      <td>1986</td>\n",
       "      <td>(5d8c7d0b6c14965ccf1dd190,)</td>\n",
       "    </tr>\n",
       "    <tr>\n",
       "      <th>2</th>\n",
       "      <td>15000000</td>\n",
       "      <td>USA</td>\n",
       "      <td>Action</td>\n",
       "      <td>110</td>\n",
       "      <td>Top Gun</td>\n",
       "      <td>6.9</td>\n",
       "      <td>1986</td>\n",
       "      <td>(5d8c7d0b6c14965ccf1dd191,)</td>\n",
       "    </tr>\n",
       "  </tbody>\n",
       "</table>\n",
       "</div>"
      ],
      "text/plain": [
       "     Budget Country      Genre  Length                      Name  Score  Year  \\\n",
       "0   8000000     USA  Adventure      89               stand by Me    8.1  1986   \n",
       "1   6000000     USA     Comedy     103  ferris Bueller's Day Off    7.8  1986   \n",
       "2  15000000     USA     Action     110                   Top Gun    6.9  1986   \n",
       "\n",
       "                           _id  \n",
       "0  (5d8c7d0b6c14965ccf1dd18f,)  \n",
       "1  (5d8c7d0b6c14965ccf1dd190,)  \n",
       "2  (5d8c7d0b6c14965ccf1dd191,)  "
      ]
     },
     "execution_count": 12,
     "metadata": {},
     "output_type": "execute_result"
    }
   ],
   "source": [
    "mongo_df.toPandas().head(3)"
   ]
  },
  {
   "cell_type": "code",
   "execution_count": 13,
   "metadata": {},
   "outputs": [
    {
     "name": "stdout",
     "output_type": "stream",
     "text": [
      "All films:  297\n"
     ]
    }
   ],
   "source": [
    "print(\"All films: \", mongo_df.count())"
   ]
  },
  {
   "cell_type": "markdown",
   "metadata": {},
   "source": [
    "### Filtering lengths of movies which are higher than  >= 90 "
   ]
  },
  {
   "cell_type": "code",
   "execution_count": 14,
   "metadata": {
    "scrolled": true
   },
   "outputs": [
    {
     "data": {
      "text/html": [
       "<div>\n",
       "<style scoped>\n",
       "    .dataframe tbody tr th:only-of-type {\n",
       "        vertical-align: middle;\n",
       "    }\n",
       "\n",
       "    .dataframe tbody tr th {\n",
       "        vertical-align: top;\n",
       "    }\n",
       "\n",
       "    .dataframe thead th {\n",
       "        text-align: right;\n",
       "    }\n",
       "</style>\n",
       "<table border=\"1\" class=\"dataframe\">\n",
       "  <thead>\n",
       "    <tr style=\"text-align: right;\">\n",
       "      <th></th>\n",
       "      <th>Budget</th>\n",
       "      <th>Country</th>\n",
       "      <th>Genre</th>\n",
       "      <th>Length</th>\n",
       "      <th>Name</th>\n",
       "      <th>Score</th>\n",
       "      <th>Year</th>\n",
       "      <th>_id</th>\n",
       "    </tr>\n",
       "  </thead>\n",
       "  <tbody>\n",
       "    <tr>\n",
       "      <th>0</th>\n",
       "      <td>6000000</td>\n",
       "      <td>USA</td>\n",
       "      <td>Comedy</td>\n",
       "      <td>103</td>\n",
       "      <td>ferris Bueller's Day Off</td>\n",
       "      <td>7.8</td>\n",
       "      <td>1986</td>\n",
       "      <td>(5d8c7d0b6c14965ccf1dd190,)</td>\n",
       "    </tr>\n",
       "    <tr>\n",
       "      <th>1</th>\n",
       "      <td>15000000</td>\n",
       "      <td>USA</td>\n",
       "      <td>Action</td>\n",
       "      <td>110</td>\n",
       "      <td>Top Gun</td>\n",
       "      <td>6.9</td>\n",
       "      <td>1986</td>\n",
       "      <td>(5d8c7d0b6c14965ccf1dd191,)</td>\n",
       "    </tr>\n",
       "    <tr>\n",
       "      <th>2</th>\n",
       "      <td>18500000</td>\n",
       "      <td>USA</td>\n",
       "      <td>Action</td>\n",
       "      <td>137</td>\n",
       "      <td>Aliens</td>\n",
       "      <td>8.4</td>\n",
       "      <td>1986</td>\n",
       "      <td>(5d8c7d0b6c14965ccf1dd192,)</td>\n",
       "    </tr>\n",
       "    <tr>\n",
       "      <th>3</th>\n",
       "      <td>9000000</td>\n",
       "      <td>USA</td>\n",
       "      <td>Adventure</td>\n",
       "      <td>90</td>\n",
       "      <td>Flight of the Navigator</td>\n",
       "      <td>6.9</td>\n",
       "      <td>1986</td>\n",
       "      <td>(5d8c7d0b6c14965ccf1dd193,)</td>\n",
       "    </tr>\n",
       "    <tr>\n",
       "      <th>4</th>\n",
       "      <td>6000000</td>\n",
       "      <td>UK</td>\n",
       "      <td>Drama</td>\n",
       "      <td>120</td>\n",
       "      <td>Platoon</td>\n",
       "      <td>8.1</td>\n",
       "      <td>1986</td>\n",
       "      <td>(5d8c7d0b6c14965ccf1dd194,)</td>\n",
       "    </tr>\n",
       "  </tbody>\n",
       "</table>\n",
       "</div>"
      ],
      "text/plain": [
       "     Budget Country      Genre  Length                      Name  Score  Year  \\\n",
       "0   6000000     USA     Comedy     103  ferris Bueller's Day Off    7.8  1986   \n",
       "1  15000000     USA     Action     110                   Top Gun    6.9  1986   \n",
       "2  18500000     USA     Action     137                    Aliens    8.4  1986   \n",
       "3   9000000     USA  Adventure      90   Flight of the Navigator    6.9  1986   \n",
       "4   6000000      UK      Drama     120                   Platoon    8.1  1986   \n",
       "\n",
       "                           _id  \n",
       "0  (5d8c7d0b6c14965ccf1dd190,)  \n",
       "1  (5d8c7d0b6c14965ccf1dd191,)  \n",
       "2  (5d8c7d0b6c14965ccf1dd192,)  \n",
       "3  (5d8c7d0b6c14965ccf1dd193,)  \n",
       "4  (5d8c7d0b6c14965ccf1dd194,)  "
      ]
     },
     "execution_count": 14,
     "metadata": {},
     "output_type": "execute_result"
    }
   ],
   "source": [
    "length_films = mongo_df.filter(mongo_df[\"Length\"] >= 90)\n",
    "length_films.toPandas().head()"
   ]
  },
  {
   "cell_type": "markdown",
   "metadata": {},
   "source": [
    "### Writing filtered Dataframe to MongoDb"
   ]
  },
  {
   "cell_type": "code",
   "execution_count": 15,
   "metadata": {},
   "outputs": [],
   "source": [
    "length_films.write.format(\"mongo\")\\\n",
    ".option(\"database\",\"filmdb\")\\\n",
    ".option(\"collection\", \"filtered_films\")\\\n",
    ".mode(\"append\")\\\n",
    ".save()"
   ]
  },
  {
   "cell_type": "code",
   "execution_count": 16,
   "metadata": {},
   "outputs": [
    {
     "name": "stdout",
     "output_type": "stream",
     "text": [
      "Filtered films:  246\n"
     ]
    }
   ],
   "source": [
    "print(\"Filtered films: \", length_films.count())"
   ]
  },
  {
   "cell_type": "code",
   "execution_count": null,
   "metadata": {},
   "outputs": [],
   "source": []
  }
 ],
 "metadata": {
  "kernelspec": {
   "display_name": "Python 3",
   "language": "python",
   "name": "python3"
  },
  "language_info": {
   "codemirror_mode": {
    "name": "ipython",
    "version": 3
   },
   "file_extension": ".py",
   "mimetype": "text/x-python",
   "name": "python",
   "nbconvert_exporter": "python",
   "pygments_lexer": "ipython3",
   "version": "3.7.1"
  }
 },
 "nbformat": 4,
 "nbformat_minor": 2
}
