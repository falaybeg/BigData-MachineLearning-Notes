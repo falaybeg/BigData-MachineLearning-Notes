{
 "cells": [
  {
   "cell_type": "markdown",
   "metadata": {},
   "source": [
    "# Word Count Example"
   ]
  },
  {
   "cell_type": "code",
   "execution_count": 1,
   "metadata": {},
   "outputs": [
    {
     "name": "stdout",
     "output_type": "stream",
     "text": [
      "Story Row Number:  197\n",
      "\n",
      "-- Take first 5 row ---\n",
      " ['Once upon a time there dwelt on the outskirts of a', 'large forest a poor woodcutter with his wife and two', 'children; the boy was called Hansel and the girl Grettel.', 'He had always little enough to live on, and once, when', \"there was a great famine in the land, he couldn't even\"]\n"
     ]
    }
   ],
   "source": [
    "# import Pyspark libraries \n",
    "import findspark \n",
    "findspark.init()\n",
    "from pyspark.sql import SparkSession \n",
    "from pyspark.conf import SparkConf \n",
    "\n",
    "# Here is defined Spark begining point\n",
    "spark = SparkSession.builder.master(\"local[4]\")\\\n",
    ".appName(\"Wordcount_Rdd\")\\\n",
    ".getOrCreate()\n",
    "\n",
    "# Here is defined SparkContext which uses for accessing to cluster\n",
    "sc = spark.sparkContext\n",
    "\n",
    "# load txt data file\n",
    "data = sc.textFile(\"data/HanselStory.txt\")\n",
    "\n",
    "# row number is counted from txt file\n",
    "print(\"Story Row Number: \",data.count())\n",
    "# 5 row is taken from story txt file\n",
    "print(\"\\n-- Take first 5 row ---\\n\",data.take(5))"
   ]
  },
  {
   "cell_type": "code",
   "execution_count": 2,
   "metadata": {},
   "outputs": [
    {
     "name": "stdout",
     "output_type": "stream",
     "text": [
      "--- Splitted Words ---\n",
      " ['Once', 'upon', 'a', 'time', 'there', 'dwelt', 'on', 'the', 'outskirts', 'of']\n"
     ]
    }
   ],
   "source": [
    "# Words are splitted\n",
    "words = data.flatMap(lambda row: row.split(\" \"))\n",
    "print(\"--- Splitted Words ---\\n\",     words.take(10))"
   ]
  },
  {
   "cell_type": "code",
   "execution_count": 3,
   "metadata": {},
   "outputs": [
    {
     "name": "stdout",
     "output_type": "stream",
     "text": [
      "[('Once', 1), ('upon', 1), ('a', 1), ('time', 1), ('there', 1)]\n"
     ]
    }
   ],
   "source": [
    "# Words are mapped and showed key and it length \n",
    "words_number = words.map(lambda word: (word,1))\n",
    "print(words_number.take(5))"
   ]
  },
  {
   "cell_type": "code",
   "execution_count": 4,
   "metadata": {},
   "outputs": [
    {
     "data": {
      "text/plain": [
       "[('Once', 1),\n",
       " ('upon', 1),\n",
       " ('there', 4),\n",
       " ('dwelt', 1),\n",
       " ('outskirts', 1),\n",
       " ('of', 31),\n",
       " ('large', 1),\n",
       " ('poor', 4),\n",
       " ('his', 18),\n",
       " ('two', 3)]"
      ]
     },
     "execution_count": 4,
     "metadata": {},
     "output_type": "execute_result"
    }
   ],
   "source": [
    "# Mapped data is reduced by key and count for calculating word number\n",
    "words_number_RBW = words_number.reduceByKey(lambda key,count: key+count)\n",
    "words_number_RBW.take(10)"
   ]
  },
  {
   "cell_type": "code",
   "execution_count": 5,
   "metadata": {},
   "outputs": [
    {
     "data": {
      "text/plain": [
       "[(113, 'the'),\n",
       " (91, 'and'),\n",
       " (44, 'to'),\n",
       " (42, 'a'),\n",
       " (34, 'they'),\n",
       " (31, 'of'),\n",
       " (27, 'had'),\n",
       " (19, 'was'),\n",
       " (19, 'in'),\n",
       " (19, 'he'),\n",
       " (19, 'on'),\n",
       " (18, 'his'),\n",
       " (17, 'Hansel'),\n",
       " (17, 'their'),\n",
       " (16, 'for'),\n",
       " (15, 'them'),\n",
       " (15, 'you'),\n",
       " (13, 'it'),\n",
       " (12, 'when'),\n",
       " (12, '')]"
      ]
     },
     "execution_count": 5,
     "metadata": {},
     "output_type": "execute_result"
    }
   ],
   "source": [
    "# Reduced data is mapped again for sorting by descending word number\n",
    "words_number_RBW2 = words_number_RBW.map(lambda key: (key[1], key[0]))\n",
    "words_number_RBW2.take(5)\n",
    "words_number_RBW2.sortByKey(False).take(20)"
   ]
  }
 ],
 "metadata": {
  "kernelspec": {
   "display_name": "Python 3",
   "language": "python",
   "name": "python3"
  },
  "language_info": {
   "codemirror_mode": {
    "name": "ipython",
    "version": 3
   },
   "file_extension": ".py",
   "mimetype": "text/x-python",
   "name": "python",
   "nbconvert_exporter": "python",
   "pygments_lexer": "ipython3",
   "version": "3.7.1"
  }
 },
 "nbformat": 4,
 "nbformat_minor": 2
}
