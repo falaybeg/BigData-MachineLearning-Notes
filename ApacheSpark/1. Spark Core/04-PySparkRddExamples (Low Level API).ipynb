{
 "cells": [
  {
   "cell_type": "markdown",
   "metadata": {},
   "source": [
    "# PySpark RDD Examples on Film dataset"
   ]
  },
  {
   "cell_type": "code",
   "execution_count": 1,
   "metadata": {},
   "outputs": [],
   "source": [
    "import findspark\n",
    "findspark.init()"
   ]
  },
  {
   "cell_type": "code",
   "execution_count": 2,
   "metadata": {},
   "outputs": [],
   "source": [
    "from pyspark.sql import SparkSession "
   ]
  },
  {
   "cell_type": "markdown",
   "metadata": {},
   "source": [
    "#### PySpark environment settings"
   ]
  },
  {
   "cell_type": "code",
   "execution_count": 3,
   "metadata": {},
   "outputs": [],
   "source": [
    "pyspark = SparkSession.builder \\\n",
    ".master(\"local[4]\")\\\n",
    ".appName(\"RDDExamples\")\\\n",
    ".config(\"spark.executer.memory\",\"4g\")\\\n",
    ".config(\"spark.driver.memory\",\"4g\")\\\n",
    ".getOrCreate()"
   ]
  },
  {
   "cell_type": "code",
   "execution_count": 4,
   "metadata": {},
   "outputs": [],
   "source": [
    "sc = pyspark.sparkContext"
   ]
  },
  {
   "cell_type": "code",
   "execution_count": 5,
   "metadata": {},
   "outputs": [],
   "source": [
    "film_data = sc.textFile(\"data/film_data.csv\")"
   ]
  },
  {
   "cell_type": "code",
   "execution_count": 6,
   "metadata": {},
   "outputs": [
    {
     "data": {
      "text/plain": [
       "['Name,Genre,Length,Score,Country,Year,Budget',\n",
       " 'stand by Me,Adventure,89,8.1,USA,1986,8000000',\n",
       " \"ferris Bueller's Day Off,Comedy,103,7.8,USA,1986,6000000\",\n",
       " 'Top Gun,Action,110,6.9,USA,1986,15000000',\n",
       " 'Aliens,Action,137,8.4,USA,1986,18500000',\n",
       " 'Flight of the Navigator,Adventure,90,6.9,USA,1986,9000000',\n",
       " 'Platoon,Drama,120,8.1,UK,1986,6000000',\n",
       " 'Labyrinth,Adventure,101,7.4,UK,1986,25000000',\n",
       " 'Blue Velvet,Drama,120,7.8,USA,1986,6000000',\n",
       " 'Pretty in Pink,Comedy,96,6.8,USA,1986,9000000']"
      ]
     },
     "execution_count": 6,
     "metadata": {},
     "output_type": "execute_result"
    }
   ],
   "source": [
    "film_data.take(10)"
   ]
  },
  {
   "cell_type": "markdown",
   "metadata": {},
   "source": [
    "#### map() function by using upper()"
   ]
  },
  {
   "cell_type": "code",
   "execution_count": 7,
   "metadata": {},
   "outputs": [
    {
     "data": {
      "text/plain": [
       "['NAME,GENRE,LENGTH,SCORE,COUNTRY,YEAR,BUDGET',\n",
       " 'STAND BY ME,ADVENTURE,89,8.1,USA,1986,8000000',\n",
       " \"FERRIS BUELLER'S DAY OFF,COMEDY,103,7.8,USA,1986,6000000\",\n",
       " 'TOP GUN,ACTION,110,6.9,USA,1986,15000000',\n",
       " 'ALIENS,ACTION,137,8.4,USA,1986,18500000',\n",
       " 'FLIGHT OF THE NAVIGATOR,ADVENTURE,90,6.9,USA,1986,9000000',\n",
       " 'PLATOON,DRAMA,120,8.1,UK,1986,6000000',\n",
       " 'LABYRINTH,ADVENTURE,101,7.4,UK,1986,25000000',\n",
       " 'BLUE VELVET,DRAMA,120,7.8,USA,1986,6000000',\n",
       " 'PRETTY IN PINK,COMEDY,96,6.8,USA,1986,9000000']"
      ]
     },
     "execution_count": 7,
     "metadata": {},
     "output_type": "execute_result"
    }
   ],
   "source": [
    "film_data.map(lambda x: x.upper()).take(10)"
   ]
  },
  {
   "cell_type": "markdown",
   "metadata": {},
   "source": [
    "#### map() function by using lower()"
   ]
  },
  {
   "cell_type": "code",
   "execution_count": 8,
   "metadata": {},
   "outputs": [
    {
     "data": {
      "text/plain": [
       "['name,genre,length,score,country,year,budget',\n",
       " 'stand by me,adventure,89,8.1,usa,1986,8000000',\n",
       " \"ferris bueller's day off,comedy,103,7.8,usa,1986,6000000\",\n",
       " 'top gun,action,110,6.9,usa,1986,15000000',\n",
       " 'aliens,action,137,8.4,usa,1986,18500000',\n",
       " 'flight of the navigator,adventure,90,6.9,usa,1986,9000000',\n",
       " 'platoon,drama,120,8.1,uk,1986,6000000',\n",
       " 'labyrinth,adventure,101,7.4,uk,1986,25000000',\n",
       " 'blue velvet,drama,120,7.8,usa,1986,6000000',\n",
       " 'pretty in pink,comedy,96,6.8,usa,1986,9000000']"
      ]
     },
     "execution_count": 8,
     "metadata": {},
     "output_type": "execute_result"
    }
   ],
   "source": [
    "film_data.map(lambda x: x.lower()).take(10)"
   ]
  },
  {
   "cell_type": "markdown",
   "metadata": {},
   "source": [
    "#### flatMap() function by using upper()"
   ]
  },
  {
   "cell_type": "code",
   "execution_count": 9,
   "metadata": {
    "scrolled": true
   },
   "outputs": [
    {
     "data": {
      "text/plain": [
       "['N', 'A', 'M', 'E', ',', 'G', 'E', 'N', 'R', 'E']"
      ]
     },
     "execution_count": 9,
     "metadata": {},
     "output_type": "execute_result"
    }
   ],
   "source": [
    "film_data.flatMap(lambda x: x.upper()).take(10)"
   ]
  },
  {
   "cell_type": "markdown",
   "metadata": {},
   "source": [
    "#### flatMap() function by using lower()"
   ]
  },
  {
   "cell_type": "code",
   "execution_count": 10,
   "metadata": {},
   "outputs": [
    {
     "data": {
      "text/plain": [
       "['n', 'a', 'm', 'e', ',', 'g', 'e', 'n', 'r', 'e']"
      ]
     },
     "execution_count": 10,
     "metadata": {},
     "output_type": "execute_result"
    }
   ],
   "source": [
    "film_data.flatMap(lambda x: x.lower()).take(10)"
   ]
  },
  {
   "cell_type": "markdown",
   "metadata": {},
   "source": [
    "#### Removing columns row"
   ]
  },
  {
   "cell_type": "code",
   "execution_count": 11,
   "metadata": {},
   "outputs": [],
   "source": [
    "film_data = film_data.filter(lambda x: \"Name\" not in x)"
   ]
  },
  {
   "cell_type": "code",
   "execution_count": 12,
   "metadata": {},
   "outputs": [
    {
     "data": {
      "text/plain": [
       "['stand by Me,Adventure,89,8.1,USA,1986,8000000',\n",
       " \"ferris Bueller's Day Off,Comedy,103,7.8,USA,1986,6000000\",\n",
       " 'Top Gun,Action,110,6.9,USA,1986,15000000',\n",
       " 'Aliens,Action,137,8.4,USA,1986,18500000',\n",
       " 'Flight of the Navigator,Adventure,90,6.9,USA,1986,9000000',\n",
       " 'Platoon,Drama,120,8.1,UK,1986,6000000',\n",
       " 'Labyrinth,Adventure,101,7.4,UK,1986,25000000',\n",
       " 'Blue Velvet,Drama,120,7.8,USA,1986,6000000',\n",
       " 'Pretty in Pink,Comedy,96,6.8,USA,1986,9000000',\n",
       " 'The Fly,Drama,96,7.5,USA,1986,15000000']"
      ]
     },
     "execution_count": 12,
     "metadata": {},
     "output_type": "execute_result"
    }
   ],
   "source": [
    "film_data.take(10)"
   ]
  },
  {
   "cell_type": "markdown",
   "metadata": {},
   "source": [
    "#### Splitting element by using flatMap()"
   ]
  },
  {
   "cell_type": "code",
   "execution_count": 13,
   "metadata": {},
   "outputs": [
    {
     "data": {
      "text/plain": [
       "['stand by Me',\n",
       " 'Adventure',\n",
       " '89',\n",
       " '8.1',\n",
       " 'USA',\n",
       " '1986',\n",
       " '8000000',\n",
       " \"ferris Bueller's Day Off\",\n",
       " 'Comedy',\n",
       " '103']"
      ]
     },
     "execution_count": 13,
     "metadata": {},
     "output_type": "execute_result"
    }
   ],
   "source": [
    "flatMap = film_data.flatMap(lambda x: x.split(\",\"))\n",
    "flatMap.take(10)"
   ]
  },
  {
   "cell_type": "markdown",
   "metadata": {},
   "source": [
    "#### Splitting element by using map()"
   ]
  },
  {
   "cell_type": "code",
   "execution_count": 14,
   "metadata": {},
   "outputs": [
    {
     "data": {
      "text/plain": [
       "[['stand by Me', 'Adventure', '89', '8.1', 'USA', '1986', '8000000'],\n",
       " [\"ferris Bueller's Day Off\",\n",
       "  'Comedy',\n",
       "  '103',\n",
       "  '7.8',\n",
       "  'USA',\n",
       "  '1986',\n",
       "  '6000000'],\n",
       " ['Top Gun', 'Action', '110', '6.9', 'USA', '1986', '15000000'],\n",
       " ['Aliens', 'Action', '137', '8.4', 'USA', '1986', '18500000'],\n",
       " ['Flight of the Navigator',\n",
       "  'Adventure',\n",
       "  '90',\n",
       "  '6.9',\n",
       "  'USA',\n",
       "  '1986',\n",
       "  '9000000'],\n",
       " ['Platoon', 'Drama', '120', '8.1', 'UK', '1986', '6000000'],\n",
       " ['Labyrinth', 'Adventure', '101', '7.4', 'UK', '1986', '25000000'],\n",
       " ['Blue Velvet', 'Drama', '120', '7.8', 'USA', '1986', '6000000'],\n",
       " ['Pretty in Pink', 'Comedy', '96', '6.8', 'USA', '1986', '9000000'],\n",
       " ['The Fly', 'Drama', '96', '7.5', 'USA', '1986', '15000000']]"
      ]
     },
     "execution_count": 14,
     "metadata": {},
     "output_type": "execute_result"
    }
   ],
   "source": [
    "mapData = film_data.map(lambda x: x.split(\",\"))\n",
    "mapData.take(10)"
   ]
  },
  {
   "cell_type": "markdown",
   "metadata": {},
   "source": [
    "#### Mapping elements from 0 to 6 in tuple type"
   ]
  },
  {
   "cell_type": "code",
   "execution_count": 15,
   "metadata": {
    "scrolled": true
   },
   "outputs": [
    {
     "data": {
      "text/plain": [
       "[('stand by Me', 'Adventure', '89', '8.1', 'USA', '1986', '8000000'),\n",
       " (\"ferris Bueller's Day Off\",\n",
       "  'Comedy',\n",
       "  '103',\n",
       "  '7.8',\n",
       "  'USA',\n",
       "  '1986',\n",
       "  '6000000'),\n",
       " ('Top Gun', 'Action', '110', '6.9', 'USA', '1986', '15000000'),\n",
       " ('Aliens', 'Action', '137', '8.4', 'USA', '1986', '18500000'),\n",
       " ('Flight of the Navigator',\n",
       "  'Adventure',\n",
       "  '90',\n",
       "  '6.9',\n",
       "  'USA',\n",
       "  '1986',\n",
       "  '9000000'),\n",
       " ('Platoon', 'Drama', '120', '8.1', 'UK', '1986', '6000000'),\n",
       " ('Labyrinth', 'Adventure', '101', '7.4', 'UK', '1986', '25000000'),\n",
       " ('Blue Velvet', 'Drama', '120', '7.8', 'USA', '1986', '6000000'),\n",
       " ('Pretty in Pink', 'Comedy', '96', '6.8', 'USA', '1986', '9000000'),\n",
       " ('The Fly', 'Drama', '96', '7.5', 'USA', '1986', '15000000')]"
      ]
     },
     "execution_count": 15,
     "metadata": {},
     "output_type": "execute_result"
    }
   ],
   "source": [
    "mapData = film_data.map(lambda x: x.split(\",\")).map(lambda y: (y[0],y[1],y[2],y[3],y[4],y[5],y[6]))\n",
    "mapData.take(10)"
   ]
  },
  {
   "cell_type": "markdown",
   "metadata": {},
   "source": [
    "#### Highest 10 film budget"
   ]
  },
  {
   "cell_type": "code",
   "execution_count": 16,
   "metadata": {},
   "outputs": [
    {
     "data": {
      "text/plain": [
       "[(40000000, 'Piratas'),\n",
       " (35000000, 'Howard the Duck'),\n",
       " (25000000, 'Labyrinth'),\n",
       " (25000000, 'Big Trouble in Little China'),\n",
       " (25000000, 'Little Shop of Horrors'),\n",
       " (25000000, 'Star Trek IV: The Voyage Home'),\n",
       " (25000000, 'The Golden Child'),\n",
       " (25000000, '�Three Amigos!'),\n",
       " (25000000, 'Cobra'),\n",
       " (25000000, 'The Mosquito Coast')]"
      ]
     },
     "execution_count": 16,
     "metadata": {},
     "output_type": "execute_result"
    }
   ],
   "source": [
    "budgetData = film_data.map(lambda x: x.split(\",\")).map(lambda y: (int(y[6]),y[0]))\n",
    "budgetData.sortByKey(False).take(10)"
   ]
  },
  {
   "cell_type": "markdown",
   "metadata": {},
   "source": [
    "#### The most highest scored films"
   ]
  },
  {
   "cell_type": "code",
   "execution_count": 17,
   "metadata": {},
   "outputs": [
    {
     "data": {
      "text/plain": [
       "[(8.4, 'Aliens'),\n",
       " (8.1, 'stand by Me'),\n",
       " (8.1, 'Platoon'),\n",
       " (8.1, 'Sacrifice'),\n",
       " (8.0, 'Hannah and Her Sisters'),\n",
       " (7.8, \"ferris Bueller's Day Off\"),\n",
       " (7.8, 'Blue Velvet'),\n",
       " (7.8, 'Down by Law'),\n",
       " (7.8, 'When the Wind Blows'),\n",
       " (7.6, 'Hoosiers')]"
      ]
     },
     "execution_count": 17,
     "metadata": {},
     "output_type": "execute_result"
    }
   ],
   "source": [
    "highScore = film_data.map(lambda x: x.split(\",\")).map(lambda y: (float(y[3]),y[0]))\n",
    "highScore.sortByKey(False).take(10)"
   ]
  },
  {
   "cell_type": "markdown",
   "metadata": {},
   "source": [
    "#### The longest films by type of minute"
   ]
  },
  {
   "cell_type": "code",
   "execution_count": 18,
   "metadata": {},
   "outputs": [
    {
     "data": {
      "text/plain": [
       "[(149.0, 'Sacrifice'),\n",
       " (137.0, 'Aliens'),\n",
       " (130.0, 'Heartbreak Ridge'),\n",
       " (125.0, 'The Mission'),\n",
       " (125.0, 'The Delta Force'),\n",
       " (121.0, 'Piratas'),\n",
       " (120.0, 'Platoon'),\n",
       " (120.0, 'Blue Velvet'),\n",
       " (120.0, 'Manhunter'),\n",
       " (120.0, 'Betty Blue')]"
      ]
     },
     "execution_count": 18,
     "metadata": {},
     "output_type": "execute_result"
    }
   ],
   "source": [
    "length = film_data.map(lambda x: x.split(\",\")).map(lambda y: (float(y[2]),y[0]))\n",
    "length.sortByKey(False).take(10)"
   ]
  },
  {
   "cell_type": "markdown",
   "metadata": {},
   "source": [
    "#### Pandas and RDD DataFrame"
   ]
  },
  {
   "cell_type": "code",
   "execution_count": 19,
   "metadata": {},
   "outputs": [
    {
     "data": {
      "text/html": [
       "<div>\n",
       "<style scoped>\n",
       "    .dataframe tbody tr th:only-of-type {\n",
       "        vertical-align: middle;\n",
       "    }\n",
       "\n",
       "    .dataframe tbody tr th {\n",
       "        vertical-align: top;\n",
       "    }\n",
       "\n",
       "    .dataframe thead th {\n",
       "        text-align: right;\n",
       "    }\n",
       "</style>\n",
       "<table border=\"1\" class=\"dataframe\">\n",
       "  <thead>\n",
       "    <tr style=\"text-align: right;\">\n",
       "      <th></th>\n",
       "      <th>Name</th>\n",
       "      <th>Genre</th>\n",
       "      <th>Length</th>\n",
       "      <th>Score</th>\n",
       "      <th>Country</th>\n",
       "      <th>Year</th>\n",
       "      <th>Budget</th>\n",
       "    </tr>\n",
       "  </thead>\n",
       "  <tbody>\n",
       "    <tr>\n",
       "      <th>0</th>\n",
       "      <td>stand by Me</td>\n",
       "      <td>Adventure</td>\n",
       "      <td>89</td>\n",
       "      <td>8.1</td>\n",
       "      <td>USA</td>\n",
       "      <td>1986</td>\n",
       "      <td>8000000</td>\n",
       "    </tr>\n",
       "    <tr>\n",
       "      <th>1</th>\n",
       "      <td>ferris Bueller's Day Off</td>\n",
       "      <td>Comedy</td>\n",
       "      <td>103</td>\n",
       "      <td>7.8</td>\n",
       "      <td>USA</td>\n",
       "      <td>1986</td>\n",
       "      <td>6000000</td>\n",
       "    </tr>\n",
       "    <tr>\n",
       "      <th>2</th>\n",
       "      <td>Top Gun</td>\n",
       "      <td>Action</td>\n",
       "      <td>110</td>\n",
       "      <td>6.9</td>\n",
       "      <td>USA</td>\n",
       "      <td>1986</td>\n",
       "      <td>15000000</td>\n",
       "    </tr>\n",
       "    <tr>\n",
       "      <th>3</th>\n",
       "      <td>Aliens</td>\n",
       "      <td>Action</td>\n",
       "      <td>137</td>\n",
       "      <td>8.4</td>\n",
       "      <td>USA</td>\n",
       "      <td>1986</td>\n",
       "      <td>18500000</td>\n",
       "    </tr>\n",
       "    <tr>\n",
       "      <th>4</th>\n",
       "      <td>Flight of the Navigator</td>\n",
       "      <td>Adventure</td>\n",
       "      <td>90</td>\n",
       "      <td>6.9</td>\n",
       "      <td>USA</td>\n",
       "      <td>1986</td>\n",
       "      <td>9000000</td>\n",
       "    </tr>\n",
       "  </tbody>\n",
       "</table>\n",
       "</div>"
      ],
      "text/plain": [
       "                       Name      Genre  Length  Score Country  Year    Budget\n",
       "0               stand by Me  Adventure      89    8.1     USA  1986   8000000\n",
       "1  ferris Bueller's Day Off     Comedy     103    7.8     USA  1986   6000000\n",
       "2                   Top Gun     Action     110    6.9     USA  1986  15000000\n",
       "3                    Aliens     Action     137    8.4     USA  1986  18500000\n",
       "4   Flight of the Navigator  Adventure      90    6.9     USA  1986   9000000"
      ]
     },
     "execution_count": 19,
     "metadata": {},
     "output_type": "execute_result"
    }
   ],
   "source": [
    "import pandas as pd \n",
    "df = pd.read_csv(\"data/film_data.csv\",encoding=\"ISO-8859-1\")\n",
    "df.head()"
   ]
  },
  {
   "cell_type": "code",
   "execution_count": 20,
   "metadata": {},
   "outputs": [],
   "source": [
    "pandasRdd = pyspark.createDataFrame(df)"
   ]
  },
  {
   "cell_type": "code",
   "execution_count": 21,
   "metadata": {},
   "outputs": [
    {
     "name": "stdout",
     "output_type": "stream",
     "text": [
      "+--------------------+---------+------+-----+-------+----+--------+\n",
      "|                Name|    Genre|Length|Score|Country|Year|  Budget|\n",
      "+--------------------+---------+------+-----+-------+----+--------+\n",
      "|         stand by Me|Adventure|    89|  8.1|    USA|1986| 8000000|\n",
      "|ferris Bueller's ...|   Comedy|   103|  7.8|    USA|1986| 6000000|\n",
      "|             Top Gun|   Action|   110|  6.9|    USA|1986|15000000|\n",
      "|              Aliens|   Action|   137|  8.4|    USA|1986|18500000|\n",
      "|Flight of the Nav...|Adventure|    90|  6.9|    USA|1986| 9000000|\n",
      "+--------------------+---------+------+-----+-------+----+--------+\n",
      "only showing top 5 rows\n",
      "\n"
     ]
    }
   ],
   "source": [
    "pandasRdd.show(5)"
   ]
  },
  {
   "cell_type": "code",
   "execution_count": 22,
   "metadata": {},
   "outputs": [
    {
     "data": {
      "text/plain": [
       "[Row(Name='stand by Me', Genre='Adventure', Length=89, Score=8.1, Country='USA', Year='1986', Budget=8000000),\n",
       " Row(Name=\"ferris Bueller's Day Off\", Genre='Comedy', Length=103, Score=7.8, Country='USA', Year='1986', Budget=6000000),\n",
       " Row(Name='Top Gun', Genre='Action', Length=110, Score=6.9, Country='USA', Year='1986', Budget=15000000),\n",
       " Row(Name='Aliens', Genre='Action', Length=137, Score=8.4, Country='USA', Year='1986', Budget=18500000),\n",
       " Row(Name='Flight of the Navigator', Genre='Adventure', Length=90, Score=6.9, Country='USA', Year='1986', Budget=9000000)]"
      ]
     },
     "execution_count": 22,
     "metadata": {},
     "output_type": "execute_result"
    }
   ],
   "source": [
    "pandasRdd.take(5)"
   ]
  },
  {
   "cell_type": "code",
   "execution_count": 23,
   "metadata": {},
   "outputs": [
    {
     "name": "stdout",
     "output_type": "stream",
     "text": [
      "root\n",
      " |-- Name: string (nullable = true)\n",
      " |-- Genre: string (nullable = true)\n",
      " |-- Length: long (nullable = true)\n",
      " |-- Score: double (nullable = true)\n",
      " |-- Country: string (nullable = true)\n",
      " |-- Year: string (nullable = true)\n",
      " |-- Budget: long (nullable = true)\n",
      "\n"
     ]
    }
   ],
   "source": [
    "pandasRdd.printSchema()"
   ]
  },
  {
   "cell_type": "markdown",
   "metadata": {},
   "source": [
    "#### Summarize the dataset (count, mean, standard deviation, min, max)"
   ]
  },
  {
   "cell_type": "code",
   "execution_count": 24,
   "metadata": {},
   "outputs": [
    {
     "name": "stdout",
     "output_type": "stream",
     "text": [
      "+-------+--------------+--------+------------------+------------------+-------+--------------------+-----------------+\n",
      "|summary|          Name|   Genre|            Length|             Score|Country|                Year|           Budget|\n",
      "+-------+--------------+--------+------------------+------------------+-------+--------------------+-----------------+\n",
      "|  count|            99|      99|                99|                99|     99|                  99|               99|\n",
      "|   mean|          null|    null|             103.0|  6.46969696969697|   null|              1986.0|  8515010.1010101|\n",
      "| stddev|          null|    null|13.659115219201741|0.9129962497916303|   null|                 0.0|9285823.428473907|\n",
      "|    min|    52 Pick-Up|  Action|                74|               3.8|  Films|                1986|                0|\n",
      "|    max|¡Three Amigos!|Thriller|               149|               8.4|    USA|Savage Steve Holland|         40000000|\n",
      "+-------+--------------+--------+------------------+------------------+-------+--------------------+-----------------+\n",
      "\n"
     ]
    }
   ],
   "source": [
    "pandasRdd.describe().show()"
   ]
  }
 ],
 "metadata": {
  "kernelspec": {
   "display_name": "Python 3",
   "language": "python",
   "name": "python3"
  },
  "language_info": {
   "codemirror_mode": {
    "name": "ipython",
    "version": 3
   },
   "file_extension": ".py",
   "mimetype": "text/x-python",
   "name": "python",
   "nbconvert_exporter": "python",
   "pygments_lexer": "ipython3",
   "version": "3.7.1"
  }
 },
 "nbformat": 4,
 "nbformat_minor": 2
}
