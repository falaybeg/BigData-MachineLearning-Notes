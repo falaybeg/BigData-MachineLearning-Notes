{
 "cells": [
  {
   "cell_type": "markdown",
   "metadata": {},
   "source": [
    "# 5.1 Pair RDD Examples"
   ]
  },
  {
   "cell_type": "code",
   "execution_count": 1,
   "metadata": {},
   "outputs": [],
   "source": [
    "import findspark \n",
    "findspark.init()"
   ]
  },
  {
   "cell_type": "code",
   "execution_count": 2,
   "metadata": {},
   "outputs": [],
   "source": [
    "from pyspark.sql import SparkSession"
   ]
  },
  {
   "cell_type": "code",
   "execution_count": 3,
   "metadata": {},
   "outputs": [],
   "source": [
    "pyspark = SparkSession.builder \\\n",
    ".master(\"local[4]\")\\\n",
    ".appName(\"PairRDD\")\\\n",
    ".config(\"spark.executer.memory\",\"2g\")\\\n",
    ".config(\"spark.driver.memory\",\"2g\")\\\n",
    ".getOrCreate()"
   ]
  },
  {
   "cell_type": "code",
   "execution_count": 4,
   "metadata": {},
   "outputs": [],
   "source": [
    "retailData = sc.textFile(\"data/OnlineRetail.csv\")"
   ]
  },
  {
   "cell_type": "code",
   "execution_count": 5,
   "metadata": {},
   "outputs": [
    {
     "data": {
      "text/plain": [
       "['InvoiceNo;StockCode;Description;Quantity;InvoiceDate;UnitPrice;CustomerID;Country',\n",
       " '536365;85123A;WHITE HANGING HEART T-LIGHT HOLDER;6;1.12.2010 08:26;2,55;17850;United Kingdom',\n",
       " '536365;71053;WHITE METAL LANTERN;6;1.12.2010 08:26;3,39;17850;United Kingdom',\n",
       " '536365;84406B;CREAM CUPID HEARTS COAT HANGER;8;1.12.2010 08:26;2,75;17850;United Kingdom',\n",
       " '536365;84029G;KNITTED UNION FLAG HOT WATER BOTTLE;6;1.12.2010 08:26;3,39;17850;United Kingdom',\n",
       " '536365;84029E;RED WOOLLY HOTTIE WHITE HEART.;6;1.12.2010 08:26;3,39;17850;United Kingdom',\n",
       " '536365;22752;SET 7 BABUSHKA NESTING BOXES;2;1.12.2010 08:26;7,65;17850;United Kingdom',\n",
       " '536365;21730;GLASS STAR FROSTED T-LIGHT HOLDER;6;1.12.2010 08:26;4,25;17850;United Kingdom',\n",
       " '536366;22633;HAND WARMER UNION JACK;6;1.12.2010 08:28;1,85;17850;United Kingdom',\n",
       " '536366;22632;HAND WARMER RED POLKA DOT;6;1.12.2010 08:28;1,85;17850;United Kingdom']"
      ]
     },
     "execution_count": 5,
     "metadata": {},
     "output_type": "execute_result"
    }
   ],
   "source": [
    "retailData.take(10)"
   ]
  },
  {
   "cell_type": "markdown",
   "metadata": {},
   "source": [
    "### Method 1: Removing first column names"
   ]
  },
  {
   "cell_type": "code",
   "execution_count": 6,
   "metadata": {},
   "outputs": [],
   "source": [
    "firstline = retailData.first()\n",
    "firstline = [firstline]"
   ]
  },
  {
   "cell_type": "code",
   "execution_count": 7,
   "metadata": {},
   "outputs": [],
   "source": [
    "firstlineRdd = sc.parallelize(firstline)"
   ]
  },
  {
   "cell_type": "code",
   "execution_count": 8,
   "metadata": {},
   "outputs": [],
   "source": [
    "retailWithoutHeader = retailData.subtract(firstlineRdd)"
   ]
  },
  {
   "cell_type": "code",
   "execution_count": 9,
   "metadata": {},
   "outputs": [
    {
     "data": {
      "text/plain": [
       "['536366;22632;HAND WARMER RED POLKA DOT;6;1.12.2010 08:28;1,85;17850;United Kingdom',\n",
       " '536367;22749;FELTCRAFT PRINCESS CHARLOTTE DOLL;8;1.12.2010 08:34;3,75;13047;United Kingdom',\n",
       " '536367;22310;IVORY KNITTED MUG COSY;6;1.12.2010 08:34;1,65;13047;United Kingdom',\n",
       " '536370;22900;SET 2 TEA TOWELS I LOVE LONDON;24;1.12.2010 08:45;2,95;12583;France',\n",
       " '536372;22633;HAND WARMER UNION JACK;6;1.12.2010 09:01;1,85;17850;United Kingdom']"
      ]
     },
     "execution_count": 9,
     "metadata": {},
     "output_type": "execute_result"
    }
   ],
   "source": [
    "retailWithoutHeader.take(5)"
   ]
  },
  {
   "cell_type": "markdown",
   "metadata": {},
   "source": [
    "### Method 2: Removing first column names"
   ]
  },
  {
   "cell_type": "code",
   "execution_count": 10,
   "metadata": {},
   "outputs": [],
   "source": [
    "retailData = retailData.filter(lambda x: \"InvoiceNo\" not in x)"
   ]
  },
  {
   "cell_type": "code",
   "execution_count": 11,
   "metadata": {},
   "outputs": [
    {
     "data": {
      "text/plain": [
       "['536365;85123A;WHITE HANGING HEART T-LIGHT HOLDER;6;1.12.2010 08:26;2,55;17850;United Kingdom',\n",
       " '536365;71053;WHITE METAL LANTERN;6;1.12.2010 08:26;3,39;17850;United Kingdom',\n",
       " '536365;84406B;CREAM CUPID HEARTS COAT HANGER;8;1.12.2010 08:26;2,75;17850;United Kingdom',\n",
       " '536365;84029G;KNITTED UNION FLAG HOT WATER BOTTLE;6;1.12.2010 08:26;3,39;17850;United Kingdom',\n",
       " '536365;84029E;RED WOOLLY HOTTIE WHITE HEART.;6;1.12.2010 08:26;3,39;17850;United Kingdom']"
      ]
     },
     "execution_count": 11,
     "metadata": {},
     "output_type": "execute_result"
    }
   ],
   "source": [
    "retailData.take(5)"
   ]
  },
  {
   "cell_type": "markdown",
   "metadata": {},
   "source": [
    "### [Example]: Filtering of products which quantities are higher than 30"
   ]
  },
  {
   "cell_type": "code",
   "execution_count": 12,
   "metadata": {},
   "outputs": [
    {
     "data": {
      "text/plain": [
       "['536370;22900;SET 2 TEA TOWELS I LOVE LONDON;24;1.12.2010 08:45;2,95;12583;France',\n",
       " '536390;85123A;WHITE HANGING HEART T-LIGHT HOLDER;64;1.12.2010 10:19;2,55;17511;United Kingdom',\n",
       " '536394;22866;HAND WARMER SCOTTY DOG DESIGN;96;1.12.2010 10:39;1,85;13408;United Kingdom',\n",
       " '536405;20914;SET/5 RED RETROSPOT LID GLASS BOWLS;128;1.12.2010 11:32;2,55;14045;United Kingdom',\n",
       " '536409;16238;PARTY TIME PENCIL ERASERS;28;1.12.2010 11:45;0,21;17908;United Kingdom']"
      ]
     },
     "execution_count": 12,
     "metadata": {},
     "output_type": "execute_result"
    }
   ],
   "source": [
    "retailWithoutHeader.filter(lambda x: int(x.split(\";\")[3]) > 20).take(5)"
   ]
  },
  {
   "cell_type": "markdown",
   "metadata": {},
   "source": [
    "### [Example]: Filtering of products which contain COFFEE"
   ]
  },
  {
   "cell_type": "code",
   "execution_count": 13,
   "metadata": {},
   "outputs": [
    {
     "data": {
      "text/plain": [
       "['537051;22305;COFFEE MUG PINK PAISLEY DESIGN;6;5.12.2010 11:12;2,55;15708;United Kingdom',\n",
       " '537137;22300;COFFEE MUG DOG + BALL DESIGN;1;5.12.2010 12:43;2,55;16327;United Kingdom',\n",
       " '537231;22304;COFFEE MUG BLUE PAISLEY DESIGN;6;6.12.2010 09:21;2,55;13652;United Kingdom',\n",
       " '537463;22301;COFFEE MUG CAT + BIRD DESIGN;18;7.12.2010 10:08;2,55;12681;France',\n",
       " '537595;21216;SET 3 RETROSPOT TEA,COFFEE,SUGAR;1;7.12.2010 12:29;4,95;13569;United Kingdom',\n",
       " '537604;22304;COFFEE MUG BLUE PAISLEY DESIGN;12;7.12.2010 13:01;2,55;13488;United Kingdom',\n",
       " '537638;37370;RETRO COFFEE MUGS ASSORTED;1;7.12.2010 15:28;16,13;000000;United Kingdom',\n",
       " '537641;37370;RETRO COFFEE MUGS ASSORTED;1;7.12.2010 15:32;16,13;000000;United Kingdom',\n",
       " '537643;22301;COFFEE MUG CAT + BIRD DESIGN;2;7.12.2010 15:34;5,06;000000;United Kingdom',\n",
       " '537666;37370;RETRO COFFEE MUGS ASSORTED;2;7.12.2010 18:36;16,13;000000;United Kingdom']"
      ]
     },
     "execution_count": 13,
     "metadata": {},
     "output_type": "execute_result"
    }
   ],
   "source": [
    "retailWithoutHeader.filter(lambda x: \"COFFEE\" in x.split(\";\")[2]).take(10)"
   ]
  },
  {
   "cell_type": "markdown",
   "metadata": {},
   "source": [
    "### [Example]: Filtering of products by Quantity and COFFEE"
   ]
  },
  {
   "cell_type": "markdown",
   "metadata": {},
   "source": [
    "#### Without using Function"
   ]
  },
  {
   "cell_type": "code",
   "execution_count": 14,
   "metadata": {},
   "outputs": [
    {
     "data": {
      "text/plain": [
       "['538656;37370;RETRO COFFEE MUGS ASSORTED;30;13.12.2010 15:20;1,25;17371;United Kingdom',\n",
       " '540316;37342;POLKADOT COFFEE CUP & SAUCER PINK;24;6.01.2011 13:00;0,85;16676;United Kingdom',\n",
       " '540459;22971;QUEENS GUARD COFFEE MUG;36;7.01.2011 12:35;2,1;16191;United Kingdom',\n",
       " '541220;22305;COFFEE MUG PINK PAISLEY DESIGN;216;14.01.2011 14:11;2,1;14156;EIRE',\n",
       " '543594;22303;COFFEE MUG APPLES DESIGN;36;10.02.2011 12:15;2,1;18093;United Kingdom']"
      ]
     },
     "execution_count": 14,
     "metadata": {},
     "output_type": "execute_result"
    }
   ],
   "source": [
    "retailWithoutHeader.filter(lambda x: (\"COFFEE\" in x.split(\";\")[2]) & (int(x.split(\";\")[3])> 20)).take(5)"
   ]
  },
  {
   "cell_type": "markdown",
   "metadata": {},
   "source": [
    "#### By using function"
   ]
  },
  {
   "cell_type": "code",
   "execution_count": 15,
   "metadata": {},
   "outputs": [],
   "source": [
    "def filtering(x):\n",
    "    quantity = int(x.split(\";\")[3])\n",
    "    description = x.split(\";\")[2]\n",
    "    \n",
    "    return (quantity > 20) & (\"COFFEE\" in description)"
   ]
  },
  {
   "cell_type": "code",
   "execution_count": 16,
   "metadata": {},
   "outputs": [
    {
     "data": {
      "text/plain": [
       "['538656;37370;RETRO COFFEE MUGS ASSORTED;30;13.12.2010 15:20;1,25;17371;United Kingdom',\n",
       " '540316;37342;POLKADOT COFFEE CUP & SAUCER PINK;24;6.01.2011 13:00;0,85;16676;United Kingdom',\n",
       " '540459;22971;QUEENS GUARD COFFEE MUG;36;7.01.2011 12:35;2,1;16191;United Kingdom',\n",
       " '541220;22305;COFFEE MUG PINK PAISLEY DESIGN;216;14.01.2011 14:11;2,1;14156;EIRE',\n",
       " '543594;22303;COFFEE MUG APPLES DESIGN;36;10.02.2011 12:15;2,1;18093;United Kingdom']"
      ]
     },
     "execution_count": 16,
     "metadata": {},
     "output_type": "execute_result"
    }
   ],
   "source": [
    "retailWithoutHeader.filter(lambda x: filtering(x)).take(5)"
   ]
  },
  {
   "cell_type": "markdown",
   "metadata": {},
   "source": [
    "### [Example]: Cancelled total order prices"
   ]
  },
  {
   "cell_type": "markdown",
   "metadata": {},
   "source": [
    "#### Without using function"
   ]
  },
  {
   "cell_type": "code",
   "execution_count": 17,
   "metadata": {},
   "outputs": [
    {
     "data": {
      "text/plain": [
       "['C536548;22631;CIRCUS PARADE LUNCH BOX;-1;1.12.2010 14:33;1,95;12472;Germany',\n",
       " 'C536548;22580;ADVENT CALENDAR GINGHAM SACK;-4;1.12.2010 14:33;5,95;12472;Germany',\n",
       " 'C536606;20914;SET/5 RED RETROSPOT LID GLASS BOWLS;-2;2.12.2010 09:10;2,95;14092;United Kingdom',\n",
       " 'C536807;22778;GLASS CLOCHE SMALL;-1;2.12.2010 16:45;3,95;15834;United Kingdom',\n",
       " 'C536825;22197;SMALL POPCORN HOLDER;-2;2.12.2010 17:27;0,85;15384;United Kingdom']"
      ]
     },
     "execution_count": 17,
     "metadata": {},
     "output_type": "execute_result"
    }
   ],
   "source": [
    "cancelledOrder = retailWithoutHeader.filter(lambda x: x.split(\";\")[0].startswith(\"C\"))\n",
    "cancelledOrder.take(5)"
   ]
  },
  {
   "cell_type": "markdown",
   "metadata": {},
   "source": [
    "#### By using function\n",
    "<font size=3>cancelled_price returns finds cancelled orders and total prices</font>"
   ]
  },
  {
   "cell_type": "code",
   "execution_count": 18,
   "metadata": {},
   "outputs": [],
   "source": [
    "def cancelled_price(line):\n",
    "    is_cancelled = True if (line.split(\";\")[0].startswith(\"C\")) else False\n",
    "    quantity = float(line.split(\";\")[3])\n",
    "    price = float(line.split(\";\")[5].replace(\",\",\".\"))\n",
    "    total = quantity * price\n",
    "    return (is_cancelled, total)"
   ]
  },
  {
   "cell_type": "markdown",
   "metadata": {},
   "source": [
    "#### Every cancelled orders are mapped with its price and status\n"
   ]
  },
  {
   "cell_type": "code",
   "execution_count": 19,
   "metadata": {},
   "outputs": [],
   "source": [
    "cancelled_total = retailWithoutHeader.map(cancelled_price)"
   ]
  },
  {
   "cell_type": "code",
   "execution_count": 20,
   "metadata": {},
   "outputs": [
    {
     "data": {
      "text/plain": [
       "[(False, 11.100000000000001),\n",
       " (False, 30.0),\n",
       " (False, 9.899999999999999),\n",
       " (False, 70.80000000000001),\n",
       " (False, 11.100000000000001)]"
      ]
     },
     "execution_count": 20,
     "metadata": {},
     "output_type": "execute_result"
    }
   ],
   "source": [
    "cancelled_total.take(5)"
   ]
  },
  {
   "cell_type": "markdown",
   "metadata": {},
   "source": [
    "#### Finding summation of cancelled costs by using reduceByKey()"
   ]
  },
  {
   "cell_type": "code",
   "execution_count": 21,
   "metadata": {},
   "outputs": [],
   "source": [
    "cancelled_total_reduce = cancelled_total.reduceByKey(lambda x,y: x+y)"
   ]
  },
  {
   "cell_type": "code",
   "execution_count": 22,
   "metadata": {},
   "outputs": [
    {
     "data": {
      "text/plain": [
       "[(False, 10644560.424000185), (True, -896812.4899999995)]"
      ]
     },
     "execution_count": 22,
     "metadata": {},
     "output_type": "execute_result"
    }
   ],
   "source": [
    "cancelled_total_reduce.take(5)"
   ]
  },
  {
   "cell_type": "markdown",
   "metadata": {},
   "source": [
    "#### Finding Total Cancelled Cost"
   ]
  },
  {
   "cell_type": "code",
   "execution_count": 23,
   "metadata": {},
   "outputs": [
    {
     "name": "stdout",
     "output_type": "stream",
     "text": [
      "Total Cancelled Cost:  -896812.4899999995\n"
     ]
    }
   ],
   "source": [
    "total = cancelled_total_reduce.filter(lambda x: x[0] == True).map(lambda x: x[1]).take(1)\n",
    "print(\"Total Cancelled Cost: \", total[0])"
   ]
  },
  {
   "cell_type": "markdown",
   "metadata": {},
   "source": [
    "### [Example]: Calculation of Average Film Length according to Genre by using mapValues() and reduceByKey()"
   ]
  },
  {
   "cell_type": "code",
   "execution_count": 24,
   "metadata": {},
   "outputs": [],
   "source": [
    "filmRdd = sc.textFile(\"data/film_data.csv\")"
   ]
  },
  {
   "cell_type": "code",
   "execution_count": 25,
   "metadata": {},
   "outputs": [
    {
     "data": {
      "text/plain": [
       "['Name,Genre,Length,Score,Country,Year,Budget',\n",
       " 'stand by Me,Adventure,89,8.1,USA,1986,8000000',\n",
       " \"ferris Bueller's Day Off,Comedy,103,7.8,USA,1986,6000000\"]"
      ]
     },
     "execution_count": 25,
     "metadata": {},
     "output_type": "execute_result"
    }
   ],
   "source": [
    "filmRdd.take(3)"
   ]
  },
  {
   "cell_type": "code",
   "execution_count": 26,
   "metadata": {},
   "outputs": [],
   "source": [
    "filmRdd = filmRdd.filter(lambda x: \"Name\" not in x)"
   ]
  },
  {
   "cell_type": "code",
   "execution_count": 27,
   "metadata": {},
   "outputs": [
    {
     "data": {
      "text/plain": [
       "['stand by Me,Adventure,89,8.1,USA,1986,8000000',\n",
       " \"ferris Bueller's Day Off,Comedy,103,7.8,USA,1986,6000000\",\n",
       " 'Top Gun,Action,110,6.9,USA,1986,15000000']"
      ]
     },
     "execution_count": 27,
     "metadata": {},
     "output_type": "execute_result"
    }
   ],
   "source": [
    "filmRdd.take(3)"
   ]
  },
  {
   "cell_type": "markdown",
   "metadata": {},
   "source": [
    "#### --> By using function"
   ]
  },
  {
   "cell_type": "code",
   "execution_count": 28,
   "metadata": {},
   "outputs": [],
   "source": [
    "def length_genre(line):\n",
    "    genre = line.split(\",\")[1]\n",
    "    length = float(line.split(\",\")[2])\n",
    "    \n",
    "    return (genre,length)"
   ]
  },
  {
   "cell_type": "code",
   "execution_count": 29,
   "metadata": {},
   "outputs": [],
   "source": [
    "genre_length_pairRdd = filmRdd.map(length_genre)"
   ]
  },
  {
   "cell_type": "code",
   "execution_count": 30,
   "metadata": {},
   "outputs": [
    {
     "data": {
      "text/plain": [
       "[('Adventure', 89.0),\n",
       " ('Comedy', 103.0),\n",
       " ('Action', 110.0),\n",
       " ('Action', 137.0),\n",
       " ('Adventure', 90.0)]"
      ]
     },
     "execution_count": 30,
     "metadata": {},
     "output_type": "execute_result"
    }
   ],
   "source": [
    "genre_length_pairRdd.take(5)"
   ]
  },
  {
   "cell_type": "markdown",
   "metadata": {},
   "source": [
    "#### --> Without using function"
   ]
  },
  {
   "cell_type": "code",
   "execution_count": 31,
   "metadata": {},
   "outputs": [],
   "source": [
    "genre_length_pairRdd = filmRdd.map(lambda x: ((x.split(\",\")[1]) , (float(x.split(\",\")[2]))))"
   ]
  },
  {
   "cell_type": "code",
   "execution_count": 32,
   "metadata": {},
   "outputs": [
    {
     "data": {
      "text/plain": [
       "[('Adventure', 89.0),\n",
       " ('Comedy', 103.0),\n",
       " ('Action', 110.0),\n",
       " ('Action', 137.0),\n",
       " ('Adventure', 90.0)]"
      ]
     },
     "execution_count": 32,
     "metadata": {},
     "output_type": "execute_result"
    }
   ],
   "source": [
    "genre_length_pairRdd.take(5)"
   ]
  },
  {
   "cell_type": "markdown",
   "metadata": {},
   "source": [
    "### --> Finding total length and movie count by Genre"
   ]
  },
  {
   "cell_type": "code",
   "execution_count": 33,
   "metadata": {},
   "outputs": [
    {
     "data": {
      "text/plain": [
       "[('Adventure', (89.0, 1)),\n",
       " ('Comedy', (103.0, 1)),\n",
       " ('Action', (110.0, 1)),\n",
       " ('Action', (137.0, 1)),\n",
       " ('Adventure', (90.0, 1))]"
      ]
     },
     "execution_count": 33,
     "metadata": {},
     "output_type": "execute_result"
    }
   ],
   "source": [
    "genre_length = genre_length_pairRdd.mapValues(lambda x: (x,1))\n",
    "genre_length.take(5)"
   ]
  },
  {
   "cell_type": "code",
   "execution_count": 34,
   "metadata": {},
   "outputs": [],
   "source": [
    "genre_length = genre_length.reduceByKey(lambda x,y: (x[0] + y[0] , x[1] + y[1]))"
   ]
  },
  {
   "cell_type": "code",
   "execution_count": 35,
   "metadata": {},
   "outputs": [
    {
     "data": {
      "text/plain": [
       "[('Action', (2329.0, 22)),\n",
       " ('Drama', (1689.0, 15)),\n",
       " ('Thriller', (97.0, 1)),\n",
       " ('Horror', (643.0, 7)),\n",
       " ('Biography', (195.0, 2)),\n",
       " ('Sci-Fi', (117.0, 1)),\n",
       " ('Adventure', (1154.0, 11)),\n",
       " ('Comedy', (2982.0, 30)),\n",
       " ('Crime', (543.0, 5)),\n",
       " ('Animation', (318.0, 4))]"
      ]
     },
     "execution_count": 35,
     "metadata": {},
     "output_type": "execute_result"
    }
   ],
   "source": [
    "genre_length.collect()"
   ]
  },
  {
   "cell_type": "markdown",
   "metadata": {},
   "source": [
    "### [Example]: Finding average movie duration by Genre"
   ]
  },
  {
   "cell_type": "code",
   "execution_count": 36,
   "metadata": {},
   "outputs": [
    {
     "data": {
      "text/plain": [
       "[('Action', 105.86363636363636),\n",
       " ('Drama', 112.6),\n",
       " ('Thriller', 97.0),\n",
       " ('Horror', 91.85714285714286),\n",
       " ('Biography', 97.5),\n",
       " ('Sci-Fi', 117.0),\n",
       " ('Adventure', 104.9090909090909),\n",
       " ('Comedy', 99.4),\n",
       " ('Crime', 108.6),\n",
       " ('Animation', 79.5)]"
      ]
     },
     "execution_count": 36,
     "metadata": {},
     "output_type": "execute_result"
    }
   ],
   "source": [
    "average = genre_length.mapValues(lambda x: x[0] / x[1])\n",
    "average.collect()"
   ]
  },
  {
   "cell_type": "markdown",
   "metadata": {},
   "source": [
    "### [Example]: The longest movie duration by Genre"
   ]
  },
  {
   "cell_type": "code",
   "execution_count": 37,
   "metadata": {},
   "outputs": [
    {
     "data": {
      "text/plain": [
       "[('Sci-Fi', 117.0),\n",
       " ('Drama', 112.6),\n",
       " ('Crime', 108.6),\n",
       " ('Action', 105.86363636363636),\n",
       " ('Adventure', 104.9090909090909),\n",
       " ('Comedy', 99.4),\n",
       " ('Biography', 97.5),\n",
       " ('Thriller', 97.0),\n",
       " ('Horror', 91.85714285714286),\n",
       " ('Animation', 79.5)]"
      ]
     },
     "execution_count": 37,
     "metadata": {},
     "output_type": "execute_result"
    }
   ],
   "source": [
    "average = average.map(lambda x: (x[1], x[0])).sortByKey(False)\n",
    "average.map(lambda x: (x[1], x[0])).take(10)"
   ]
  },
  {
   "cell_type": "markdown",
   "metadata": {},
   "source": [
    "#  Joining of two RDD by PrimaryKey and ForeignKey\n",
    "## [Example]: Joining of OrderItems and Products tables"
   ]
  },
  {
   "cell_type": "code",
   "execution_count": 38,
   "metadata": {},
   "outputs": [],
   "source": [
    "order_items = sc.textFile(\"data/retail_db/order_items.csv\")\n",
    "products = sc.textFile(\"data/retail_db/products.csv\")"
   ]
  },
  {
   "cell_type": "markdown",
   "metadata": {},
   "source": [
    "### --> Data with column names"
   ]
  },
  {
   "cell_type": "code",
   "execution_count": 39,
   "metadata": {},
   "outputs": [
    {
     "data": {
      "text/plain": [
       "['orderItemName,orderItemOrderId,orderItemProductId,orderItemQuantity,orderItemSubTotal,orderItemProductPrice',\n",
       " '1,1,957,1,299.98,299.98',\n",
       " '2,2,1073,1,199.99,199.99',\n",
       " '3,2,502,5,250.0,50.0',\n",
       " '4,2,403,1,129.99,129.99']"
      ]
     },
     "execution_count": 39,
     "metadata": {},
     "output_type": "execute_result"
    }
   ],
   "source": [
    "order_items.take(5)"
   ]
  },
  {
   "cell_type": "code",
   "execution_count": 40,
   "metadata": {},
   "outputs": [
    {
     "data": {
      "text/plain": [
       "['productId,productCategoryId,productName,productDescription,productPrice,productImage',\n",
       " '1,2,Quest Q64 10 FT. x 10 FT. Slant Leg Instant U,,59.98,http://images.acmesports.sports/Quest+Q64+10+FT.+x+10+FT.+Slant+Leg+Instant+Up+Canopy',\n",
       " \"2,2,Under Armour Men's Highlight MC Football Clea,,129.99,http://images.acmesports.sports/Under+Armour+Men%27s+Highlight+MC+Football+Cleat\",\n",
       " \"3,2,Under Armour Men's Renegade D Mid Football Cl,,89.99,http://images.acmesports.sports/Under+Armour+Men%27s+Renegade+D+Mid+Football+Cleat\",\n",
       " \"4,2,Under Armour Men's Renegade D Mid Football Cl,,89.99,http://images.acmesports.sports/Under+Armour+Men%27s+Renegade+D+Mid+Football+Cleat\"]"
      ]
     },
     "execution_count": 40,
     "metadata": {},
     "output_type": "execute_result"
    }
   ],
   "source": [
    "products.take(5)"
   ]
  },
  {
   "cell_type": "markdown",
   "metadata": {},
   "source": [
    "### --> Removing column names by using filter()"
   ]
  },
  {
   "cell_type": "code",
   "execution_count": 41,
   "metadata": {},
   "outputs": [],
   "source": [
    "order_items_rdd = order_items.filter(lambda x: \"orderItemName\" not in x)\n",
    "products_rdd = products.filter(lambda x: \"productCategoryId\" not in x)"
   ]
  },
  {
   "cell_type": "code",
   "execution_count": 42,
   "metadata": {},
   "outputs": [
    {
     "data": {
      "text/plain": [
       "['productId,productCategoryId,productName,productDescription,productPrice,productImage',\n",
       " '1,2,Quest Q64 10 FT. x 10 FT. Slant Leg Instant U,,59.98,http://images.acmesports.sports/Quest+Q64+10+FT.+x+10+FT.+Slant+Leg+Instant+Up+Canopy',\n",
       " \"2,2,Under Armour Men's Highlight MC Football Clea,,129.99,http://images.acmesports.sports/Under+Armour+Men%27s+Highlight+MC+Football+Cleat\"]"
      ]
     },
     "execution_count": 42,
     "metadata": {},
     "output_type": "execute_result"
    }
   ],
   "source": [
    "products.take(3)"
   ]
  },
  {
   "cell_type": "code",
   "execution_count": 43,
   "metadata": {},
   "outputs": [
    {
     "data": {
      "text/plain": [
       "['orderItemName,orderItemOrderId,orderItemProductId,orderItemQuantity,orderItemSubTotal,orderItemProductPrice',\n",
       " '1,1,957,1,299.98,299.98',\n",
       " '2,2,1073,1,199.99,199.99']"
      ]
     },
     "execution_count": 43,
     "metadata": {},
     "output_type": "execute_result"
    }
   ],
   "source": [
    "order_items.take(3)"
   ]
  },
  {
   "cell_type": "markdown",
   "metadata": {},
   "source": [
    "## --> Converting loaded data to Pair RDD"
   ]
  },
  {
   "cell_type": "code",
   "execution_count": 44,
   "metadata": {},
   "outputs": [],
   "source": [
    "def makeOrderItemsPairRddFunc(line):\n",
    "    orderItemName = line.split(\",\")[0]\n",
    "    orderItemOrderId = line.split(\",\")[1]\n",
    "    orderItemProductId = line.split(\",\")[2]\n",
    "    orderItemQuantity = line.split(\",\")[3]\n",
    "    orderItemSubTotal = line.split(\",\")[4]\n",
    "    orderItemProductPrice = line.split(\",\")[5]\n",
    "    \n",
    "    return (orderItemProductId, (orderItemName, orderItemOrderId, orderItemQuantity, orderItemSubTotal, orderItemProductPrice))"
   ]
  },
  {
   "cell_type": "code",
   "execution_count": 45,
   "metadata": {},
   "outputs": [],
   "source": [
    "order_items_pairRDD = order_items_rdd.map(makeOrderItemsPairRddFunc)"
   ]
  },
  {
   "cell_type": "code",
   "execution_count": 46,
   "metadata": {},
   "outputs": [],
   "source": [
    "orderItemRddWithoutFunction = order_items_rdd.map(lambda line: (line.split(\",\")[2],\\\n",
    "                                                                (line.split(\",\")[0],\\\n",
    "                                                                 line.split(\",\")[1],\\\n",
    "                                                                 line.split(\",\")[3],\\\n",
    "                                                                 line.split(\",\")[4],\\\n",
    "                                                                 line.split(\",\")[5])))"
   ]
  },
  {
   "cell_type": "code",
   "execution_count": 47,
   "metadata": {},
   "outputs": [
    {
     "data": {
      "text/plain": [
       "[('957', ('1', '1', '1', '299.98', '299.98')),\n",
       " ('1073', ('2', '2', '1', '199.99', '199.99')),\n",
       " ('502', ('3', '2', '5', '250.0', '50.0')),\n",
       " ('403', ('4', '2', '1', '129.99', '129.99')),\n",
       " ('897', ('5', '4', '2', '49.98', '24.99')),\n",
       " ('365', ('6', '4', '5', '299.95', '59.99')),\n",
       " ('502', ('7', '4', '3', '150.0', '50.0')),\n",
       " ('1014', ('8', '4', '4', '199.92', '49.98')),\n",
       " ('957', ('9', '5', '1', '299.98', '299.98')),\n",
       " ('365', ('10', '5', '5', '299.95', '59.99'))]"
      ]
     },
     "execution_count": 47,
     "metadata": {},
     "output_type": "execute_result"
    }
   ],
   "source": [
    "order_items_pairRDD.take(10)"
   ]
  },
  {
   "cell_type": "code",
   "execution_count": 48,
   "metadata": {},
   "outputs": [
    {
     "data": {
      "text/plain": [
       "[('957', ('1', '1', '1', '299.98', '299.98')),\n",
       " ('1073', ('2', '2', '1', '199.99', '199.99')),\n",
       " ('502', ('3', '2', '5', '250.0', '50.0')),\n",
       " ('403', ('4', '2', '1', '129.99', '129.99')),\n",
       " ('897', ('5', '4', '2', '49.98', '24.99')),\n",
       " ('365', ('6', '4', '5', '299.95', '59.99')),\n",
       " ('502', ('7', '4', '3', '150.0', '50.0')),\n",
       " ('1014', ('8', '4', '4', '199.92', '49.98')),\n",
       " ('957', ('9', '5', '1', '299.98', '299.98')),\n",
       " ('365', ('10', '5', '5', '299.95', '59.99'))]"
      ]
     },
     "execution_count": 48,
     "metadata": {},
     "output_type": "execute_result"
    }
   ],
   "source": [
    "orderItemRddWithoutFunction.take(10)"
   ]
  },
  {
   "cell_type": "code",
   "execution_count": 49,
   "metadata": {},
   "outputs": [],
   "source": [
    "def makeProductPairRddFunc(line):\n",
    "    productId = line.split(\",\")[0]\n",
    "    productCategoryId = line.split(\",\")[1]\n",
    "    productName = line.split(\",\")[2]\n",
    "    productDescription = line.split(\",\")[3]\n",
    "    productPrice = line.split(\",\")[4]\n",
    "    productImage = line.split(\",\")[5]\n",
    "    \n",
    "    return (productId, (productCategoryId, productName,productDescription, productPrice, productImage))"
   ]
  },
  {
   "cell_type": "code",
   "execution_count": 50,
   "metadata": {},
   "outputs": [],
   "source": [
    "products_pairRdd = products_rdd.map(makeProductPairRddFunc)"
   ]
  },
  {
   "cell_type": "code",
   "execution_count": 51,
   "metadata": {},
   "outputs": [
    {
     "data": {
      "text/plain": [
       "[('1',\n",
       "  ('2',\n",
       "   'Quest Q64 10 FT. x 10 FT. Slant Leg Instant U',\n",
       "   '',\n",
       "   '59.98',\n",
       "   'http://images.acmesports.sports/Quest+Q64+10+FT.+x+10+FT.+Slant+Leg+Instant+Up+Canopy')),\n",
       " ('2',\n",
       "  ('2',\n",
       "   \"Under Armour Men's Highlight MC Football Clea\",\n",
       "   '',\n",
       "   '129.99',\n",
       "   'http://images.acmesports.sports/Under+Armour+Men%27s+Highlight+MC+Football+Cleat')),\n",
       " ('3',\n",
       "  ('2',\n",
       "   \"Under Armour Men's Renegade D Mid Football Cl\",\n",
       "   '',\n",
       "   '89.99',\n",
       "   'http://images.acmesports.sports/Under+Armour+Men%27s+Renegade+D+Mid+Football+Cleat'))]"
      ]
     },
     "execution_count": 51,
     "metadata": {},
     "output_type": "execute_result"
    }
   ],
   "source": [
    "products_pairRdd.take(3)"
   ]
  },
  {
   "cell_type": "markdown",
   "metadata": {},
   "source": [
    "## --> Join OrderItems and Product Pair RDDs"
   ]
  },
  {
   "cell_type": "code",
   "execution_count": 52,
   "metadata": {},
   "outputs": [],
   "source": [
    "orderItemsProductsPairRdd = order_items_pairRDD.join(products_pairRdd)"
   ]
  },
  {
   "cell_type": "code",
   "execution_count": 53,
   "metadata": {},
   "outputs": [
    {
     "data": {
      "text/plain": [
       "[('957',\n",
       "  (('1', '1', '1', '299.98', '299.98'),\n",
       "   ('43',\n",
       "    \"Diamondback Women's Serene Classic Comfort Bi\",\n",
       "    '',\n",
       "    '299.98',\n",
       "    'http://images.acmesports.sports/Diamondback+Women%27s+Serene+Classic+Comfort+Bike+2014'))),\n",
       " ('957',\n",
       "  (('9', '5', '1', '299.98', '299.98'),\n",
       "   ('43',\n",
       "    \"Diamondback Women's Serene Classic Comfort Bi\",\n",
       "    '',\n",
       "    '299.98',\n",
       "    'http://images.acmesports.sports/Diamondback+Women%27s+Serene+Classic+Comfort+Bike+2014'))),\n",
       " ('957',\n",
       "  (('12', '5', '1', '299.98', '299.98'),\n",
       "   ('43',\n",
       "    \"Diamondback Women's Serene Classic Comfort Bi\",\n",
       "    '',\n",
       "    '299.98',\n",
       "    'http://images.acmesports.sports/Diamondback+Women%27s+Serene+Classic+Comfort+Bike+2014')))]"
      ]
     },
     "execution_count": 53,
     "metadata": {},
     "output_type": "execute_result"
    }
   ],
   "source": [
    "orderItemsProductsPairRdd.take(3)"
   ]
  },
  {
   "cell_type": "markdown",
   "metadata": {},
   "source": [
    "### [Example]: Total Product count"
   ]
  },
  {
   "cell_type": "code",
   "execution_count": 54,
   "metadata": {},
   "outputs": [
    {
     "name": "stdout",
     "output_type": "stream",
     "text": [
      "Total Products:  1345\n"
     ]
    }
   ],
   "source": [
    "count = products_pairRdd.count()\n",
    "print(\"Total Products: \", count)"
   ]
  },
  {
   "cell_type": "markdown",
   "metadata": {},
   "source": [
    "###  [Example]: Total OrderItems count"
   ]
  },
  {
   "cell_type": "code",
   "execution_count": 55,
   "metadata": {},
   "outputs": [
    {
     "name": "stdout",
     "output_type": "stream",
     "text": [
      "Total Orders Items:  172198\n"
     ]
    }
   ],
   "source": [
    "count = orderItemsProductsPairRdd.count()\n",
    "print(\"Total Orders Items: \", count)"
   ]
  },
  {
   "cell_type": "code",
   "execution_count": 56,
   "metadata": {},
   "outputs": [],
   "source": [
    "newOrderItemsProductsPairRdd = orderItemsProductsPairRdd.map(lambda x: (x[0],x[1][0],x[1][1]))"
   ]
  },
  {
   "cell_type": "code",
   "execution_count": 57,
   "metadata": {},
   "outputs": [
    {
     "data": {
      "text/plain": [
       "[('957',\n",
       "  ('1', '1', '1', '299.98', '299.98'),\n",
       "  ('43',\n",
       "   \"Diamondback Women's Serene Classic Comfort Bi\",\n",
       "   '',\n",
       "   '299.98',\n",
       "   'http://images.acmesports.sports/Diamondback+Women%27s+Serene+Classic+Comfort+Bike+2014')),\n",
       " ('957',\n",
       "  ('9', '5', '1', '299.98', '299.98'),\n",
       "  ('43',\n",
       "   \"Diamondback Women's Serene Classic Comfort Bi\",\n",
       "   '',\n",
       "   '299.98',\n",
       "   'http://images.acmesports.sports/Diamondback+Women%27s+Serene+Classic+Comfort+Bike+2014')),\n",
       " ('957',\n",
       "  ('12', '5', '1', '299.98', '299.98'),\n",
       "  ('43',\n",
       "   \"Diamondback Women's Serene Classic Comfort Bi\",\n",
       "   '',\n",
       "   '299.98',\n",
       "   'http://images.acmesports.sports/Diamondback+Women%27s+Serene+Classic+Comfort+Bike+2014'))]"
      ]
     },
     "execution_count": 57,
     "metadata": {},
     "output_type": "execute_result"
    }
   ],
   "source": [
    "newOrderItemsProductsPairRdd.take(3)"
   ]
  },
  {
   "cell_type": "markdown",
   "metadata": {},
   "source": [
    "###  [Example]: Taking particular columns from joined two RDD"
   ]
  },
  {
   "cell_type": "code",
   "execution_count": 58,
   "metadata": {},
   "outputs": [],
   "source": [
    "convertToTuple = newOrderItemsProductsPairRdd.map(lambda x:\\\n",
    "                                 (int(x[1][1]),\\\n",
    "                                  int(x[0]),\\\n",
    "                                  x[2][1],\\\n",
    "                                  float(x[2][3]),\\\n",
    "                                  int(x[1][2]),\\\n",
    "                                  float(x[1][3])))"
   ]
  },
  {
   "cell_type": "code",
   "execution_count": 59,
   "metadata": {},
   "outputs": [
    {
     "name": "stdout",
     "output_type": "stream",
     "text": [
      "(orderItemsId, productId, productName, productPrice, quantity, subTotalPrice)\n"
     ]
    },
    {
     "data": {
      "text/plain": [
       "[(1, 957, \"Diamondback Women's Serene Classic Comfort Bi\", 299.98, 1, 299.98),\n",
       " (5, 957, \"Diamondback Women's Serene Classic Comfort Bi\", 299.98, 1, 299.98),\n",
       " (5, 957, \"Diamondback Women's Serene Classic Comfort Bi\", 299.98, 1, 299.98),\n",
       " (7, 957, \"Diamondback Women's Serene Classic Comfort Bi\", 299.98, 1, 299.98),\n",
       " (12, 957, \"Diamondback Women's Serene Classic Comfort Bi\", 299.98, 1, 299.98),\n",
       " (19, 957, \"Diamondback Women's Serene Classic Comfort Bi\", 299.98, 1, 299.98),\n",
       " (23, 957, \"Diamondback Women's Serene Classic Comfort Bi\", 299.98, 1, 299.98),\n",
       " (28, 957, \"Diamondback Women's Serene Classic Comfort Bi\", 299.98, 1, 299.98),\n",
       " (28, 957, \"Diamondback Women's Serene Classic Comfort Bi\", 299.98, 1, 299.98),\n",
       " (34, 957, \"Diamondback Women's Serene Classic Comfort Bi\", 299.98, 1, 299.98)]"
      ]
     },
     "execution_count": 59,
     "metadata": {},
     "output_type": "execute_result"
    }
   ],
   "source": [
    "print(\"(orderItemsId, productId, productName, productPrice, quantity, subTotalPrice)\")\n",
    "convertToTuple.take(10)"
   ]
  },
  {
   "cell_type": "markdown",
   "metadata": {},
   "source": [
    "### [Example]: The most common products in the shopping cart."
   ]
  },
  {
   "cell_type": "code",
   "execution_count": 60,
   "metadata": {},
   "outputs": [
    {
     "data": {
      "text/plain": [
       "[('Perfect Fitness Perfect Rip Deck', 24515),\n",
       " (\"Nike Men's CJ Elite 2 TD Football Cleat\", 22246),\n",
       " (\"Nike Men's Dri-FIT Victory Golf Polo\", 21035),\n",
       " (\"O'Brien Men's Neoprene Life Vest\", 19298),\n",
       " ('Field & Stream Sportsman 16 Gun Fire Safe', 17325),\n",
       " ('Pelican Sunstream 100 Kayak', 15500),\n",
       " (\"Diamondback Women's Serene Classic Comfort Bi\", 13729),\n",
       " (\"Nike Men's Free 5.0+ Running Shoe\", 12169),\n",
       " (\"Under Armour Girls' Toddler Spine Surge Runni\", 10617),\n",
       " (\"Nike Men's Comfort 2 Slide\", 328)]"
      ]
     },
     "execution_count": 60,
     "metadata": {},
     "output_type": "execute_result"
    }
   ],
   "source": [
    "convertToTuple.map(lambda x: (x[2],1)).reduceByKey(lambda x,y: x+y).sortBy(lambda x: x[1], ascending=False).take(10)"
   ]
  },
  {
   "cell_type": "markdown",
   "metadata": {},
   "source": [
    "### [Example]: The least visible products in the shopping cart."
   ]
  },
  {
   "cell_type": "code",
   "execution_count": 61,
   "metadata": {
    "scrolled": false
   },
   "outputs": [
    {
     "data": {
      "text/plain": [
       "[('SOLE E25 Elliptical', 10),\n",
       " ('Bowflex SelectTech 1090 Dumbbells', 10),\n",
       " ('Bushnell Pro X7 Jolt Slope Rangefinder', 11),\n",
       " ('SOLE E35 Elliptical', 15),\n",
       " ('Stiga Master Series ST3100 Competition Indoor', 27),\n",
       " (\"Diamondback Girls' Clarity 24 Hybrid Bike 201\", 28),\n",
       " (\"Diamondback Boys' Insight 24 Performance Hybr\", 29),\n",
       " ('GoPro HERO3+ Black Edition Camera', 32),\n",
       " ('Titleist Club Glove Travel Cover', 34),\n",
       " ('Garmin Forerunner 910XT GPS Watch', 35)]"
      ]
     },
     "execution_count": 61,
     "metadata": {},
     "output_type": "execute_result"
    }
   ],
   "source": [
    "convertToTuple.map(lambda x: (x[2],1)).reduceByKey(lambda x,y: x+y).sortBy(lambda x: x[1], ascending=True).take(10)"
   ]
  },
  {
   "cell_type": "markdown",
   "metadata": {},
   "source": [
    "### [Example]: The most sold product (best-seller)"
   ]
  },
  {
   "cell_type": "code",
   "execution_count": 62,
   "metadata": {},
   "outputs": [
    {
     "name": "stdout",
     "output_type": "stream",
     "text": [
      "(productName, quantity)\n"
     ]
    },
    {
     "data": {
      "text/plain": [
       "[('Perfect Fitness Perfect Rip Deck', 73698),\n",
       " (\"Nike Men's Dri-FIT Victory Golf Polo\", 62956),\n",
       " (\"O'Brien Men's Neoprene Life Vest\", 57803),\n",
       " (\"Nike Men's Free 5.0+ Running Shoe\", 36680),\n",
       " (\"Under Armour Girls' Toddler Spine Surge Runni\", 31735),\n",
       " (\"Nike Men's CJ Elite 2 TD Football Cleat\", 22246),\n",
       " ('Field & Stream Sportsman 16 Gun Fire Safe', 17325),\n",
       " ('Pelican Sunstream 100 Kayak', 15500),\n",
       " (\"Diamondback Women's Serene Classic Comfort Bi\", 13729),\n",
       " ('ENO Atlas Hammock Straps', 998)]"
      ]
     },
     "execution_count": 62,
     "metadata": {},
     "output_type": "execute_result"
    }
   ],
   "source": [
    "print(\"(productName, quantity)\")\n",
    "convertToTuple.map(lambda x: (x[2],x[4])).reduceByKey(lambda x,y: x+y).sortBy(lambda x: x[1], ascending=False).take(10)"
   ]
  },
  {
   "cell_type": "markdown",
   "metadata": {},
   "source": [
    "### [Example]: The least sold product "
   ]
  },
  {
   "cell_type": "code",
   "execution_count": 63,
   "metadata": {},
   "outputs": [
    {
     "name": "stdout",
     "output_type": "stream",
     "text": [
      "(productName, quantity)\n"
     ]
    },
    {
     "data": {
      "text/plain": [
       "[('SOLE E25 Elliptical', 10),\n",
       " ('Bowflex SelectTech 1090 Dumbbells', 10),\n",
       " ('Bushnell Pro X7 Jolt Slope Rangefinder', 11),\n",
       " ('SOLE E35 Elliptical', 15),\n",
       " ('Stiga Master Series ST3100 Competition Indoor', 27),\n",
       " (\"Diamondback Girls' Clarity 24 Hybrid Bike 201\", 28),\n",
       " (\"Diamondback Boys' Insight 24 Performance Hybr\", 29),\n",
       " ('GoPro HERO3+ Black Edition Camera', 32),\n",
       " ('Titleist Club Glove Travel Cover', 34),\n",
       " ('Garmin Forerunner 910XT GPS Watch', 35)]"
      ]
     },
     "execution_count": 63,
     "metadata": {},
     "output_type": "execute_result"
    }
   ],
   "source": [
    "print(\"(productName, quantity)\")\n",
    "convertToTuple.map(lambda x: (x[2],x[4])).reduceByKey(lambda x,y: x+y).sortBy(lambda x: x[1], ascending=True).take(10)"
   ]
  },
  {
   "cell_type": "markdown",
   "metadata": {},
   "source": [
    "### [Example]: The highest 10 SubTotal Prices"
   ]
  },
  {
   "cell_type": "code",
   "execution_count": 64,
   "metadata": {},
   "outputs": [
    {
     "name": "stdout",
     "output_type": "stream",
     "text": [
      "(OrderItemsOrderId,ProductId,ProductName,ProductPrice,OrderItemQuantity,OrderItemSubTotal)\n"
     ]
    },
    {
     "data": {
      "text/plain": [
       "[(68703, 208, 'SOLE E35 Elliptical', 1999.99, 1, 1999.99),\n",
       " (68722, 208, 'SOLE E35 Elliptical', 1999.99, 1, 1999.99),\n",
       " (68724, 208, 'SOLE E35 Elliptical', 1999.99, 1, 1999.99),\n",
       " (68736, 208, 'SOLE E35 Elliptical', 1999.99, 1, 1999.99),\n",
       " (68766, 208, 'SOLE E35 Elliptical', 1999.99, 1, 1999.99),\n",
       " (68778, 208, 'SOLE E35 Elliptical', 1999.99, 1, 1999.99),\n",
       " (68806, 208, 'SOLE E35 Elliptical', 1999.99, 1, 1999.99),\n",
       " (68809, 208, 'SOLE E35 Elliptical', 1999.99, 1, 1999.99),\n",
       " (68821, 208, 'SOLE E35 Elliptical', 1999.99, 1, 1999.99),\n",
       " (68837, 208, 'SOLE E35 Elliptical', 1999.99, 1, 1999.99)]"
      ]
     },
     "execution_count": 64,
     "metadata": {},
     "output_type": "execute_result"
    }
   ],
   "source": [
    "print(\"(OrderItemsOrderId,ProductId,ProductName,ProductPrice,OrderItemQuantity,OrderItemSubTotal)\")\n",
    "convertToTuple.sortBy(lambda x: x[5], ascending = False).take(10)"
   ]
  },
  {
   "cell_type": "markdown",
   "metadata": {},
   "source": [
    "### [Example]: The lowest 10 SubTotal Prices"
   ]
  },
  {
   "cell_type": "code",
   "execution_count": 65,
   "metadata": {},
   "outputs": [
    {
     "name": "stdout",
     "output_type": "stream",
     "text": [
      "(OrderItemsOrderId,ProductId,ProductName,ProductPrice,OrderItemQuantity,OrderItemSubTotal)\n"
     ]
    },
    {
     "data": {
      "text/plain": [
       "[(234, 775, 'Clicgear 8.0 Shoe Brush', 9.99, 1, 9.99),\n",
       " (1944, 775, 'Clicgear 8.0 Shoe Brush', 9.99, 1, 9.99),\n",
       " (2023, 775, 'Clicgear 8.0 Shoe Brush', 9.99, 1, 9.99),\n",
       " (2277, 775, 'Clicgear 8.0 Shoe Brush', 9.99, 1, 9.99),\n",
       " (5404, 775, 'Clicgear 8.0 Shoe Brush', 9.99, 1, 9.99),\n",
       " (5557, 775, 'Clicgear 8.0 Shoe Brush', 9.99, 1, 9.99),\n",
       " (5597, 775, 'Clicgear 8.0 Shoe Brush', 9.99, 1, 9.99),\n",
       " (6177, 775, 'Clicgear 8.0 Shoe Brush', 9.99, 1, 9.99),\n",
       " (7361, 775, 'Clicgear 8.0 Shoe Brush', 9.99, 1, 9.99),\n",
       " (7387, 775, 'Clicgear 8.0 Shoe Brush', 9.99, 1, 9.99)]"
      ]
     },
     "execution_count": 65,
     "metadata": {},
     "output_type": "execute_result"
    }
   ],
   "source": [
    "print(\"(OrderItemsOrderId,ProductId,ProductName,ProductPrice,OrderItemQuantity,OrderItemSubTotal)\")\n",
    "convertToTuple.sortBy(lambda x: x[5], ascending = True).take(10)"
   ]
  },
  {
   "cell_type": "markdown",
   "metadata": {},
   "source": [
    "### [Example]: Calculating Total Price from SubTotals according to OrderId"
   ]
  },
  {
   "cell_type": "code",
   "execution_count": 66,
   "metadata": {},
   "outputs": [
    {
     "data": {
      "text/plain": [
       "[(1, 299.98),\n",
       " (5, 299.98),\n",
       " (5, 299.98),\n",
       " (7, 299.98),\n",
       " (12, 299.98),\n",
       " (19, 299.98),\n",
       " (23, 299.98),\n",
       " (28, 299.98),\n",
       " (28, 299.98),\n",
       " (34, 299.98)]"
      ]
     },
     "execution_count": 66,
     "metadata": {},
     "output_type": "execute_result"
    }
   ],
   "source": [
    "SubTotalByOrderId = convertToTuple.map(lambda x: (x[0], x[5]))\n",
    "SubTotalByOrderId.take(10)"
   ]
  },
  {
   "cell_type": "code",
   "execution_count": 67,
   "metadata": {},
   "outputs": [],
   "source": [
    "sumCount = SubTotalByOrderId.combineByKey(lambda value: (value, 1),\n",
    "                            lambda x, value: (x[0] + value, x[1] + 1),\n",
    "                            lambda x, y: (x[0] + y[0], x[1] + y[1]))"
   ]
  },
  {
   "cell_type": "code",
   "execution_count": 68,
   "metadata": {
    "scrolled": true
   },
   "outputs": [
    {
     "name": "stdout",
     "output_type": "stream",
     "text": [
      "(OrderId,(TotalPrice, CountSubTotal))\n"
     ]
    },
    {
     "data": {
      "text/plain": [
       "[(12, (1299.8700000000001, 5)),\n",
       " (28, (1159.9, 5)),\n",
       " (36, (799.96, 3)),\n",
       " (56, (699.89, 3)),\n",
       " (68, (299.98, 1)),\n",
       " (96, (529.9300000000001, 3)),\n",
       " (104, (549.95, 3)),\n",
       " (116, (795.9100000000001, 5)),\n",
       " (136, (299.98, 1)),\n",
       " (140, (1249.9, 5))]"
      ]
     },
     "execution_count": 68,
     "metadata": {},
     "output_type": "execute_result"
    }
   ],
   "source": [
    "print(\"(OrderId,(TotalPrice, CountSubTotal))\")\n",
    "sumCount.take(10)"
   ]
  },
  {
   "cell_type": "code",
   "execution_count": 69,
   "metadata": {},
   "outputs": [
    {
     "data": {
      "text/plain": [
       "57431"
      ]
     },
     "execution_count": 69,
     "metadata": {},
     "output_type": "execute_result"
    }
   ],
   "source": [
    "sumCount.count()"
   ]
  },
  {
   "cell_type": "markdown",
   "metadata": {},
   "source": [
    "### [Example]: Average Price by OrderId"
   ]
  },
  {
   "cell_type": "code",
   "execution_count": 70,
   "metadata": {},
   "outputs": [
    {
     "data": {
      "text/plain": [
       "[(12, 259.97400000000005),\n",
       " (28, 231.98000000000002),\n",
       " (36, 266.65333333333336),\n",
       " (56, 233.29666666666665),\n",
       " (68, 299.98),\n",
       " (96, 176.64333333333335),\n",
       " (104, 183.3166666666667),\n",
       " (116, 159.18200000000002),\n",
       " (136, 299.98),\n",
       " (140, 249.98000000000002)]"
      ]
     },
     "execution_count": 70,
     "metadata": {},
     "output_type": "execute_result"
    }
   ],
   "source": [
    "sumCount.mapValues(lambda x: x[0]/x[1]).take(10)"
   ]
  },
  {
   "cell_type": "markdown",
   "metadata": {},
   "source": [
    "### [Example]: Order Table Loaded\n",
    "Load and Convert to Pair RDD"
   ]
  },
  {
   "cell_type": "code",
   "execution_count": 71,
   "metadata": {},
   "outputs": [
    {
     "data": {
      "text/plain": [
       "['1,2013-07-25 00:00:00.0,11599,CLOSED',\n",
       " '2,2013-07-25 00:00:00.0,256,PENDING_PAYMENT',\n",
       " '3,2013-07-25 00:00:00.0,12111,COMPLETE',\n",
       " '4,2013-07-25 00:00:00.0,8827,CLOSED',\n",
       " '5,2013-07-25 00:00:00.0,11318,COMPLETE',\n",
       " '6,2013-07-25 00:00:00.0,7130,COMPLETE',\n",
       " '7,2013-07-25 00:00:00.0,4530,COMPLETE',\n",
       " '8,2013-07-25 00:00:00.0,2911,PROCESSING',\n",
       " '9,2013-07-25 00:00:00.0,5657,PENDING_PAYMENT',\n",
       " '10,2013-07-25 00:00:00.0,5648,PENDING_PAYMENT']"
      ]
     },
     "execution_count": 71,
     "metadata": {},
     "output_type": "execute_result"
    }
   ],
   "source": [
    "orders = sc.textFile(\"data/retail_db/orders.csv\")\n",
    "order_rdd = orders.filter(lambda x: \"orderId\" not in x)\n",
    "order_rdd.take(10)"
   ]
  },
  {
   "cell_type": "code",
   "execution_count": 72,
   "metadata": {},
   "outputs": [
    {
     "data": {
      "text/plain": [
       "[(1, ('2013-07-25 00:00:00.0', 11599, 'CLOSED')),\n",
       " (2, ('2013-07-25 00:00:00.0', 256, 'PENDING_PAYMENT')),\n",
       " (3, ('2013-07-25 00:00:00.0', 12111, 'COMPLETE')),\n",
       " (4, ('2013-07-25 00:00:00.0', 8827, 'CLOSED')),\n",
       " (5, ('2013-07-25 00:00:00.0', 11318, 'COMPLETE')),\n",
       " (6, ('2013-07-25 00:00:00.0', 7130, 'COMPLETE')),\n",
       " (7, ('2013-07-25 00:00:00.0', 4530, 'COMPLETE')),\n",
       " (8, ('2013-07-25 00:00:00.0', 2911, 'PROCESSING')),\n",
       " (9, ('2013-07-25 00:00:00.0', 5657, 'PENDING_PAYMENT')),\n",
       " (10, ('2013-07-25 00:00:00.0', 5648, 'PENDING_PAYMENT'))]"
      ]
     },
     "execution_count": 72,
     "metadata": {},
     "output_type": "execute_result"
    }
   ],
   "source": [
    "def makeOrderPairRddFunc(line):\n",
    "    orderId = int(line.split(\",\")[0])\n",
    "    orderDate = line.split(\",\")[1]\n",
    "    orderCustomerId = int(line.split(\",\")[2])\n",
    "    orderStatus = line.split(\",\")[3]\n",
    "    \n",
    "    return (orderId, (orderDate, orderCustomerId, orderStatus))\n",
    "\n",
    "order_pairRdd = order_rdd.map(makeOrderPairRddFunc)\n",
    "order_pairRdd.take(10)"
   ]
  },
  {
   "cell_type": "markdown",
   "metadata": {},
   "source": [
    "### [Example]: Daily number of orders"
   ]
  },
  {
   "cell_type": "code",
   "execution_count": 73,
   "metadata": {
    "scrolled": true
   },
   "outputs": [
    {
     "data": {
      "text/plain": [
       "[('2013-07-26 00:00:00.0', 269),\n",
       " ('2013-07-27 00:00:00.0', 202),\n",
       " ('2013-07-28 00:00:00.0', 187),\n",
       " ('2013-07-29 00:00:00.0', 253),\n",
       " ('2013-07-31 00:00:00.0', 252),\n",
       " ('2013-08-05 00:00:00.0', 153),\n",
       " ('2013-08-06 00:00:00.0', 258),\n",
       " ('2013-08-08 00:00:00.0', 154),\n",
       " ('2013-08-09 00:00:00.0', 125),\n",
       " ('2013-08-10 00:00:00.0', 270)]"
      ]
     },
     "execution_count": 73,
     "metadata": {},
     "output_type": "execute_result"
    }
   ],
   "source": [
    "order_pairRdd.map(lambda x: (x[1][0],1)).reduceByKey(lambda x,y: x+y).take(10)"
   ]
  },
  {
   "cell_type": "markdown",
   "metadata": {},
   "source": [
    "### [Example]: The highest 10 number of sales days"
   ]
  },
  {
   "cell_type": "code",
   "execution_count": 74,
   "metadata": {},
   "outputs": [
    {
     "data": {
      "text/plain": [
       "[('2013-11-03 00:00:00.0', 347),\n",
       " ('2013-11-24 00:00:00.0', 292),\n",
       " ('2013-11-14 00:00:00.0', 287),\n",
       " ('2013-10-04 00:00:00.0', 287),\n",
       " ('2013-12-26 00:00:00.0', 286),\n",
       " ('2014-07-20 00:00:00.0', 285),\n",
       " ('2014-01-11 00:00:00.0', 281),\n",
       " ('2013-11-05 00:00:00.0', 278),\n",
       " ('2014-02-01 00:00:00.0', 278),\n",
       " ('2013-09-25 00:00:00.0', 277)]"
      ]
     },
     "execution_count": 74,
     "metadata": {},
     "output_type": "execute_result"
    }
   ],
   "source": [
    "order_pairRdd.map(lambda x: (x[1][0],1)).reduceByKey(lambda x,y: x+y).sortBy(lambda x: x[1], ascending = False).take(10)"
   ]
  },
  {
   "cell_type": "markdown",
   "metadata": {},
   "source": [
    "### [Example]: The lowest 10 number of sales days"
   ]
  },
  {
   "cell_type": "code",
   "execution_count": 75,
   "metadata": {},
   "outputs": [
    {
     "data": {
      "text/plain": [
       "[('2013-08-13 00:00:00.0', 73),\n",
       " ('2014-05-27 00:00:00.0', 85),\n",
       " ('2014-03-17 00:00:00.0', 91),\n",
       " ('2014-06-21 00:00:00.0', 92),\n",
       " ('2013-08-19 00:00:00.0', 93),\n",
       " ('2013-09-04 00:00:00.0', 96),\n",
       " ('2014-03-29 00:00:00.0', 96),\n",
       " ('2014-05-19 00:00:00.0', 97),\n",
       " ('2013-12-02 00:00:00.0', 99),\n",
       " ('2014-05-08 00:00:00.0', 99)]"
      ]
     },
     "execution_count": 75,
     "metadata": {},
     "output_type": "execute_result"
    }
   ],
   "source": [
    "order_pairRdd.map(lambda x: (x[1][0],1)).reduceByKey(lambda x,y: x+y).sortBy(lambda x: x[1], ascending = True).take(10)"
   ]
  },
  {
   "cell_type": "markdown",
   "metadata": {},
   "source": [
    "### [Example]: Number of Order Statuses"
   ]
  },
  {
   "cell_type": "markdown",
   "metadata": {},
   "source": [
    "#### --> Mapping OrderStatus and 1"
   ]
  },
  {
   "cell_type": "code",
   "execution_count": 76,
   "metadata": {},
   "outputs": [
    {
     "data": {
      "text/plain": [
       "[('CLOSED', 1),\n",
       " ('PENDING_PAYMENT', 1),\n",
       " ('COMPLETE', 1),\n",
       " ('CLOSED', 1),\n",
       " ('COMPLETE', 1),\n",
       " ('COMPLETE', 1),\n",
       " ('COMPLETE', 1),\n",
       " ('PROCESSING', 1),\n",
       " ('PENDING_PAYMENT', 1),\n",
       " ('PENDING_PAYMENT', 1)]"
      ]
     },
     "execution_count": 76,
     "metadata": {},
     "output_type": "execute_result"
    }
   ],
   "source": [
    "order_status = order_pairRdd.map(lambda x: (x[1][2],1))\n",
    "order_status.take(10)"
   ]
  },
  {
   "cell_type": "code",
   "execution_count": 77,
   "metadata": {
    "scrolled": true
   },
   "outputs": [
    {
     "data": {
      "text/plain": [
       "[('COMPLETE', 22899),\n",
       " ('PENDING_PAYMENT', 15030),\n",
       " ('PROCESSING', 8275),\n",
       " ('PENDING', 7610),\n",
       " ('CLOSED', 7556),\n",
       " ('ON_HOLD', 3798),\n",
       " ('SUSPECTED_FRAUD', 1558),\n",
       " ('CANCELED', 1428),\n",
       " ('PAYMENT_REVIEW', 729)]"
      ]
     },
     "execution_count": 77,
     "metadata": {},
     "output_type": "execute_result"
    }
   ],
   "source": [
    "order_status.reduceByKey(lambda key,count: key + count).sortBy(lambda x: x[1], ascending=False).take(10)"
   ]
  }
 ],
 "metadata": {
  "kernelspec": {
   "display_name": "Python 3",
   "language": "python",
   "name": "python3"
  },
  "language_info": {
   "codemirror_mode": {
    "name": "ipython",
    "version": 3
   },
   "file_extension": ".py",
   "mimetype": "text/x-python",
   "name": "python",
   "nbconvert_exporter": "python",
   "pygments_lexer": "ipython3",
   "version": "3.7.1"
  },
  "widgets": {
   "application/vnd.jupyter.widget-state+json": {
    "state": {},
    "version_major": 2,
    "version_minor": 0
   }
  }
 },
 "nbformat": 4,
 "nbformat_minor": 2
}
