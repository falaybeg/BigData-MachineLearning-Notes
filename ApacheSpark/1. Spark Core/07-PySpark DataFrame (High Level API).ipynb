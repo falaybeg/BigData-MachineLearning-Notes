{
 "cells": [
  {
   "cell_type": "markdown",
   "metadata": {},
   "source": [
    "# Spark High Level (DataFrame, Dataset, Sql) API\n",
    "DataFrame, Dataset and SQL are structured Spark High Level APIs. Data is organized into named columns, like a table in relational database. Schema is a concept which has come with Dataframe. Schema is named columns and data structure where is stored datas."
   ]
  },
  {
   "cell_type": "code",
   "execution_count": 2,
   "metadata": {},
   "outputs": [],
   "source": [
    "import findspark\n",
    "findspark.init()"
   ]
  },
  {
   "cell_type": "code",
   "execution_count": 3,
   "metadata": {},
   "outputs": [],
   "source": [
    "from pyspark.sql import SparkSession"
   ]
  },
  {
   "cell_type": "code",
   "execution_count": 4,
   "metadata": {},
   "outputs": [],
   "source": [
    "spark = SparkSession.builder\\\n",
    ".master(\"local[4]\")\\\n",
    ".appName(\"DataFrame\")\\\n",
    ".config(\"spark.driver.memory\", \"2g\")\\\n",
    ".config(\"spark.executor.memory\", \"2g\")\\\n",
    ".getOrCreate()"
   ]
  },
  {
   "cell_type": "code",
   "execution_count": 5,
   "metadata": {},
   "outputs": [],
   "source": [
    "sc = spark.sparkContext"
   ]
  },
  {
   "cell_type": "markdown",
   "metadata": {},
   "source": [
    "## Creating DataFrame from list"
   ]
  },
  {
   "cell_type": "code",
   "execution_count": 6,
   "metadata": {},
   "outputs": [],
   "source": [
    "from pyspark.sql import Row\n",
    "list_rdd = sc.parallelize([1,2,325,546,5,7,2,32,324]).map(lambda x: Row(x))"
   ]
  },
  {
   "cell_type": "code",
   "execution_count": 7,
   "metadata": {},
   "outputs": [],
   "source": [
    "df_list = list_rdd.toDF([\"Numbers\"])"
   ]
  },
  {
   "cell_type": "code",
   "execution_count": 8,
   "metadata": {},
   "outputs": [
    {
     "name": "stdout",
     "output_type": "stream",
     "text": [
      "+-------+\n",
      "|Numbers|\n",
      "+-------+\n",
      "|      1|\n",
      "|      2|\n",
      "|    325|\n",
      "|    546|\n",
      "|      5|\n",
      "|      7|\n",
      "|      2|\n",
      "|     32|\n",
      "|    324|\n",
      "+-------+\n",
      "\n"
     ]
    }
   ],
   "source": [
    "df_list.show()"
   ]
  },
  {
   "cell_type": "code",
   "execution_count": 9,
   "metadata": {},
   "outputs": [],
   "source": [
    "## DataFrame by range"
   ]
  },
  {
   "cell_type": "code",
   "execution_count": 10,
   "metadata": {},
   "outputs": [],
   "source": [
    "df_from_range = sc.parallelize(range(1,30,3))\\\n",
    ".map(lambda x: (x,))\\\n",
    ".toDF([\"Range Numbers\"])"
   ]
  },
  {
   "cell_type": "code",
   "execution_count": 11,
   "metadata": {},
   "outputs": [
    {
     "name": "stdout",
     "output_type": "stream",
     "text": [
      "+-------------+\n",
      "|Range Numbers|\n",
      "+-------------+\n",
      "|            1|\n",
      "|            4|\n",
      "|            7|\n",
      "|           10|\n",
      "|           13|\n",
      "+-------------+\n",
      "only showing top 5 rows\n",
      "\n"
     ]
    }
   ],
   "source": [
    "df_from_range.show(5)"
   ]
  },
  {
   "cell_type": "code",
   "execution_count": 12,
   "metadata": {},
   "outputs": [
    {
     "name": "stdout",
     "output_type": "stream",
     "text": [
      "+-----+\n",
      "|value|\n",
      "+-----+\n",
      "|    1|\n",
      "|    4|\n",
      "|    7|\n",
      "+-----+\n",
      "only showing top 3 rows\n",
      "\n"
     ]
    }
   ],
   "source": [
    "from pyspark.sql.types import IntegerType\n",
    "df_from_range2 = spark.createDataFrame(range(1,30,3), IntegerType())\n",
    "df_from_range2.show(3)"
   ]
  },
  {
   "cell_type": "markdown",
   "metadata": {},
   "source": [
    "## Creating DataFrame from File"
   ]
  },
  {
   "cell_type": "markdown",
   "metadata": {},
   "source": [
    "#### If you don't use inferSchema, the dataframe takes all columns as a string"
   ]
  },
  {
   "cell_type": "code",
   "execution_count": 13,
   "metadata": {},
   "outputs": [
    {
     "name": "stdout",
     "output_type": "stream",
     "text": [
      "+--------------------+---------+------+-----+-------+----+--------+\n",
      "|                Name|    Genre|Length|Score|Country|Year|  Budget|\n",
      "+--------------------+---------+------+-----+-------+----+--------+\n",
      "|         stand by Me|Adventure|    89|  8.1|    USA|1986| 8000000|\n",
      "|ferris Bueller's ...|   Comedy|   103|  7.8|    USA|1986| 6000000|\n",
      "|             Top Gun|   Action|   110|  6.9|    USA|1986|15000000|\n",
      "|              Aliens|   Action|   137|  8.4|    USA|1986|18500000|\n",
      "|Flight of the Nav...|Adventure|    90|  6.9|    USA|1986| 9000000|\n",
      "|             Platoon|    Drama|   120|  8.1|     UK|1986| 6000000|\n",
      "|           Labyrinth|Adventure|   101|  7.4|     UK|1986|25000000|\n",
      "|         Blue Velvet|    Drama|   120|  7.8|    USA|1986| 6000000|\n",
      "|      Pretty in Pink|   Comedy|    96|  6.8|    USA|1986| 9000000|\n",
      "|             The Fly|    Drama|    96|  7.5|    USA|1986|15000000|\n",
      "+--------------------+---------+------+-----+-------+----+--------+\n",
      "only showing top 10 rows\n",
      "\n"
     ]
    }
   ],
   "source": [
    "df_from_file = spark.read\\\n",
    ".option(\"header\",\"True\")\\\n",
    ".option(\"inferSchema\", \"True\")\\\n",
    ".csv(\"data/film_data.csv\")\n",
    "\n",
    "df_from_file.show(10)"
   ]
  },
  {
   "cell_type": "code",
   "execution_count": 14,
   "metadata": {},
   "outputs": [
    {
     "name": "stdout",
     "output_type": "stream",
     "text": [
      "root\n",
      " |-- Name: string (nullable = true)\n",
      " |-- Genre: string (nullable = true)\n",
      " |-- Length: integer (nullable = true)\n",
      " |-- Score: double (nullable = true)\n",
      " |-- Country: string (nullable = true)\n",
      " |-- Year: string (nullable = true)\n",
      " |-- Budget: integer (nullable = true)\n",
      "\n"
     ]
    }
   ],
   "source": [
    "df_movie = df_from_file\n",
    "df_movie.printSchema()"
   ]
  },
  {
   "cell_type": "code",
   "execution_count": 15,
   "metadata": {},
   "outputs": [
    {
     "data": {
      "text/plain": [
       "99"
      ]
     },
     "execution_count": 15,
     "metadata": {},
     "output_type": "execute_result"
    }
   ],
   "source": [
    "df_movie.count()"
   ]
  },
  {
   "cell_type": "markdown",
   "metadata": {},
   "source": [
    "#### Selecting dataframe columns"
   ]
  },
  {
   "cell_type": "code",
   "execution_count": 16,
   "metadata": {},
   "outputs": [
    {
     "name": "stdout",
     "output_type": "stream",
     "text": [
      "+--------------------+---------+------+-----+\n",
      "|                Name|    Genre|Length|Score|\n",
      "+--------------------+---------+------+-----+\n",
      "|         stand by Me|Adventure|    89|  8.1|\n",
      "|ferris Bueller's ...|   Comedy|   103|  7.8|\n",
      "|             Top Gun|   Action|   110|  6.9|\n",
      "|              Aliens|   Action|   137|  8.4|\n",
      "|Flight of the Nav...|Adventure|    90|  6.9|\n",
      "|             Platoon|    Drama|   120|  8.1|\n",
      "|           Labyrinth|Adventure|   101|  7.4|\n",
      "|         Blue Velvet|    Drama|   120|  7.8|\n",
      "|      Pretty in Pink|   Comedy|    96|  6.8|\n",
      "|             The Fly|    Drama|    96|  7.5|\n",
      "+--------------------+---------+------+-----+\n",
      "only showing top 10 rows\n",
      "\n"
     ]
    }
   ],
   "source": [
    "df_movie.select(\"Name\",\"Genre\",\"Length\",\"Score\").show(10)"
   ]
  },
  {
   "cell_type": "markdown",
   "metadata": {},
   "source": [
    "#### Sorting dataframe by descending movie score"
   ]
  },
  {
   "cell_type": "code",
   "execution_count": 17,
   "metadata": {
    "scrolled": true
   },
   "outputs": [
    {
     "name": "stdout",
     "output_type": "stream",
     "text": [
      "+--------------------+---------+------+-----+-------+----+--------+\n",
      "|                Name|    Genre|Length|Score|Country|Year|  Budget|\n",
      "+--------------------+---------+------+-----+-------+----+--------+\n",
      "|              Aliens|   Action|   137|  8.4|    USA|1986|18500000|\n",
      "|             Platoon|    Drama|   120|  8.1|     UK|1986| 6000000|\n",
      "|         stand by Me|Adventure|    89|  8.1|    USA|1986| 8000000|\n",
      "|           Sacrifice|    Drama|   149|  8.1| Sweden|1986|       0|\n",
      "|Hannah and Her Si...|   Comedy|   107|  8.0|    USA|1986| 6400000|\n",
      "|ferris Bueller's ...|   Comedy|   103|  7.8|    USA|1986| 6000000|\n",
      "|         Blue Velvet|    Drama|   120|  7.8|    USA|1986| 6000000|\n",
      "|         Down by Law|   Comedy|   107|  7.8|    USA|1986| 1100000|\n",
      "|The Name of the Rose|    Crime|   130|  7.8|  Italy|1986|       0|\n",
      "| When the Wind Blows|Animation|    80|  7.8|     UK|1986|       0|\n",
      "+--------------------+---------+------+-----+-------+----+--------+\n",
      "only showing top 10 rows\n",
      "\n"
     ]
    }
   ],
   "source": [
    "df_movie.sort(df_movie.Score.desc()).show(10)"
   ]
  },
  {
   "cell_type": "markdown",
   "metadata": {},
   "source": [
    "#### Sorting dataframe by ascending movie score"
   ]
  },
  {
   "cell_type": "code",
   "execution_count": 18,
   "metadata": {},
   "outputs": [
    {
     "name": "stdout",
     "output_type": "stream",
     "text": [
      "+--------------------+---------+------+-----+-------+----+--------+\n",
      "|                Name|    Genre|Length|Score|Country|Year|  Budget|\n",
      "+--------------------+---------+------+-----+-------+----+--------+\n",
      "|     King Kong Lives|   Action|   105|  3.8|    USA|1986|10000000|\n",
      "|               Troll|   Comedy|    82|  4.3|    USA|1986| 1100000|\n",
      "|      The Men's Club|   Comedy|   101|  4.5|    USA|1986|       0|\n",
      "|     Howard the Duck|   Action|   110|  4.6|    USA|1986|35000000|\n",
      "|         Solarbabies|   Action|    94|  4.8|    USA|1986|25000000|\n",
      "|Police Academy 3:...|   Comedy|    83|  5.2|    USA|1986|       0|\n",
      "|            Soul Man|   Comedy|   104|  5.2|    USA|1986|       0|\n",
      "|          Iron Eagle|   Action|   117|  5.3|    USA|1986|       0|\n",
      "|        Psicosis III|   Horror|    93|  5.3|    USA|1986|       0|\n",
      "|The Clan of the C...|Adventure|    98|  5.3|    USA|1986|15000000|\n",
      "+--------------------+---------+------+-----+-------+----+--------+\n",
      "only showing top 10 rows\n",
      "\n"
     ]
    }
   ],
   "source": [
    "df_movie.sort(df_movie.Score.asc()).show(10)\n",
    "#df_movie.sort(\"Score\").show(10)"
   ]
  },
  {
   "cell_type": "code",
   "execution_count": 19,
   "metadata": {},
   "outputs": [
    {
     "data": {
      "text/plain": [
       "[Row(Name='stand by Me', Genre='Adventure', Length=89, Score=8.1, Country='USA', Year='1986', Budget=8000000),\n",
       " Row(Name=\"ferris Bueller's Day Off\", Genre='Comedy', Length=103, Score=7.8, Country='USA', Year='1986', Budget=6000000),\n",
       " Row(Name='Top Gun', Genre='Action', Length=110, Score=6.9, Country='USA', Year='1986', Budget=15000000)]"
      ]
     },
     "execution_count": 19,
     "metadata": {},
     "output_type": "execute_result"
    }
   ],
   "source": [
    "df_movie.head(3)"
   ]
  },
  {
   "cell_type": "code",
   "execution_count": 20,
   "metadata": {},
   "outputs": [
    {
     "data": {
      "text/plain": [
       "DataFrame[Name: string, Genre: string, Length: int, Score: double, Country: string, Year: string, Budget: int]"
      ]
     },
     "execution_count": 20,
     "metadata": {},
     "output_type": "execute_result"
    }
   ],
   "source": [
    "df_movie.limit(10)"
   ]
  },
  {
   "cell_type": "markdown",
   "metadata": {},
   "source": [
    "#### Getting number of dataframe partition "
   ]
  },
  {
   "cell_type": "code",
   "execution_count": 21,
   "metadata": {},
   "outputs": [
    {
     "data": {
      "text/plain": [
       "3"
      ]
     },
     "execution_count": 21,
     "metadata": {},
     "output_type": "execute_result"
    }
   ],
   "source": [
    "df_movie.repartition(3).rdd.getNumPartitions()"
   ]
  },
  {
   "cell_type": "code",
   "execution_count": 22,
   "metadata": {
    "scrolled": true
   },
   "outputs": [
    {
     "name": "stdout",
     "output_type": "stream",
     "text": [
      "+--------------------+---------+------+-----+-------+----+--------+\n",
      "|                Name|    Genre|Length|Score|Country|Year|  Budget|\n",
      "+--------------------+---------+------+-----+-------+----+--------+\n",
      "|           Sacrifice|    Drama|   149|  8.1| Sweden|1986|       0|\n",
      "|          Tough Guys|   Comedy|   104|  6.2|    USA|1986|10000000|\n",
      "| Armed and Dangerous|   Action|    88|  5.6|    USA|1986|12000000|\n",
      "| When the Wind Blows|Animation|    80|  7.8|     UK|1986|       0|\n",
      "|             Top Gun|   Action|   110|  6.9|    USA|1986|15000000|\n",
      "|  Jumpin' Jack Flash|   Comedy|   105|  5.8|    USA|1986|       0|\n",
      "|Hannah and Her Si...|   Comedy|   107|  8.0|    USA|1986| 6400000|\n",
      "|      Something Wild|   Comedy|   114|  6.9|    USA|1986|       0|\n",
      "|      Pretty in Pink|   Comedy|    96|  6.8|    USA|1986| 9000000|\n",
      "|         The Mission|Adventure|   125|  7.5|     UK|1986|24500000|\n",
      "+--------------------+---------+------+-----+-------+----+--------+\n",
      "only showing top 10 rows\n",
      "\n"
     ]
    }
   ],
   "source": [
    "df_movie.repartition(\"Genre\",\"Name\").show(10)"
   ]
  },
  {
   "cell_type": "markdown",
   "metadata": {},
   "source": [
    "#### collect() --> returns all records as a list of Row"
   ]
  },
  {
   "cell_type": "code",
   "execution_count": 23,
   "metadata": {},
   "outputs": [
    {
     "data": {
      "text/plain": [
       "[Row(Name='stand by Me', Genre='Adventure', Length=89, Score=8.1, Country='USA', Year='1986', Budget=8000000),\n",
       " Row(Name=\"ferris Bueller's Day Off\", Genre='Comedy', Length=103, Score=7.8, Country='USA', Year='1986', Budget=6000000),\n",
       " Row(Name='Top Gun', Genre='Action', Length=110, Score=6.9, Country='USA', Year='1986', Budget=15000000),\n",
       " Row(Name='Aliens', Genre='Action', Length=137, Score=8.4, Country='USA', Year='1986', Budget=18500000),\n",
       " Row(Name='Flight of the Navigator', Genre='Adventure', Length=90, Score=6.9, Country='USA', Year='1986', Budget=9000000),\n",
       " Row(Name='Platoon', Genre='Drama', Length=120, Score=8.1, Country='UK', Year='1986', Budget=6000000),\n",
       " Row(Name='Labyrinth', Genre='Adventure', Length=101, Score=7.4, Country='UK', Year='1986', Budget=25000000),\n",
       " Row(Name='Blue Velvet', Genre='Drama', Length=120, Score=7.8, Country='USA', Year='1986', Budget=6000000),\n",
       " Row(Name='Pretty in Pink', Genre='Comedy', Length=96, Score=6.8, Country='USA', Year='1986', Budget=9000000),\n",
       " Row(Name='The Fly', Genre='Drama', Length=96, Score=7.5, Country='USA', Year='1986', Budget=15000000),\n",
       " Row(Name='Crocodile Dundee', Genre='Adventure', Length=97, Score=6.5, Country='Australia', Year='1986', Budget=8800000),\n",
       " Row(Name='Highlander', Genre='Action', Length=116, Score=7.2, Country='UK', Year='1986', Budget=16000000),\n",
       " Row(Name='Lucas', Genre='Comedy', Length=100, Score=6.8, Country='USA', Year='1986', Budget=6000000),\n",
       " Row(Name='Big Trouble in Little China', Genre='Action', Length=99, Score=7.3, Country='USA', Year='1986', Budget=25000000),\n",
       " Row(Name='Manhunter', Genre='Crime', Length=120, Score=7.2, Country='USA', Year='1986', Budget=15000000),\n",
       " Row(Name='9� Weeks', Genre='Drama', Length=117, Score=5.9, Country='USA', Year='1986', Budget=17000000),\n",
       " Row(Name='Maximum Overdrive', Genre='Action', Length=98, Score=5.4, Country='USA', Year='1986', Budget=10000000),\n",
       " Row(Name='Little Shop of Horrors', Genre='Comedy', Length=94, Score=6.9, Country='USA', Year='1986', Budget=25000000),\n",
       " Row(Name='The Wraith', Genre='Action', Length=93, Score=5.9, Country='USA', Year='1986', Budget=2700000),\n",
       " Row(Name='Howard the Duck', Genre='Action', Length=110, Score=4.6, Country='USA', Year='1986', Budget=35000000),\n",
       " Row(Name='Critters', Genre='Action', Length=82, Score=6.0, Country='USA', Year='1986', Budget=2000000),\n",
       " Row(Name='Back to School', Genre='Comedy', Length=96, Score=6.6, Country='USA', Year='1986', Budget=11000000),\n",
       " Row(Name='The Texas Chainsaw Massacre 2', Genre='Comedy', Length=89, Score=5.6, Country='USA', Year='1986', Budget=4700000),\n",
       " Row(Name='Heartbreak Ridge', Genre='Action', Length=130, Score=6.8, Country='USA', Year='1986', Budget=15000000),\n",
       " Row(Name='Star Trek IV: The Voyage Home', Genre='Adventure', Length=119, Score=7.3, Country='USA', Year='1986', Budget=25000000),\n",
       " Row(Name='Short Circuit', Genre='Comedy', Length=98, Score=6.6, Country='USA', Year='1986', Budget=0),\n",
       " Row(Name='The Name of the Rose', Genre='Crime', Length=130, Score=7.8, Country='Italy', Year='1986', Budget=0),\n",
       " Row(Name='Iron Eagle', Genre='Action', Length=117, Score=5.3, Country='USA', Year='1986', Budget=0),\n",
       " Row(Name='The Golden Child', Genre='Action', Length=94, Score=5.9, Country='USA', Year='1986', Budget=25000000),\n",
       " Row(Name=\"River's Edge\", Genre='Crime', Length=99, Score=7.1, Country='USA', Year='1986', Budget=1900000),\n",
       " Row(Name='�Three Amigos!', Genre='Comedy', Length=104, Score=6.4, Country='USA', Year='1986', Budget=25000000),\n",
       " Row(Name='Cobra', Genre='Action', Length=87, Score=5.7, Country='USA', Year='1986', Budget=25000000),\n",
       " Row(Name='Betty Blue', Genre='Drama', Length=120, Score=7.4, Country='France', Year='1986', Budget=0),\n",
       " Row(Name='The Mission', Genre='Adventure', Length=125, Score=7.5, Country='UK', Year='1986', Budget=24500000),\n",
       " Row(Name='The Color of Money', Genre='Drama', Length=119, Score=7.0, Country='USA', Year='1986', Budget=13800000),\n",
       " Row(Name='The Karate Kid Part II', Genre='Action', Length=113, Score=5.9, Country='USA', Year='1986', Budget=0),\n",
       " Row(Name='The Boy Who Could Fly', Genre='Drama', Length=114, Score=6.5, Country='USA', Year='1986', Budget=0),\n",
       " Row(Name='The Hitcher', Genre='Thriller', Length=97, Score=7.3, Country='USA', Year='1986', Budget=6000000),\n",
       " Row(Name='The Money Pit', Genre='Comedy', Length=91, Score=6.3, Country='USA', Year='1986', Budget=10000000),\n",
       " Row(Name='Jason Lives: Friday the 13th Part VI', Genre='Horror', Length=86, Score=5.9, Country='USA', Year='1986', Budget=3000000),\n",
       " Row(Name='The Mosquito Coast', Genre='Adventure', Length=117, Score=6.6, Country='USA', Year='1986', Budget=25000000),\n",
       " Row(Name='An American Tail', Genre='Animation', Length=80, Score=6.9, Country='USA', Year='1986', Budget=0),\n",
       " Row(Name='Sid and Nancy', Genre='Biography', Length=112, Score=7.1, Country='UK', Year='1986', Budget=4000000),\n",
       " Row(Name='King Kong Lives', Genre='Action', Length=105, Score=3.8, Country='USA', Year='1986', Budget=10000000),\n",
       " Row(Name='From Beyond', Genre='Horror', Length=86, Score=6.7, Country='USA', Year='1986', Budget=4500000),\n",
       " Row(Name='Peggy Sue Got Married', Genre='Comedy', Length=103, Score=6.3, Country='USA', Year='1986', Budget=18000000),\n",
       " Row(Name='Poltergeist II: The Other Side', Genre='Horror', Length=91, Score=5.7, Country='USA', Year='1986', Budget=19000000),\n",
       " Row(Name='Troll', Genre='Comedy', Length=82, Score=4.3, Country='USA', Year='1986', Budget=1100000),\n",
       " Row(Name='Running Scared', Genre='Action', Length=107, Score=6.5, Country='USA', Year='1986', Budget=0),\n",
       " Row(Name='Wildcats', Genre='Comedy', Length=106, Score=5.9, Country='USA', Year='1986', Budget=0),\n",
       " Row(Name='Henry: Portrait of a Serial Killer', Genre='Biography', Length=83, Score=7.0, Country='USA', Year='1986', Budget=111000),\n",
       " Row(Name='SpaceCamp', Genre='Adventure', Length=107, Score=5.6, Country='USA', Year='1986', Budget=18000000),\n",
       " Row(Name='Hannah and Her Sisters', Genre='Comedy', Length=107, Score=8.0, Country='USA', Year='1986', Budget=6400000),\n",
       " Row(Name='The Great Mouse Detective', Genre='Animation', Length=74, Score=7.2, Country='USA', Year='1986', Budget=14000000),\n",
       " Row(Name='Raw Deal', Genre='Action', Length=106, Score=5.5, Country='USA', Year='1986', Budget=8500000),\n",
       " Row(Name='The Transformers: The Movie', Genre='Animation', Length=84, Score=7.3, Country='USA', Year='1986', Budget=6000000),\n",
       " Row(Name='Rad', Genre='Drama', Length=91, Score=7.2, Country='USA', Year='1986', Budget=0),\n",
       " Row(Name='Night of the Creeps', Genre='Comedy', Length=88, Score=6.8, Country='USA', Year='1986', Budget=5000000),\n",
       " Row(Name='Invaders from Mars', Genre='Horror', Length=100, Score=5.5, Country='USA', Year='1986', Budget=12000000),\n",
       " Row(Name='Crossroads', Genre='Drama', Length=99, Score=7.1, Country='USA', Year='1986', Budget=0),\n",
       " Row(Name='Hoosiers', Genre='Drama', Length=114, Score=7.6, Country='UK', Year='1986', Budget=6000000),\n",
       " Row(Name='Sacrifice', Genre='Drama', Length=149, Score=8.1, Country='Sweden', Year='1986', Budget=0),\n",
       " Row(Name='At Close Range', Genre='Crime', Length=111, Score=7.0, Country='USA', Year='1986', Budget=6500000),\n",
       " Row(Name='Youngblood', Genre='Drama', Length=110, Score=6.1, Country='USA', Year='1986', Budget=0),\n",
       " Row(Name='Psicosis III', Genre='Horror', Length=93, Score=5.3, Country='USA', Year='1986', Budget=0),\n",
       " Row(Name='Heartburn', Genre='Comedy', Length=108, Score=6.1, Country='USA', Year='1986', Budget=20000000),\n",
       " Row(Name='The Clan of the Cave Bear', Genre='Adventure', Length=98, Score=5.3, Country='USA', Year='1986', Budget=15000000),\n",
       " Row(Name='The Delta Force', Genre='Action', Length=125, Score=5.6, Country='USA', Year='1986', Budget=12000000),\n",
       " Row(Name='Deadly Friend', Genre='Drama', Length=91, Score=5.5, Country='USA', Year='1986', Budget=0),\n",
       " Row(Name='About Last Night...', Genre='Comedy', Length=113, Score=6.2, Country='USA', Year='1986', Budget=0),\n",
       " Row(Name='Soul Man', Genre='Comedy', Length=104, Score=5.2, Country='USA', Year='1986', Budget=0),\n",
       " Row(Name='Savage Steve Holland', Genre='Comedy', Length=93, Score=6.4, Country=' Films', Year='Savage Steve Holland', Budget=0),\n",
       " Row(Name='Trick or Treat', Genre='Comedy', Length=98, Score=5.8, Country='USA', Year='1986', Budget=0),\n",
       " Row(Name='Gung Ho', Genre='Comedy', Length=112, Score=6.2, Country='USA', Year='1986', Budget=18000000),\n",
       " Row(Name='The Morning After', Genre='Crime', Length=103, Score=6.0, Country='USA', Year='1986', Budget=0),\n",
       " Row(Name='Police Academy 3: Back in Training', Genre='Comedy', Length=83, Score=5.2, Country='USA', Year='1986', Budget=0),\n",
       " Row(Name=\"She's Gotta Have It\", Genre='Comedy', Length=84, Score=6.6, Country='USA', Year='1986', Budget=175000),\n",
       " Row(Name='Ruthless People', Genre='Comedy', Length=93, Score=6.9, Country='USA', Year='1986', Budget=0),\n",
       " Row(Name='Band of the Hand', Genre='Action', Length=109, Score=6.3, Country='USA', Year='1986', Budget=8700000),\n",
       " Row(Name='52 Pick-Up', Genre='Crime', Length=110, Score=6.4, Country='USA', Year='1986', Budget=0),\n",
       " Row(Name='Children of a Lesser God', Genre='Drama', Length=119, Score=7.2, Country='USA', Year='1986', Budget=0),\n",
       " Row(Name='Armed and Dangerous', Genre='Action', Length=88, Score=5.6, Country='USA', Year='1986', Budget=12000000),\n",
       " Row(Name='Down by Law', Genre='Comedy', Length=107, Score=7.8, Country='USA', Year='1986', Budget=1100000),\n",
       " Row(Name='F/X', Genre='Action', Length=109, Score=6.7, Country='USA', Year='1986', Budget=10000000),\n",
       " Row(Name='The Adventures of Milo and Otis', Genre='Adventure', Length=90, Score=7.1, Country='Japan', Year='1986', Budget=0),\n",
       " Row(Name='Something Wild', Genre='Comedy', Length=114, Score=6.9, Country='USA', Year='1986', Budget=0),\n",
       " Row(Name='The Manhattan Project', Genre='Sci-Fi', Length=117, Score=6.1, Country='USA', Year='1986', Budget=18000000),\n",
       " Row(Name=\"April Fool's Day\", Genre='Horror', Length=89, Score=6.2, Country='USA', Year='1986', Budget=5000000),\n",
       " Row(Name='Solarbabies', Genre='Action', Length=94, Score=4.8, Country='USA', Year='1986', Budget=25000000),\n",
       " Row(Name='The Big Easy', Genre='Comedy', Length=102, Score=6.6, Country='USA', Year='1986', Budget=0),\n",
       " Row(Name=\"Jumpin' Jack Flash\", Genre='Comedy', Length=105, Score=5.8, Country='USA', Year='1986', Budget=0),\n",
       " Row(Name='Piratas', Genre='Adventure', Length=121, Score=6.1, Country='France', Year='1986', Budget=40000000),\n",
       " Row(Name='When the Wind Blows', Genre='Animation', Length=80, Score=7.8, Country='UK', Year='1986', Budget=0),\n",
       " Row(Name='Tough Guys', Genre='Comedy', Length=104, Score=6.2, Country='USA', Year='1986', Budget=10000000),\n",
       " Row(Name='Matador', Genre='Drama', Length=110, Score=7.0, Country='Spain', Year='1986', Budget=0),\n",
       " Row(Name='Black Moon Rising', Genre='Action', Length=100, Score=5.4, Country='USA', Year='1986', Budget=0),\n",
       " Row(Name='The Best of Times', Genre='Comedy', Length=104, Score=5.9, Country='USA', Year='1986', Budget=12000000),\n",
       " Row(Name='Witchboard', Genre='Horror', Length=98, Score=5.7, Country='UK', Year='1986', Budget=2000000),\n",
       " Row(Name=\"The Men's Club\", Genre='Comedy', Length=101, Score=4.5, Country='USA', Year='1986', Budget=0)]"
      ]
     },
     "execution_count": 23,
     "metadata": {},
     "output_type": "execute_result"
    }
   ],
   "source": [
    "df_movie.collect()"
   ]
  },
  {
   "cell_type": "markdown",
   "metadata": {},
   "source": [
    "#### Return all column names"
   ]
  },
  {
   "cell_type": "code",
   "execution_count": 24,
   "metadata": {},
   "outputs": [
    {
     "data": {
      "text/plain": [
       "['Name', 'Genre', 'Length', 'Score', 'Country', 'Year', 'Budget']"
      ]
     },
     "execution_count": 24,
     "metadata": {},
     "output_type": "execute_result"
    }
   ],
   "source": [
    "df_movie.columns"
   ]
  },
  {
   "cell_type": "markdown",
   "metadata": {},
   "source": [
    "#### Calculating correlation between two variable (columns)"
   ]
  },
  {
   "cell_type": "code",
   "execution_count": 25,
   "metadata": {
    "scrolled": true
   },
   "outputs": [
    {
     "data": {
      "text/plain": [
       "0.25962854190011336"
      ]
     },
     "execution_count": 25,
     "metadata": {},
     "output_type": "execute_result"
    }
   ],
   "source": [
    "df_movie.corr(\"Length\",\"Score\")"
   ]
  },
  {
   "cell_type": "code",
   "execution_count": 26,
   "metadata": {},
   "outputs": [
    {
     "data": {
      "text/plain": [
       "99"
      ]
     },
     "execution_count": 26,
     "metadata": {},
     "output_type": "execute_result"
    }
   ],
   "source": [
    "df_movie.count()"
   ]
  },
  {
   "cell_type": "markdown",
   "metadata": {},
   "source": [
    "#### Selecting and getting of distinct column values from dataframe "
   ]
  },
  {
   "cell_type": "code",
   "execution_count": 27,
   "metadata": {
    "scrolled": true
   },
   "outputs": [
    {
     "name": "stdout",
     "output_type": "stream",
     "text": [
      "+---------+\n",
      "|    Genre|\n",
      "+---------+\n",
      "|    Crime|\n",
      "| Thriller|\n",
      "|Adventure|\n",
      "|    Drama|\n",
      "|Animation|\n",
      "|   Horror|\n",
      "|Biography|\n",
      "|   Comedy|\n",
      "|   Action|\n",
      "|   Sci-Fi|\n",
      "+---------+\n",
      "\n"
     ]
    }
   ],
   "source": [
    "df_movie.select(\"Genre\").distinct().show()"
   ]
  },
  {
   "cell_type": "markdown",
   "metadata": {},
   "source": [
    "#### Dropping column from dataframe"
   ]
  },
  {
   "cell_type": "code",
   "execution_count": 28,
   "metadata": {},
   "outputs": [
    {
     "name": "stdout",
     "output_type": "stream",
     "text": [
      "+--------------------+---------+------+-----+-------+----+\n",
      "|                Name|    Genre|Length|Score|Country|Year|\n",
      "+--------------------+---------+------+-----+-------+----+\n",
      "|         stand by Me|Adventure|    89|  8.1|    USA|1986|\n",
      "|ferris Bueller's ...|   Comedy|   103|  7.8|    USA|1986|\n",
      "|             Top Gun|   Action|   110|  6.9|    USA|1986|\n",
      "|              Aliens|   Action|   137|  8.4|    USA|1986|\n",
      "|Flight of the Nav...|Adventure|    90|  6.9|    USA|1986|\n",
      "+--------------------+---------+------+-----+-------+----+\n",
      "only showing top 5 rows\n",
      "\n"
     ]
    }
   ],
   "source": [
    "df_movie.drop(\"Budget\").show(5)"
   ]
  },
  {
   "cell_type": "markdown",
   "metadata": {},
   "source": [
    "#### Rounding Movie Score values by using withColumn()"
   ]
  },
  {
   "cell_type": "code",
   "execution_count": 29,
   "metadata": {},
   "outputs": [
    {
     "name": "stdout",
     "output_type": "stream",
     "text": [
      "+-----+-------------+\n",
      "|Score|Rounded_Score|\n",
      "+-----+-------------+\n",
      "|  8.1|          8.0|\n",
      "|  7.8|          8.0|\n",
      "|  6.9|          7.0|\n",
      "|  8.4|          8.0|\n",
      "|  6.9|          7.0|\n",
      "|  8.1|          8.0|\n",
      "|  7.4|          7.0|\n",
      "|  7.8|          8.0|\n",
      "|  6.8|          7.0|\n",
      "|  7.5|          8.0|\n",
      "+-----+-------------+\n",
      "only showing top 10 rows\n",
      "\n"
     ]
    }
   ],
   "source": [
    "from pyspark.sql.functions import col, round\n",
    "df_movie.select(\"Score\")\\\n",
    ".withColumn(\"Rounded_Score\", round(col(\"Score\"))).show(10)"
   ]
  },
  {
   "cell_type": "markdown",
   "metadata": {},
   "source": [
    "#### Removing (dropping) automatically duplicate values from dataframe"
   ]
  },
  {
   "cell_type": "code",
   "execution_count": 30,
   "metadata": {},
   "outputs": [
    {
     "name": "stdout",
     "output_type": "stream",
     "text": [
      "+--------------------+---------+------+-----+-------+----+--------+\n",
      "|                Name|    Genre|Length|Score|Country|Year|  Budget|\n",
      "+--------------------+---------+------+-----+-------+----+--------+\n",
      "|The Texas Chainsa...|   Comedy|    89|  5.6|    USA|1986| 4700000|\n",
      "|        River's Edge|    Crime|    99|  7.1|    USA|1986| 1900000|\n",
      "|Police Academy 3:...|   Comedy|    83|  5.2|    USA|1986|       0|\n",
      "|The Great Mouse D...|Animation|    74|  7.2|    USA|1986|14000000|\n",
      "|          Witchboard|   Horror|    98|  5.7|     UK|1986| 2000000|\n",
      "+--------------------+---------+------+-----+-------+----+--------+\n",
      "only showing top 5 rows\n",
      "\n"
     ]
    }
   ],
   "source": [
    "df_movie.dropDuplicates().show(5)"
   ]
  },
  {
   "cell_type": "markdown",
   "metadata": {},
   "source": [
    "#### Removing (dropping) duplicate values selected columns"
   ]
  },
  {
   "cell_type": "code",
   "execution_count": 31,
   "metadata": {},
   "outputs": [
    {
     "name": "stdout",
     "output_type": "stream",
     "text": [
      "+------------------+---------+------+-----+-------+----+--------+\n",
      "|              Name|    Genre|Length|Score|Country|Year|  Budget|\n",
      "+------------------+---------+------+-----+-------+----+--------+\n",
      "|        Tough Guys|   Comedy|   104|  6.2|    USA|1986|10000000|\n",
      "|Jumpin' Jack Flash|   Comedy|   105|  5.8|    USA|1986|       0|\n",
      "|   Ruthless People|   Comedy|    93|  6.9|    USA|1986|       0|\n",
      "|            Aliens|   Action|   137|  8.4|    USA|1986|18500000|\n",
      "|  An American Tail|Animation|    80|  6.9|    USA|1986|       0|\n",
      "+------------------+---------+------+-----+-------+----+--------+\n",
      "only showing top 5 rows\n",
      "\n"
     ]
    }
   ],
   "source": [
    "df_movie.dropDuplicates([\"Name\",\"Genre\"]).show(5)"
   ]
  },
  {
   "cell_type": "code",
   "execution_count": 32,
   "metadata": {},
   "outputs": [
    {
     "data": {
      "text/plain": [
       "[('Name', 'string'),\n",
       " ('Genre', 'string'),\n",
       " ('Length', 'int'),\n",
       " ('Score', 'double'),\n",
       " ('Country', 'string'),\n",
       " ('Year', 'string'),\n",
       " ('Budget', 'int')]"
      ]
     },
     "execution_count": 32,
     "metadata": {},
     "output_type": "execute_result"
    }
   ],
   "source": [
    "df_movie.dtypes"
   ]
  },
  {
   "cell_type": "code",
   "execution_count": 33,
   "metadata": {},
   "outputs": [
    {
     "name": "stdout",
     "output_type": "stream",
     "text": [
      "== Physical Plan ==\n",
      "*(1) FileScan csv [Name#81,Genre#82,Length#83,Score#84,Country#85,Year#86,Budget#87] Batched: false, Format: CSV, Location: InMemoryFileIndex[file:/home/asus/Desktop/BigData-MachineLearning-Notes/ApacheSpark/data/film_dat..., PartitionFilters: [], PushedFilters: [], ReadSchema: struct<Name:string,Genre:string,Length:int,Score:double,Country:string,Year:string,Budget:int>\n"
     ]
    }
   ],
   "source": [
    "df_movie.explain()"
   ]
  },
  {
   "cell_type": "markdown",
   "metadata": {},
   "source": [
    "### Filtering dataframe values by Movie Length"
   ]
  },
  {
   "cell_type": "code",
   "execution_count": 34,
   "metadata": {},
   "outputs": [
    {
     "name": "stdout",
     "output_type": "stream",
     "text": [
      "+--------------------+---------+------+-----+-------+----+--------+\n",
      "|                Name|    Genre|Length|Score|Country|Year|  Budget|\n",
      "+--------------------+---------+------+-----+-------+----+--------+\n",
      "|ferris Bueller's ...|   Comedy|   103|  7.8|    USA|1986| 6000000|\n",
      "|             Top Gun|   Action|   110|  6.9|    USA|1986|15000000|\n",
      "|              Aliens|   Action|   137|  8.4|    USA|1986|18500000|\n",
      "|             Platoon|    Drama|   120|  8.1|     UK|1986| 6000000|\n",
      "|           Labyrinth|Adventure|   101|  7.4|     UK|1986|25000000|\n",
      "|         Blue Velvet|    Drama|   120|  7.8|    USA|1986| 6000000|\n",
      "|          Highlander|   Action|   116|  7.2|     UK|1986|16000000|\n",
      "|           Manhunter|    Crime|   120|  7.2|    USA|1986|15000000|\n",
      "|            9� Weeks|    Drama|   117|  5.9|    USA|1986|17000000|\n",
      "|     Howard the Duck|   Action|   110|  4.6|    USA|1986|35000000|\n",
      "+--------------------+---------+------+-----+-------+----+--------+\n",
      "only showing top 10 rows\n",
      "\n"
     ]
    }
   ],
   "source": [
    "df_movie.filter(df_movie.Length > 100).show(10)"
   ]
  },
  {
   "cell_type": "markdown",
   "metadata": {},
   "source": [
    "### Filtering dataframe values by Genre and Movie Length"
   ]
  },
  {
   "cell_type": "code",
   "execution_count": 35,
   "metadata": {},
   "outputs": [
    {
     "name": "stdout",
     "output_type": "stream",
     "text": [
      "+--------------------+------+------+-----+-------+----+--------+\n",
      "|                Name| Genre|Length|Score|Country|Year|  Budget|\n",
      "+--------------------+------+------+-----+-------+----+--------+\n",
      "|             Top Gun|Action|   110|  6.9|    USA|1986|15000000|\n",
      "|              Aliens|Action|   137|  8.4|    USA|1986|18500000|\n",
      "|          Highlander|Action|   116|  7.2|     UK|1986|16000000|\n",
      "|     Howard the Duck|Action|   110|  4.6|    USA|1986|35000000|\n",
      "|    Heartbreak Ridge|Action|   130|  6.8|    USA|1986|15000000|\n",
      "|          Iron Eagle|Action|   117|  5.3|    USA|1986|       0|\n",
      "|The Karate Kid Pa...|Action|   113|  5.9|    USA|1986|       0|\n",
      "|     King Kong Lives|Action|   105|  3.8|    USA|1986|10000000|\n",
      "|      Running Scared|Action|   107|  6.5|    USA|1986|       0|\n",
      "|            Raw Deal|Action|   106|  5.5|    USA|1986| 8500000|\n",
      "+--------------------+------+------+-----+-------+----+--------+\n",
      "only showing top 10 rows\n",
      "\n"
     ]
    }
   ],
   "source": [
    "df_movie.filter((df_movie.Genre == \"Action\") & (df_movie.Length > 100)).show(10)"
   ]
  },
  {
   "cell_type": "markdown",
   "metadata": {},
   "source": [
    "### Counting Genre values by using GroupBy()"
   ]
  },
  {
   "cell_type": "code",
   "execution_count": 36,
   "metadata": {},
   "outputs": [
    {
     "name": "stdout",
     "output_type": "stream",
     "text": [
      "+---------+-----+\n",
      "|    Genre|count|\n",
      "+---------+-----+\n",
      "|   Comedy|   30|\n",
      "|   Action|   22|\n",
      "|    Drama|   15|\n",
      "|Adventure|   11|\n",
      "|   Horror|    7|\n",
      "|    Crime|    6|\n",
      "|Animation|    4|\n",
      "|Biography|    2|\n",
      "| Thriller|    1|\n",
      "|   Sci-Fi|    1|\n",
      "+---------+-----+\n",
      "\n"
     ]
    }
   ],
   "source": [
    "df_movie.groupBy(\"Genre\").count().sort(\"count\", ascending = False).show(10)"
   ]
  },
  {
   "cell_type": "markdown",
   "metadata": {},
   "source": [
    "### Ordering dataframe values by descending Movie Length and ascending Name"
   ]
  },
  {
   "cell_type": "code",
   "execution_count": 37,
   "metadata": {},
   "outputs": [
    {
     "name": "stdout",
     "output_type": "stream",
     "text": [
      "+--------------------+---------+------+-----+-------+----+--------+\n",
      "|                Name|    Genre|Length|Score|Country|Year|  Budget|\n",
      "+--------------------+---------+------+-----+-------+----+--------+\n",
      "|           Sacrifice|    Drama|   149|  8.1| Sweden|1986|       0|\n",
      "|              Aliens|   Action|   137|  8.4|    USA|1986|18500000|\n",
      "|    Heartbreak Ridge|   Action|   130|  6.8|    USA|1986|15000000|\n",
      "|The Name of the Rose|    Crime|   130|  7.8|  Italy|1986|       0|\n",
      "|     The Delta Force|   Action|   125|  5.6|    USA|1986|12000000|\n",
      "|         The Mission|Adventure|   125|  7.5|     UK|1986|24500000|\n",
      "|             Piratas|Adventure|   121|  6.1| France|1986|40000000|\n",
      "|          Betty Blue|    Drama|   120|  7.4| France|1986|       0|\n",
      "|         Blue Velvet|    Drama|   120|  7.8|    USA|1986| 6000000|\n",
      "|           Manhunter|    Crime|   120|  7.2|    USA|1986|15000000|\n",
      "|             Platoon|    Drama|   120|  8.1|     UK|1986| 6000000|\n",
      "|Children of a Les...|    Drama|   119|  7.2|    USA|1986|       0|\n",
      "|Star Trek IV: The...|Adventure|   119|  7.3|    USA|1986|25000000|\n",
      "|  The Color of Money|    Drama|   119|  7.0|    USA|1986|13800000|\n",
      "|            9� Weeks|    Drama|   117|  5.9|    USA|1986|17000000|\n",
      "|          Iron Eagle|   Action|   117|  5.3|    USA|1986|       0|\n",
      "|The Manhattan Pro...|   Sci-Fi|   117|  6.1|    USA|1986|18000000|\n",
      "|  The Mosquito Coast|Adventure|   117|  6.6|    USA|1986|25000000|\n",
      "|          Highlander|   Action|   116|  7.2|     UK|1986|16000000|\n",
      "|            Hoosiers|    Drama|   114|  7.6|     UK|1986| 6000000|\n",
      "+--------------------+---------+------+-----+-------+----+--------+\n",
      "only showing top 20 rows\n",
      "\n"
     ]
    }
   ],
   "source": [
    "df_movie.orderBy(df_movie.Length.desc(), \"Name\").show()"
   ]
  },
  {
   "cell_type": "markdown",
   "metadata": {},
   "source": [
    "# [Example]:  Word Count by using DataFrame"
   ]
  },
  {
   "cell_type": "code",
   "execution_count": 38,
   "metadata": {},
   "outputs": [],
   "source": [
    "story_df = spark.read.text(\"data/HanselStory.txt\")"
   ]
  },
  {
   "cell_type": "markdown",
   "metadata": {},
   "source": [
    "#### Show first 3 row"
   ]
  },
  {
   "cell_type": "code",
   "execution_count": 39,
   "metadata": {},
   "outputs": [
    {
     "name": "stdout",
     "output_type": "stream",
     "text": [
      "+---------------------------------------------------------+\n",
      "|value                                                    |\n",
      "+---------------------------------------------------------+\n",
      "|Once upon a time there dwelt on the outskirts of a       |\n",
      "|large forest a poor woodcutter with his wife and two     |\n",
      "|children; the boy was called Hansel and the girl Grettel.|\n",
      "+---------------------------------------------------------+\n",
      "only showing top 3 rows\n",
      "\n"
     ]
    }
   ],
   "source": [
    "story_df.show(3, truncate=False)\n",
    "#story_df.show(3, truncate=False)"
   ]
  },
  {
   "cell_type": "code",
   "execution_count": 40,
   "metadata": {},
   "outputs": [],
   "source": [
    "from pyspark.sql.functions import explode, split, col"
   ]
  },
  {
   "cell_type": "markdown",
   "metadata": {},
   "source": [
    "### Selecting column name and changing/alias column name"
   ]
  },
  {
   "cell_type": "code",
   "execution_count": 41,
   "metadata": {},
   "outputs": [],
   "source": [
    "words = story_df.select(explode(split(col(\"value\"), \" \")).alias(\"Words\"))"
   ]
  },
  {
   "cell_type": "code",
   "execution_count": 42,
   "metadata": {},
   "outputs": [
    {
     "name": "stdout",
     "output_type": "stream",
     "text": [
      "+-----+\n",
      "|Words|\n",
      "+-----+\n",
      "| Once|\n",
      "| upon|\n",
      "|    a|\n",
      "| time|\n",
      "|there|\n",
      "+-----+\n",
      "only showing top 5 rows\n",
      "\n"
     ]
    }
   ],
   "source": [
    "words.show(5)"
   ]
  },
  {
   "cell_type": "markdown",
   "metadata": {},
   "source": [
    "#### Counting word numbers by using groupBy()"
   ]
  },
  {
   "cell_type": "code",
   "execution_count": 43,
   "metadata": {},
   "outputs": [
    {
     "name": "stdout",
     "output_type": "stream",
     "text": [
      "+-----+-----+\n",
      "|Words|count|\n",
      "+-----+-----+\n",
      "|  the|  113|\n",
      "|  and|   91|\n",
      "|   to|   44|\n",
      "|    a|   42|\n",
      "| they|   34|\n",
      "|   of|   31|\n",
      "|  had|   27|\n",
      "|  was|   19|\n",
      "|   in|   19|\n",
      "|   on|   19|\n",
      "+-----+-----+\n",
      "only showing top 10 rows\n",
      "\n"
     ]
    }
   ],
   "source": [
    "words.groupBy(\"Words\").count().orderBy(\"count\", ascending = False).show(10)"
   ]
  },
  {
   "cell_type": "markdown",
   "metadata": {},
   "source": [
    "# --> Executing SQL Query on CSV file\n",
    "### We use our Movie CSV file for SQL queries"
   ]
  },
  {
   "cell_type": "code",
   "execution_count": 44,
   "metadata": {},
   "outputs": [
    {
     "name": "stdout",
     "output_type": "stream",
     "text": [
      "+--------------------+---------+------+-----+-------+----+--------+\n",
      "|                Name|    Genre|Length|Score|Country|Year|  Budget|\n",
      "+--------------------+---------+------+-----+-------+----+--------+\n",
      "|         stand by Me|Adventure|    89|  8.1|    USA|1986| 8000000|\n",
      "|ferris Bueller's ...|   Comedy|   103|  7.8|    USA|1986| 6000000|\n",
      "|             Top Gun|   Action|   110|  6.9|    USA|1986|15000000|\n",
      "|              Aliens|   Action|   137|  8.4|    USA|1986|18500000|\n",
      "|Flight of the Nav...|Adventure|    90|  6.9|    USA|1986| 9000000|\n",
      "|             Platoon|    Drama|   120|  8.1|     UK|1986| 6000000|\n",
      "|           Labyrinth|Adventure|   101|  7.4|     UK|1986|25000000|\n",
      "|         Blue Velvet|    Drama|   120|  7.8|    USA|1986| 6000000|\n",
      "|      Pretty in Pink|   Comedy|    96|  6.8|    USA|1986| 9000000|\n",
      "|             The Fly|    Drama|    96|  7.5|    USA|1986|15000000|\n",
      "+--------------------+---------+------+-----+-------+----+--------+\n",
      "only showing top 10 rows\n",
      "\n"
     ]
    }
   ],
   "source": [
    "df_movie.show(10)"
   ]
  },
  {
   "cell_type": "markdown",
   "metadata": {},
   "source": [
    "#### When we cache our DataFrame, it shortens data access times, improve latency and improves input/output (I/O)"
   ]
  },
  {
   "cell_type": "code",
   "execution_count": 45,
   "metadata": {},
   "outputs": [
    {
     "data": {
      "text/plain": [
       "DataFrame[Name: string, Genre: string, Length: int, Score: double, Country: string, Year: string, Budget: int]"
      ]
     },
     "execution_count": 45,
     "metadata": {},
     "output_type": "execute_result"
    }
   ],
   "source": [
    "df_movie.cache()"
   ]
  },
  {
   "cell_type": "markdown",
   "metadata": {},
   "source": [
    "### Creating SQL Table from loaded .csv dataframe file "
   ]
  },
  {
   "cell_type": "code",
   "execution_count": 46,
   "metadata": {},
   "outputs": [],
   "source": [
    "df_movie.createOrReplaceTempView(\"MovieTable\")"
   ]
  },
  {
   "cell_type": "markdown",
   "metadata": {},
   "source": [
    "### Selecting all datas from created MovieTable"
   ]
  },
  {
   "cell_type": "code",
   "execution_count": 47,
   "metadata": {},
   "outputs": [
    {
     "name": "stdout",
     "output_type": "stream",
     "text": [
      "+--------------------+---------+------+-----+-------+----+--------+\n",
      "|                Name|    Genre|Length|Score|Country|Year|  Budget|\n",
      "+--------------------+---------+------+-----+-------+----+--------+\n",
      "|         stand by Me|Adventure|    89|  8.1|    USA|1986| 8000000|\n",
      "|ferris Bueller's ...|   Comedy|   103|  7.8|    USA|1986| 6000000|\n",
      "|             Top Gun|   Action|   110|  6.9|    USA|1986|15000000|\n",
      "|              Aliens|   Action|   137|  8.4|    USA|1986|18500000|\n",
      "|Flight of the Nav...|Adventure|    90|  6.9|    USA|1986| 9000000|\n",
      "|             Platoon|    Drama|   120|  8.1|     UK|1986| 6000000|\n",
      "|           Labyrinth|Adventure|   101|  7.4|     UK|1986|25000000|\n",
      "|         Blue Velvet|    Drama|   120|  7.8|    USA|1986| 6000000|\n",
      "|      Pretty in Pink|   Comedy|    96|  6.8|    USA|1986| 9000000|\n",
      "|             The Fly|    Drama|    96|  7.5|    USA|1986|15000000|\n",
      "+--------------------+---------+------+-----+-------+----+--------+\n",
      "only showing top 10 rows\n",
      "\n"
     ]
    }
   ],
   "source": [
    "spark.sql(\"\"\"\n",
    "\n",
    "    SELECT * FROM MovieTable\n",
    "\n",
    "\"\"\").show(10)"
   ]
  },
  {
   "cell_type": "markdown",
   "metadata": {},
   "source": [
    "#### Filtering Movie Length using Sql Where"
   ]
  },
  {
   "cell_type": "code",
   "execution_count": 48,
   "metadata": {},
   "outputs": [
    {
     "name": "stdout",
     "output_type": "stream",
     "text": [
      "+--------------------+---------+------+-----+-------+----+--------+\n",
      "|                Name|    Genre|Length|Score|Country|Year|  Budget|\n",
      "+--------------------+---------+------+-----+-------+----+--------+\n",
      "|ferris Bueller's ...|   Comedy|   103|  7.8|    USA|1986| 6000000|\n",
      "|             Top Gun|   Action|   110|  6.9|    USA|1986|15000000|\n",
      "|              Aliens|   Action|   137|  8.4|    USA|1986|18500000|\n",
      "|             Platoon|    Drama|   120|  8.1|     UK|1986| 6000000|\n",
      "|           Labyrinth|Adventure|   101|  7.4|     UK|1986|25000000|\n",
      "|         Blue Velvet|    Drama|   120|  7.8|    USA|1986| 6000000|\n",
      "|          Highlander|   Action|   116|  7.2|     UK|1986|16000000|\n",
      "|           Manhunter|    Crime|   120|  7.2|    USA|1986|15000000|\n",
      "|            9� Weeks|    Drama|   117|  5.9|    USA|1986|17000000|\n",
      "|     Howard the Duck|   Action|   110|  4.6|    USA|1986|35000000|\n",
      "+--------------------+---------+------+-----+-------+----+--------+\n",
      "only showing top 10 rows\n",
      "\n"
     ]
    }
   ],
   "source": [
    "spark.sql(\"\"\"\n",
    "\n",
    "    SELECT * FROM MovieTable\n",
    "    WHERE Length > 100\n",
    "\n",
    "\"\"\").show(10)"
   ]
  },
  {
   "cell_type": "markdown",
   "metadata": {},
   "source": [
    "### Grouping and counting Movie Genres"
   ]
  },
  {
   "cell_type": "code",
   "execution_count": 49,
   "metadata": {},
   "outputs": [
    {
     "name": "stdout",
     "output_type": "stream",
     "text": [
      "+---------+-----+\n",
      "|    Genre|Count|\n",
      "+---------+-----+\n",
      "|   Comedy|   30|\n",
      "|   Action|   22|\n",
      "|    Drama|   15|\n",
      "|Adventure|   11|\n",
      "|   Horror|    7|\n",
      "|    Crime|    6|\n",
      "|Animation|    4|\n",
      "|Biography|    2|\n",
      "| Thriller|    1|\n",
      "|   Sci-Fi|    1|\n",
      "+---------+-----+\n",
      "\n"
     ]
    }
   ],
   "source": [
    "spark.sql(\"\"\"\n",
    "\n",
    "    SELECT Genre, COUNT(Genre) as Count\n",
    "    FROM MovieTable\n",
    "    GROUP BY Genre\n",
    "    ORDER BY Count desc\n",
    "\n",
    "\"\"\").show(10)"
   ]
  },
  {
   "cell_type": "code",
   "execution_count": 50,
   "metadata": {},
   "outputs": [
    {
     "name": "stdout",
     "output_type": "stream",
     "text": [
      "+---------+-----+\n",
      "|    Genre|Count|\n",
      "+---------+-----+\n",
      "|Adventure|   11|\n",
      "|    Drama|   15|\n",
      "|   Comedy|   30|\n",
      "|   Action|   22|\n",
      "+---------+-----+\n",
      "\n"
     ]
    }
   ],
   "source": [
    "spark.sql(\"\"\"\n",
    "\n",
    "    SELECT Genre, COUNT(Genre) as Count\n",
    "    FROM MovieTable\n",
    "    GROUP BY Genre\n",
    "    HAVING COUNT(Genre) > 10\n",
    "\n",
    "\"\"\").show(10)"
   ]
  },
  {
   "cell_type": "code",
   "execution_count": 51,
   "metadata": {},
   "outputs": [
    {
     "name": "stdout",
     "output_type": "stream",
     "text": [
      "+-------------------+---------+------+-----+-------+----+--------+\n",
      "|               Name|    Genre|Length|Score|Country|Year|  Budget|\n",
      "+-------------------+---------+------+-----+-------+----+--------+\n",
      "|             Aliens|   Action|   137|  8.4|    USA|1986|18500000|\n",
      "|   An American Tail|Animation|    80|  6.9|    USA|1986|       0|\n",
      "|     At Close Range|    Crime|   111|  7.0|    USA|1986| 6500000|\n",
      "|About Last Night...|   Comedy|   113|  6.2|    USA|1986|       0|\n",
      "|Armed and Dangerous|   Action|    88|  5.6|    USA|1986|12000000|\n",
      "|   April Fool's Day|   Horror|    89|  6.2|    USA|1986| 5000000|\n",
      "+-------------------+---------+------+-----+-------+----+--------+\n",
      "\n"
     ]
    }
   ],
   "source": [
    "spark.sql(\"\"\"\n",
    "\n",
    "    SELECT * \n",
    "    FROM MovieTable\n",
    "    WHERE Name LIKE 'A%'\n",
    "    \n",
    "\"\"\").show(10)"
   ]
  },
  {
   "cell_type": "code",
   "execution_count": 52,
   "metadata": {},
   "outputs": [
    {
     "name": "stdout",
     "output_type": "stream",
     "text": [
      "+--------------------+------+------+-----+-------+----+--------+\n",
      "|                Name| Genre|Length|Score|Country|Year|  Budget|\n",
      "+--------------------+------+------+-----+-------+----+--------+\n",
      "|Big Trouble in Li...|Action|    99|  7.3|    USA|1986|25000000|\n",
      "|               Cobra|Action|    87|  5.7|    USA|1986|25000000|\n",
      "+--------------------+------+------+-----+-------+----+--------+\n",
      "\n"
     ]
    }
   ],
   "source": [
    "spark.sql(\"\"\"\n",
    "\n",
    "    SELECT * \n",
    "    FROM MovieTable\n",
    "    WHERE Name LIKE '%a'\n",
    "    \n",
    "\"\"\").show(10)"
   ]
  },
  {
   "cell_type": "code",
   "execution_count": 53,
   "metadata": {},
   "outputs": [
    {
     "name": "stdout",
     "output_type": "stream",
     "text": [
      "+--------------------+---------+------+-----+-------+----+--------+\n",
      "|                Name|    Genre|Length|Score|Country|Year|  Budget|\n",
      "+--------------------+---------+------+-----+-------+----+--------+\n",
      "|         stand by Me|Adventure|    89|  8.1|    USA|1986| 8000000|\n",
      "|ferris Bueller's ...|   Comedy|   103|  7.8|    USA|1986| 6000000|\n",
      "|              Aliens|   Action|   137|  8.4|    USA|1986|18500000|\n",
      "|             Platoon|    Drama|   120|  8.1|     UK|1986| 6000000|\n",
      "|           Labyrinth|Adventure|   101|  7.4|     UK|1986|25000000|\n",
      "|         Blue Velvet|    Drama|   120|  7.8|    USA|1986| 6000000|\n",
      "|             The Fly|    Drama|    96|  7.5|    USA|1986|15000000|\n",
      "|          Highlander|   Action|   116|  7.2|     UK|1986|16000000|\n",
      "|Big Trouble in Li...|   Action|    99|  7.3|    USA|1986|25000000|\n",
      "|           Manhunter|    Crime|   120|  7.2|    USA|1986|15000000|\n",
      "+--------------------+---------+------+-----+-------+----+--------+\n",
      "only showing top 10 rows\n",
      "\n"
     ]
    }
   ],
   "source": [
    "spark.sql(\"\"\"\n",
    "\n",
    "    SELECT * \n",
    "    FROM MovieTable\n",
    "    WHERE Score BETWEEN 7 and 10\n",
    "    \n",
    "\"\"\").show(10)"
   ]
  },
  {
   "cell_type": "markdown",
   "metadata": {},
   "source": [
    "# --> DataFrame String Functions"
   ]
  },
  {
   "cell_type": "code",
   "execution_count": 54,
   "metadata": {},
   "outputs": [],
   "source": [
    "from pyspark.sql.functions import *\n"
   ]
  },
  {
   "cell_type": "markdown",
   "metadata": {},
   "source": [
    "### Concat()"
   ]
  },
  {
   "cell_type": "code",
   "execution_count": 55,
   "metadata": {},
   "outputs": [
    {
     "name": "stdout",
     "output_type": "stream",
     "text": [
      "+---------+----+----------------+\n",
      "|Country  |Year|Year_Country    |\n",
      "+---------+----+----------------+\n",
      "|USA      |1986|USA - 1986      |\n",
      "|USA      |1986|USA - 1986      |\n",
      "|USA      |1986|USA - 1986      |\n",
      "|USA      |1986|USA - 1986      |\n",
      "|USA      |1986|USA - 1986      |\n",
      "|UK       |1986|UK - 1986       |\n",
      "|UK       |1986|UK - 1986       |\n",
      "|USA      |1986|USA - 1986      |\n",
      "|USA      |1986|USA - 1986      |\n",
      "|USA      |1986|USA - 1986      |\n",
      "|Australia|1986|Australia - 1986|\n",
      "|UK       |1986|UK - 1986       |\n",
      "|USA      |1986|USA - 1986      |\n",
      "|USA      |1986|USA - 1986      |\n",
      "|USA      |1986|USA - 1986      |\n",
      "|USA      |1986|USA - 1986      |\n",
      "|USA      |1986|USA - 1986      |\n",
      "|USA      |1986|USA - 1986      |\n",
      "|USA      |1986|USA - 1986      |\n",
      "|USA      |1986|USA - 1986      |\n",
      "+---------+----+----------------+\n",
      "only showing top 20 rows\n",
      "\n"
     ]
    }
   ],
   "source": [
    "df_movie.select(\"Country\",\"Year\") \\\n",
    ".withColumn(\"Year_Country\", concat(col(\"Country\"),lit(\" - \"),col(\"Year\"))) \\\n",
    ".show(truncate=False)"
   ]
  },
  {
   "cell_type": "markdown",
   "metadata": {},
   "source": [
    "### Number Format "
   ]
  },
  {
   "cell_type": "code",
   "execution_count": 56,
   "metadata": {},
   "outputs": [
    {
     "name": "stdout",
     "output_type": "stream",
     "text": [
      "+--------+-------------+\n",
      "|  Budget|Budget_Format|\n",
      "+--------+-------------+\n",
      "| 8000000| 8,000,000.00|\n",
      "| 6000000| 6,000,000.00|\n",
      "|15000000|15,000,000.00|\n",
      "|18500000|18,500,000.00|\n",
      "| 9000000| 9,000,000.00|\n",
      "| 6000000| 6,000,000.00|\n",
      "|25000000|25,000,000.00|\n",
      "| 6000000| 6,000,000.00|\n",
      "| 9000000| 9,000,000.00|\n",
      "|15000000|15,000,000.00|\n",
      "+--------+-------------+\n",
      "only showing top 10 rows\n",
      "\n"
     ]
    }
   ],
   "source": [
    "df_movie.select(\"Budget\")\\\n",
    ".withColumn(\"Budget_Format\", format_number(col(\"Budget\"), 2)).show(10)"
   ]
  },
  {
   "cell_type": "markdown",
   "metadata": {},
   "source": [
    "### Lower(), initcap(), length()"
   ]
  },
  {
   "cell_type": "code",
   "execution_count": 57,
   "metadata": {},
   "outputs": [
    {
     "name": "stdout",
     "output_type": "stream",
     "text": [
      "+--------------------+--------------------+--------------------+-----------+\n",
      "|                Name|          Name_lower|        Name_initcap|Name_length|\n",
      "+--------------------+--------------------+--------------------+-----------+\n",
      "|         stand by Me|         stand by me|         Stand By Me|         11|\n",
      "|ferris Bueller's ...|ferris bueller's ...|Ferris Bueller's ...|         24|\n",
      "|             Top Gun|             top gun|             Top Gun|          7|\n",
      "|              Aliens|              aliens|              Aliens|          6|\n",
      "|Flight of the Nav...|flight of the nav...|Flight Of The Nav...|         23|\n",
      "|             Platoon|             platoon|             Platoon|          7|\n",
      "|           Labyrinth|           labyrinth|           Labyrinth|          9|\n",
      "|         Blue Velvet|         blue velvet|         Blue Velvet|         11|\n",
      "|      Pretty in Pink|      pretty in pink|      Pretty In Pink|         14|\n",
      "|             The Fly|             the fly|             The Fly|          7|\n",
      "|    Crocodile Dundee|    crocodile dundee|    Crocodile Dundee|         16|\n",
      "|          Highlander|          highlander|          Highlander|         10|\n",
      "|               Lucas|               lucas|               Lucas|          5|\n",
      "|Big Trouble in Li...|big trouble in li...|Big Trouble In Li...|         27|\n",
      "|           Manhunter|           manhunter|           Manhunter|          9|\n",
      "|            9� Weeks|            9� weeks|            9� Weeks|          8|\n",
      "|   Maximum Overdrive|   maximum overdrive|   Maximum Overdrive|         17|\n",
      "|Little Shop of Ho...|little shop of ho...|Little Shop Of Ho...|         22|\n",
      "|          The Wraith|          the wraith|          The Wraith|         10|\n",
      "|     Howard the Duck|     howard the duck|     Howard The Duck|         15|\n",
      "+--------------------+--------------------+--------------------+-----------+\n",
      "only showing top 20 rows\n",
      "\n"
     ]
    }
   ],
   "source": [
    "df_movie.select(\"Name\")\\\n",
    ".withColumn(\"Name_lower\", lower(col(\"Name\")))\\\n",
    ".withColumn(\"Name_initcap\", initcap(col(\"Name\")))\\\n",
    ".withColumn(\"Name_length\", length(col(\"Name\")))\\\n",
    ".show()"
   ]
  },
  {
   "cell_type": "markdown",
   "metadata": {},
   "source": [
    "### Trim --> (rtrim, ltrim, trim)"
   ]
  },
  {
   "cell_type": "code",
   "execution_count": 58,
   "metadata": {},
   "outputs": [
    {
     "name": "stdout",
     "output_type": "stream",
     "text": [
      "+--------------------+--------------------+--------------------+--------------------+\n",
      "|                Name|          Name_rtrim|          Name_ltrim|           Name_trim|\n",
      "+--------------------+--------------------+--------------------+--------------------+\n",
      "|         stand by Me|         stand by Me|         stand by Me|         stand by Me|\n",
      "|ferris Bueller's ...|ferris Bueller's ...|ferris Bueller's ...|ferris Bueller's ...|\n",
      "|             Top Gun|             Top Gun|             Top Gun|             Top Gun|\n",
      "|              Aliens|              Aliens|              Aliens|              Aliens|\n",
      "|Flight of the Nav...|Flight of the Nav...|Flight of the Nav...|Flight of the Nav...|\n",
      "|             Platoon|             Platoon|             Platoon|             Platoon|\n",
      "|           Labyrinth|           Labyrinth|           Labyrinth|           Labyrinth|\n",
      "|         Blue Velvet|         Blue Velvet|         Blue Velvet|         Blue Velvet|\n",
      "|      Pretty in Pink|      Pretty in Pink|      Pretty in Pink|      Pretty in Pink|\n",
      "|             The Fly|             The Fly|             The Fly|             The Fly|\n",
      "|    Crocodile Dundee|    Crocodile Dundee|    Crocodile Dundee|    Crocodile Dundee|\n",
      "|          Highlander|          Highlander|          Highlander|          Highlander|\n",
      "|               Lucas|               Lucas|               Lucas|               Lucas|\n",
      "|Big Trouble in Li...|Big Trouble in Li...|Big Trouble in Li...|Big Trouble in Li...|\n",
      "|           Manhunter|           Manhunter|           Manhunter|           Manhunter|\n",
      "|            9� Weeks|            9� Weeks|            9� Weeks|            9� Weeks|\n",
      "|   Maximum Overdrive|   Maximum Overdrive|   Maximum Overdrive|   Maximum Overdrive|\n",
      "|Little Shop of Ho...|Little Shop of Ho...|Little Shop of Ho...|Little Shop of Ho...|\n",
      "|          The Wraith|          The Wraith|          The Wraith|          The Wraith|\n",
      "|     Howard the Duck|     Howard the Duck|     Howard the Duck|     Howard the Duck|\n",
      "+--------------------+--------------------+--------------------+--------------------+\n",
      "only showing top 20 rows\n",
      "\n"
     ]
    }
   ],
   "source": [
    "df_movie.select(\"Name\")\\\n",
    ".withColumn(\"Name_rtrim\", rtrim(col(\"Name\")))\\\n",
    ".withColumn(\"Name_ltrim\", ltrim(col(\"Name\")))\\\n",
    ".withColumn(\"Name_trim\", trim(col(\"Name\")))\\\n",
    ".show()"
   ]
  },
  {
   "cell_type": "markdown",
   "metadata": {},
   "source": [
    "### Replace() and Split()"
   ]
  },
  {
   "cell_type": "code",
   "execution_count": 59,
   "metadata": {
    "scrolled": true
   },
   "outputs": [
    {
     "name": "stdout",
     "output_type": "stream",
     "text": [
      "+---------+---------------------------+---------+---------------------------------+----------------+\n",
      "|Genre    |Name                       |Genre_GNR|Name_split                       |Name_first_split|\n",
      "+---------+---------------------------+---------+---------------------------------+----------------+\n",
      "|Adventure|stand by Me                |Adventure|[stand, by, Me]                  |stand           |\n",
      "|Comedy   |ferris Bueller's Day Off   |Comedy   |[ferris, Bueller's, Day, Off]    |ferris          |\n",
      "|Action   |Top Gun                    |ACT      |[Top, Gun]                       |Top             |\n",
      "|Action   |Aliens                     |ACT      |[Aliens]                         |Aliens          |\n",
      "|Adventure|Flight of the Navigator    |Adventure|[Flight, of, the, Navigator]     |Flight          |\n",
      "|Drama    |Platoon                    |Drama    |[Platoon]                        |Platoon         |\n",
      "|Adventure|Labyrinth                  |Adventure|[Labyrinth]                      |Labyrinth       |\n",
      "|Drama    |Blue Velvet                |Drama    |[Blue, Velvet]                   |Blue            |\n",
      "|Comedy   |Pretty in Pink             |Comedy   |[Pretty, in, Pink]               |Pretty          |\n",
      "|Drama    |The Fly                    |Drama    |[The, Fly]                       |The             |\n",
      "|Adventure|Crocodile Dundee           |Adventure|[Crocodile, Dundee]              |Crocodile       |\n",
      "|Action   |Highlander                 |ACT      |[Highlander]                     |Highlander      |\n",
      "|Comedy   |Lucas                      |Comedy   |[Lucas]                          |Lucas           |\n",
      "|Action   |Big Trouble in Little China|ACT      |[Big, Trouble, in, Little, China]|Big             |\n",
      "|Crime    |Manhunter                  |Crime    |[Manhunter]                      |Manhunter       |\n",
      "|Drama    |9� Weeks                   |Drama    |[9�, Weeks]                      |9�              |\n",
      "|Action   |Maximum Overdrive          |ACT      |[Maximum, Overdrive]             |Maximum         |\n",
      "|Comedy   |Little Shop of Horrors     |Comedy   |[Little, Shop, of, Horrors]      |Little          |\n",
      "|Action   |The Wraith                 |ACT      |[The, Wraith]                    |The             |\n",
      "|Action   |Howard the Duck            |ACT      |[Howard, the, Duck]              |Howard          |\n",
      "+---------+---------------------------+---------+---------------------------------+----------------+\n",
      "only showing top 20 rows\n",
      "\n"
     ]
    }
   ],
   "source": [
    "df_movie.select(\"Genre\", \"Name\")\\\n",
    ".withColumn(\"Genre_GNR\", regexp_replace(col(\"Genre\"), \"Action\", \"ACT\"))\\\n",
    ".withColumn(\"Name_split\", split(col(\"Name\"), \" \"))\\\n",
    ".withColumn(\"Name_first_split\", col(\"Name_split\")[0])\\\n",
    ".show(truncate = False)"
   ]
  },
  {
   "cell_type": "markdown",
   "metadata": {},
   "source": [
    "### Upper()"
   ]
  },
  {
   "cell_type": "code",
   "execution_count": 60,
   "metadata": {},
   "outputs": [
    {
     "name": "stdout",
     "output_type": "stream",
     "text": [
      "+--------------------+--------------------+\n",
      "|                Name|          Name_Upper|\n",
      "+--------------------+--------------------+\n",
      "|         stand by Me|         STAND BY ME|\n",
      "|ferris Bueller's ...|FERRIS BUELLER'S ...|\n",
      "|             Top Gun|             TOP GUN|\n",
      "|              Aliens|              ALIENS|\n",
      "|Flight of the Nav...|FLIGHT OF THE NAV...|\n",
      "|             Platoon|             PLATOON|\n",
      "|           Labyrinth|           LABYRINTH|\n",
      "|         Blue Velvet|         BLUE VELVET|\n",
      "|      Pretty in Pink|      PRETTY IN PINK|\n",
      "|             The Fly|             THE FLY|\n",
      "|    Crocodile Dundee|    CROCODILE DUNDEE|\n",
      "|          Highlander|          HIGHLANDER|\n",
      "|               Lucas|               LUCAS|\n",
      "|Big Trouble in Li...|BIG TROUBLE IN LI...|\n",
      "|           Manhunter|           MANHUNTER|\n",
      "|            9� Weeks|            9� WEEKS|\n",
      "|   Maximum Overdrive|   MAXIMUM OVERDRIVE|\n",
      "|Little Shop of Ho...|LITTLE SHOP OF HO...|\n",
      "|          The Wraith|          THE WRAITH|\n",
      "|     Howard the Duck|     HOWARD THE DUCK|\n",
      "+--------------------+--------------------+\n",
      "only showing top 20 rows\n",
      "\n"
     ]
    }
   ],
   "source": [
    "df_movie.select(\"Name\")\\\n",
    ".withColumn(\"Name_Upper\", upper(col(\"Name\"))).show()"
   ]
  },
  {
   "cell_type": "markdown",
   "metadata": {},
   "source": [
    "# --> Data Cleaning and Saving as a new File"
   ]
  },
  {
   "cell_type": "code",
   "execution_count": 61,
   "metadata": {
    "scrolled": true
   },
   "outputs": [
    {
     "name": "stdout",
     "output_type": "stream",
     "text": [
      "+--------------------+---------+------+-----+-------+----+--------+\n",
      "|                name|    genre|length|score|country|year|  budget|\n",
      "+--------------------+---------+------+-----+-------+----+--------+\n",
      "|         stand by Me|Adventure|    89|  8.1|    USA|1986| 8000000|\n",
      "|ferris Bueller's ...|   Comedy|  null|  7.8|    USA|1986| 6000000|\n",
      "|             Top Gun|     null|   110|  6.9|    USA|1986|15000000|\n",
      "|              Aliens|   Action|   137|  8.4|   null|1986|18500000|\n",
      "|Flight of the Nav...|Adventure|    90| null|    USA|1986| 9000000|\n",
      "|             Platoon|    Drama|   120|  8.1|     UK|1986| 6000000|\n",
      "|           Labyrinth|Adventure|   101|  7.4|     UK|1986|25000000|\n",
      "|         Blue Velvet|    Drama|   120| null|    USA|1986| 6000000|\n",
      "|      Pretty in Pink|   Comedy|  null|  6.8|    USA|1986| 9000000|\n",
      "|             The Fly|    Drama|    96|  7.5|    USA|1986|15000000|\n",
      "+--------------------+---------+------+-----+-------+----+--------+\n",
      "only showing top 10 rows\n",
      "\n"
     ]
    }
   ],
   "source": [
    "df_dirty_data = spark.read\\\n",
    ".option(\"header\",\"True\")\\\n",
    ".option(\"inferSchema\", \"True\")\\\n",
    ".csv(\"data/film_dirty_data.csv\")\n",
    "\n",
    "df_dirty_data.show(10)"
   ]
  },
  {
   "cell_type": "code",
   "execution_count": 62,
   "metadata": {},
   "outputs": [],
   "source": [
    "from pyspark.sql import functions as F"
   ]
  },
  {
   "cell_type": "code",
   "execution_count": 63,
   "metadata": {
    "scrolled": true
   },
   "outputs": [
    {
     "name": "stdout",
     "output_type": "stream",
     "text": [
      "+--------------------+---------+------+-----+-------+----+--------+\n",
      "|                name|    genre|length|score|country|year|  budget|\n",
      "+--------------------+---------+------+-----+-------+----+--------+\n",
      "|         Stand By Me|ADVENTURE|  89.0|  8.1|    USA|1986| 8000000|\n",
      "|Ferris Bueller's ...|   COMEDY| 103.0|  7.8|    USA|1986| 6000000|\n",
      "|             Top Gun|  Unknown| 110.0|  6.9|    USA|1986|15000000|\n",
      "|              Aliens|   ACTION| 137.0|  8.4|Unknown|1986|18500000|\n",
      "|Flight Of The Nav...|ADVENTURE|  90.0|  6.0|    USA|1986| 9000000|\n",
      "|             Platoon|    DRAMA| 120.0|  8.1|     UK|1986| 6000000|\n",
      "|           Labyrinth|ADVENTURE| 101.0|  7.4|     UK|1986|25000000|\n",
      "|         Blue Velvet|    DRAMA| 120.0|  6.0|    USA|1986| 6000000|\n",
      "|      Pretty In Pink|   COMEDY| 103.0|  6.8|    USA|1986| 9000000|\n",
      "|             The Fly|    DRAMA|  96.0|  7.5|    USA|1986|15000000|\n",
      "+--------------------+---------+------+-----+-------+----+--------+\n",
      "only showing top 10 rows\n",
      "\n"
     ]
    }
   ],
   "source": [
    "df_clean = df_dirty_data\\\n",
    ".withColumn(\"name\", F.trim(F.initcap(df_dirty_data.name)))\\\n",
    ".withColumn(\"genre\",F.when(df_dirty_data.genre.isNull(), \"Unknown\").otherwise(F.trim(F.upper(df_dirty_data.genre))))\\\n",
    ".withColumn(\"country\",F.when(df_dirty_data.country.isNull(), \"Unknown\").otherwise(F.trim(F.upper(df_dirty_data.country))))\\\n",
    ".withColumn(\"length\",F.when(df_dirty_data.length.isNull(), \n",
    "                            df_dirty_data.agg({\"length\": \"avg\"}).select(round(col(\"avg(length)\"))).collect()[0][0])\\\n",
    "                            .otherwise(df_dirty_data.length))\\\n",
    ".withColumn(\"score\",F.when(df_dirty_data.score.isNull(), \n",
    "                           df_dirty_data.agg({\"score\": \"avg\"}).select(round(col(\"avg(score)\"))).collect()[0][0])\\\n",
    "                            .otherwise(df_dirty_data.score))\n",
    "\n",
    "df_clean.show(10)"
   ]
  },
  {
   "cell_type": "markdown",
   "metadata": {},
   "source": [
    "### Writing clean data to disc/hdd"
   ]
  },
  {
   "cell_type": "code",
   "execution_count": 64,
   "metadata": {
    "scrolled": true
   },
   "outputs": [],
   "source": [
    "df_clean.coalesce(1).write.mode(\"overwrite\")\\\n",
    ".option(\"sep\",\",\")\\\n",
    ".option(\"header\", \"True\")\\\n",
    ".csv(\"data/film_clean_data\")"
   ]
  },
  {
   "cell_type": "markdown",
   "metadata": {},
   "source": [
    "### Reading clean data from disc/hdd"
   ]
  },
  {
   "cell_type": "code",
   "execution_count": 65,
   "metadata": {},
   "outputs": [
    {
     "name": "stdout",
     "output_type": "stream",
     "text": [
      "+--------------------+---------+------+-----+-------+----+--------+\n",
      "|                name|    genre|length|score|country|year|  budget|\n",
      "+--------------------+---------+------+-----+-------+----+--------+\n",
      "|         Stand By Me|ADVENTURE|  89.0|  8.1|    USA|1986| 8000000|\n",
      "|Ferris Bueller's ...|   COMEDY| 103.0|  7.8|    USA|1986| 6000000|\n",
      "|             Top Gun|  Unknown| 110.0|  6.9|    USA|1986|15000000|\n",
      "|              Aliens|   ACTION| 137.0|  8.4|Unknown|1986|18500000|\n",
      "|Flight Of The Nav...|ADVENTURE|  90.0|  6.0|    USA|1986| 9000000|\n",
      "|             Platoon|    DRAMA| 120.0|  8.1|     UK|1986| 6000000|\n",
      "|           Labyrinth|ADVENTURE| 101.0|  7.4|     UK|1986|25000000|\n",
      "|         Blue Velvet|    DRAMA| 120.0|  6.0|    USA|1986| 6000000|\n",
      "|      Pretty In Pink|   COMEDY| 103.0|  6.8|    USA|1986| 9000000|\n",
      "|             The Fly|    DRAMA|  96.0|  7.5|    USA|1986|15000000|\n",
      "+--------------------+---------+------+-----+-------+----+--------+\n",
      "only showing top 10 rows\n",
      "\n"
     ]
    }
   ],
   "source": [
    "df_clean_read = spark.read\\\n",
    ".option(\"inferSchema\", \"True\")\\\n",
    ".option(\"header\", \"True\")\\\n",
    ".option(\"sep\", \",\")\\\n",
    ".csv(\"data/film_clean_data\")\n",
    "\n",
    "df_clean_read.show(10)"
   ]
  },
  {
   "cell_type": "markdown",
   "metadata": {},
   "source": [
    "## Creating manually Schema "
   ]
  },
  {
   "cell_type": "code",
   "execution_count": 66,
   "metadata": {},
   "outputs": [
    {
     "name": "stdout",
     "output_type": "stream",
     "text": [
      "root\n",
      " |-- Name: string (nullable = true)\n",
      " |-- Genre: string (nullable = true)\n",
      " |-- Length: integer (nullable = true)\n",
      " |-- Score: double (nullable = true)\n",
      " |-- Country: string (nullable = true)\n",
      " |-- Year: string (nullable = true)\n",
      " |-- Budget: integer (nullable = true)\n",
      "\n"
     ]
    }
   ],
   "source": [
    "df_manual_schema = spark.read\\\n",
    ".option(\"header\",\"True\")\\\n",
    ".option(\"inferSchema\", \"True\")\\\n",
    ".csv(\"data/film_data.csv\")\n",
    "\n",
    "df_manual_schema.printSchema()"
   ]
  },
  {
   "cell_type": "code",
   "execution_count": 67,
   "metadata": {},
   "outputs": [
    {
     "name": "stdout",
     "output_type": "stream",
     "text": [
      "+--------------------+---------+------+-----+-------+----+--------+\n",
      "|                Name|    Genre|Length|Score|Country|Year|  Budget|\n",
      "+--------------------+---------+------+-----+-------+----+--------+\n",
      "|         stand by Me|Adventure|    89|  8.1|    USA|1986| 8000000|\n",
      "|ferris Bueller's ...|   Comedy|   103|  7.8|    USA|1986| 6000000|\n",
      "|             Top Gun|   Action|   110|  6.9|    USA|1986|15000000|\n",
      "|              Aliens|   Action|   137|  8.4|    USA|1986|18500000|\n",
      "|Flight of the Nav...|Adventure|    90|  6.9|    USA|1986| 9000000|\n",
      "+--------------------+---------+------+-----+-------+----+--------+\n",
      "only showing top 5 rows\n",
      "\n"
     ]
    }
   ],
   "source": [
    "df_manual_schema.show(5)"
   ]
  },
  {
   "cell_type": "code",
   "execution_count": 68,
   "metadata": {},
   "outputs": [],
   "source": [
    "from pyspark.sql.types import StructType, StructField, StringType, IntegerType, FloatType"
   ]
  },
  {
   "cell_type": "code",
   "execution_count": 69,
   "metadata": {},
   "outputs": [],
   "source": [
    "manual_schema = StructType(\n",
    "[\n",
    "    StructField(\"Name\", StringType(), True),\n",
    "    StructField(\"Genre\", StringType(), True),\n",
    "    StructField(\"Length\", IntegerType(), True),\n",
    "    StructField(\"Score\", FloatType(), True),\n",
    "    StructField(\"Country\", StringType(), True),\n",
    "    StructField(\"Year\", IntegerType(), True),\n",
    "    StructField(\"Budget\", FloatType(), True)\n",
    "]\n",
    ")"
   ]
  },
  {
   "cell_type": "code",
   "execution_count": 70,
   "metadata": {},
   "outputs": [
    {
     "name": "stdout",
     "output_type": "stream",
     "text": [
      "root\n",
      " |-- Name: string (nullable = true)\n",
      " |-- Genre: string (nullable = true)\n",
      " |-- Length: integer (nullable = true)\n",
      " |-- Score: float (nullable = true)\n",
      " |-- Country: string (nullable = true)\n",
      " |-- Year: integer (nullable = true)\n",
      " |-- Budget: float (nullable = true)\n",
      "\n"
     ]
    }
   ],
   "source": [
    "df_manual_schema2 = spark.read\\\n",
    ".option(\"header\", \"True\")\\\n",
    ".option(\"sep\",\",\")\\\n",
    ".schema(manual_schema)\\\n",
    ".csv(\"data/film_data.csv\")\n",
    "\n",
    "df_manual_schema2.printSchema()"
   ]
  },
  {
   "cell_type": "code",
   "execution_count": 71,
   "metadata": {},
   "outputs": [
    {
     "name": "stdout",
     "output_type": "stream",
     "text": [
      "+--------------------+---------+------+-----+-------+----+---------+\n",
      "|                Name|    Genre|Length|Score|Country|Year|   Budget|\n",
      "+--------------------+---------+------+-----+-------+----+---------+\n",
      "|         stand by Me|Adventure|    89|  8.1|    USA|1986|8000000.0|\n",
      "|ferris Bueller's ...|   Comedy|   103|  7.8|    USA|1986|6000000.0|\n",
      "|             Top Gun|   Action|   110|  6.9|    USA|1986|    1.5E7|\n",
      "|              Aliens|   Action|   137|  8.4|    USA|1986|   1.85E7|\n",
      "|Flight of the Nav...|Adventure|    90|  6.9|    USA|1986|9000000.0|\n",
      "+--------------------+---------+------+-----+-------+----+---------+\n",
      "only showing top 5 rows\n",
      "\n"
     ]
    }
   ],
   "source": [
    "df_manual_schema2.show(5)"
   ]
  },
  {
   "cell_type": "markdown",
   "metadata": {},
   "source": [
    "#### Formatting Budget column values "
   ]
  },
  {
   "cell_type": "code",
   "execution_count": 72,
   "metadata": {
    "scrolled": true
   },
   "outputs": [],
   "source": [
    "df_manual_schema2 = df_manual_schema2\\\n",
    ".withColumn(\"Budget\", format_number(col(\"Budget\"), 2))"
   ]
  },
  {
   "cell_type": "markdown",
   "metadata": {},
   "source": [
    "#### Replacing point (.) instead of comma (,)"
   ]
  },
  {
   "cell_type": "code",
   "execution_count": 73,
   "metadata": {},
   "outputs": [],
   "source": [
    "df_manual_schema2 = df_manual_schema2.withColumn(\"Budget\", regexp_replace(col(\"Budget\"), \",\", \".\"))"
   ]
  },
  {
   "cell_type": "code",
   "execution_count": 74,
   "metadata": {},
   "outputs": [
    {
     "name": "stdout",
     "output_type": "stream",
     "text": [
      "+--------------------+---------+------+-----+-------+----+-------------+\n",
      "|                Name|    Genre|Length|Score|Country|Year|       Budget|\n",
      "+--------------------+---------+------+-----+-------+----+-------------+\n",
      "|         stand by Me|Adventure|    89|  8.1|    USA|1986| 8.000.000.00|\n",
      "|ferris Bueller's ...|   Comedy|   103|  7.8|    USA|1986| 6.000.000.00|\n",
      "|             Top Gun|   Action|   110|  6.9|    USA|1986|15.000.000.00|\n",
      "+--------------------+---------+------+-----+-------+----+-------------+\n",
      "only showing top 3 rows\n",
      "\n"
     ]
    }
   ],
   "source": [
    "df_manual_schema2.show(3)"
   ]
  },
  {
   "cell_type": "markdown",
   "metadata": {},
   "source": [
    "### Saving Spark DataFrame into partitoned folder"
   ]
  },
  {
   "cell_type": "code",
   "execution_count": 75,
   "metadata": {},
   "outputs": [],
   "source": [
    "df_manual_schema2\\\n",
    ".coalesce(1)\\\n",
    ".write\\\n",
    ".mode(\"overwrite\")\\\n",
    ".option(\"sep\",\",\")\\\n",
    ".option(\"header\", \"True\")\\\n",
    ".csv(\"data/film_clean_data2\")"
   ]
  },
  {
   "cell_type": "markdown",
   "metadata": {},
   "source": [
    "### Converting Spark DataFrame to Pandas DataFrame and save single csv"
   ]
  },
  {
   "cell_type": "code",
   "execution_count": 76,
   "metadata": {},
   "outputs": [],
   "source": [
    "df_manual_schema2.toPandas().to_csv(\"data/film_clean_data.csv\")"
   ]
  },
  {
   "cell_type": "markdown",
   "metadata": {},
   "source": [
    "# --> PySpark DataFrame API Date-Time Operations"
   ]
  },
  {
   "cell_type": "code",
   "execution_count": 77,
   "metadata": {},
   "outputs": [],
   "source": [
    "df_datetime = spark.read\\\n",
    ".option(\"header\", \"True\")\\\n",
    ".option(\"sep\",\",\")\\\n",
    ".option(\"inferSchema\", \"True\")\\\n",
    ".csv(\"data/film_data.csv\")"
   ]
  },
  {
   "cell_type": "code",
   "execution_count": 78,
   "metadata": {},
   "outputs": [
    {
     "name": "stdout",
     "output_type": "stream",
     "text": [
      "+--------------------+---------+------+-----+-------+----------------+--------+\n",
      "|                Name|    Genre|Length|Score|Country|            Year|  Budget|\n",
      "+--------------------+---------+------+-----+-------+----------------+--------+\n",
      "|         stand by Me|Adventure|    89|  8.1|    USA|01.01.1986 00:01| 8000000|\n",
      "|ferris Bueller's ...|   Comedy|   103|  7.8|    USA|01.01.1986 00:01| 6000000|\n",
      "|             Top Gun|   Action|   110|  6.9|    USA|01.01.1986 00:01|15000000|\n",
      "+--------------------+---------+------+-----+-------+----------------+--------+\n",
      "only showing top 3 rows\n",
      "\n"
     ]
    }
   ],
   "source": [
    "df_datetime = df_datetime.withColumn(\"Year\", F.regexp_replace(F.col(\"Year\"), \"1986\", \"01.01.1986 00:01\"))\n",
    "df_datetime.show(3)"
   ]
  },
  {
   "cell_type": "code",
   "execution_count": 79,
   "metadata": {},
   "outputs": [],
   "source": [
    "from pyspark.sql import functions as F"
   ]
  },
  {
   "cell_type": "code",
   "execution_count": 80,
   "metadata": {},
   "outputs": [],
   "source": [
    "current_format = \"dd.MM.yyyy HH:mm\""
   ]
  },
  {
   "cell_type": "code",
   "execution_count": 81,
   "metadata": {},
   "outputs": [
    {
     "name": "stdout",
     "output_type": "stream",
     "text": [
      "+----------------+-------------+-------------------+\n",
      "|            Year|Normal_Format|    Standart_Format|\n",
      "+----------------+-------------+-------------------+\n",
      "|01.01.1986 00:01|   1986-01-01|1986-01-01 00:01:00|\n",
      "|01.01.1986 00:01|   1986-01-01|1986-01-01 00:01:00|\n",
      "|01.01.1986 00:01|   1986-01-01|1986-01-01 00:01:00|\n",
      "|01.01.1986 00:01|   1986-01-01|1986-01-01 00:01:00|\n",
      "|01.01.1986 00:01|   1986-01-01|1986-01-01 00:01:00|\n",
      "|01.01.1986 00:01|   1986-01-01|1986-01-01 00:01:00|\n",
      "|01.01.1986 00:01|   1986-01-01|1986-01-01 00:01:00|\n",
      "|01.01.1986 00:01|   1986-01-01|1986-01-01 00:01:00|\n",
      "|01.01.1986 00:01|   1986-01-01|1986-01-01 00:01:00|\n",
      "|01.01.1986 00:01|   1986-01-01|1986-01-01 00:01:00|\n",
      "+----------------+-------------+-------------------+\n",
      "only showing top 10 rows\n",
      "\n"
     ]
    }
   ],
   "source": [
    "df_datetime2 = df_datetime.select(\"Year\")\\\n",
    ".withColumn(\"Normal_Format\", F.to_date(F.col(\"Year\"), current_format))\\\n",
    ".withColumn(\"Standart_Format\", F.to_timestamp(F.col(\"Year\"), current_format))\n",
    "\n",
    "df_datetime2.show(10)"
   ]
  },
  {
   "cell_type": "code",
   "execution_count": 82,
   "metadata": {},
   "outputs": [
    {
     "name": "stdout",
     "output_type": "stream",
     "text": [
      "root\n",
      " |-- Year: string (nullable = true)\n",
      " |-- Normal_Format: date (nullable = true)\n",
      " |-- Standart_Format: timestamp (nullable = true)\n",
      "\n"
     ]
    }
   ],
   "source": [
    "df_datetime2.printSchema()"
   ]
  },
  {
   "cell_type": "markdown",
   "metadata": {},
   "source": [
    "### Date Format Convert"
   ]
  },
  {
   "cell_type": "code",
   "execution_count": 83,
   "metadata": {},
   "outputs": [
    {
     "name": "stdout",
     "output_type": "stream",
     "text": [
      "+-------------------+-------------------+\n",
      "|          TR Format|         ENG Format|\n",
      "+-------------------+-------------------+\n",
      "|01/01/1986 00:01:00|01-01-1986 00.01.00|\n",
      "|01/01/1986 00:01:00|01-01-1986 00.01.00|\n",
      "|01/01/1986 00:01:00|01-01-1986 00.01.00|\n",
      "|01/01/1986 00:01:00|01-01-1986 00.01.00|\n",
      "|01/01/1986 00:01:00|01-01-1986 00.01.00|\n",
      "|01/01/1986 00:01:00|01-01-1986 00.01.00|\n",
      "|01/01/1986 00:01:00|01-01-1986 00.01.00|\n",
      "|01/01/1986 00:01:00|01-01-1986 00.01.00|\n",
      "|01/01/1986 00:01:00|01-01-1986 00.01.00|\n",
      "|01/01/1986 00:01:00|01-01-1986 00.01.00|\n",
      "+-------------------+-------------------+\n",
      "only showing top 10 rows\n",
      "\n"
     ]
    }
   ],
   "source": [
    "format_tr = \"dd/MM/yyyy HH:mm:ss\"\n",
    "format_eng = \"MM-dd-yyyy HH.mm.ss\"\n",
    "\n",
    "\n",
    "df_datetime3 = df_datetime2\\\n",
    ".withColumn(\"TR Format\", F.date_format(F.col(\"Standart_Format\"), format_tr))\\\n",
    ".withColumn(\"ENG Format\",F.date_format(F.col(\"Standart_Format\"), format_eng))\n",
    "\n",
    "df_datetime3.select(\"TR Format\", \"ENG Format\").show(10)"
   ]
  },
  {
   "cell_type": "markdown",
   "metadata": {},
   "source": [
    "### date_add(), year(), datediff()"
   ]
  },
  {
   "cell_type": "code",
   "execution_count": 84,
   "metadata": {},
   "outputs": [
    {
     "name": "stdout",
     "output_type": "stream",
     "text": [
      "+----------------+-------------------+----------+--------+--------------+\n",
      "|            Year|    Standart_Format|   OneYear|OnlyYear|DateDifference|\n",
      "+----------------+-------------------+----------+--------+--------------+\n",
      "|01.01.1986 00:01|1986-01-01 00:01:00|1987-01-01|    1986|           365|\n",
      "|01.01.1986 00:01|1986-01-01 00:01:00|1987-01-01|    1986|           365|\n",
      "|01.01.1986 00:01|1986-01-01 00:01:00|1987-01-01|    1986|           365|\n",
      "|01.01.1986 00:01|1986-01-01 00:01:00|1987-01-01|    1986|           365|\n",
      "|01.01.1986 00:01|1986-01-01 00:01:00|1987-01-01|    1986|           365|\n",
      "|01.01.1986 00:01|1986-01-01 00:01:00|1987-01-01|    1986|           365|\n",
      "|01.01.1986 00:01|1986-01-01 00:01:00|1987-01-01|    1986|           365|\n",
      "|01.01.1986 00:01|1986-01-01 00:01:00|1987-01-01|    1986|           365|\n",
      "|01.01.1986 00:01|1986-01-01 00:01:00|1987-01-01|    1986|           365|\n",
      "|01.01.1986 00:01|1986-01-01 00:01:00|1987-01-01|    1986|           365|\n",
      "+----------------+-------------------+----------+--------+--------------+\n",
      "only showing top 10 rows\n",
      "\n"
     ]
    }
   ],
   "source": [
    "df_datetime4 = df_datetime2\\\n",
    ".withColumn(\"OneYear\", F.date_add(F.col(\"Standart_Format\"), 365))\\\n",
    ".withColumn(\"OnlyYear\",F.year(F.col(\"Standart_Format\")))\\\n",
    ".withColumn(\"DateDifference\", F.datediff(F.col(\"OneYear\"), df_datetime2.Standart_Format))\n",
    "\n",
    "df_datetime4 = df_datetime4.drop(\"Normal_Format\")\n",
    "df_datetime4.show(10)"
   ]
  }
 ],
 "metadata": {
  "kernelspec": {
   "display_name": "Python 3",
   "language": "python",
   "name": "python3"
  },
  "language_info": {
   "codemirror_mode": {
    "name": "ipython",
    "version": 3
   },
   "file_extension": ".py",
   "mimetype": "text/x-python",
   "name": "python",
   "nbconvert_exporter": "python",
   "pygments_lexer": "ipython3",
   "version": "3.7.1"
  }
 },
 "nbformat": 4,
 "nbformat_minor": 2
}
