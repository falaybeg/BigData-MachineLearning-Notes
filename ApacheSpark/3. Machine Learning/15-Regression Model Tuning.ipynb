{
 "cells": [
  {
   "cell_type": "markdown",
   "metadata": {},
   "source": [
    "# Regression Model Tuning (Cross-Validation)"
   ]
  },
  {
   "cell_type": "code",
   "execution_count": 1,
   "metadata": {},
   "outputs": [],
   "source": [
    "import findspark\n",
    "findspark.init()"
   ]
  },
  {
   "cell_type": "code",
   "execution_count": 2,
   "metadata": {},
   "outputs": [],
   "source": [
    "from pyspark.sql import SparkSession \n",
    "from pyspark.sql.functions import *\n",
    "\n",
    "pyspark = SparkSession.builder \\\n",
    ".master(\"local[4]\")\\\n",
    ".appName(\"RegressionModelTuning\")\\\n",
    ".config(\"spark.executer.memory\",\"4g\")\\\n",
    ".config(\"spark.driver.memory\",\"2g\")\\\n",
    ".getOrCreate()\n",
    "\n",
    "sc = pyspark.sparkContext"
   ]
  },
  {
   "cell_type": "code",
   "execution_count": 3,
   "metadata": {},
   "outputs": [],
   "source": [
    "life_df = spark.read.format(\"csv\")\\\n",
    ".option(\"header\",\"True\")\\\n",
    ".option(\"inferSchema\", \"True\")\\\n",
    ".option(\"sep\", \",\")\\\n",
    ".load(\"data/LifeExpectancyData.csv\")"
   ]
  },
  {
   "cell_type": "code",
   "execution_count": 4,
   "metadata": {},
   "outputs": [
    {
     "data": {
      "text/html": [
       "<div>\n",
       "<style scoped>\n",
       "    .dataframe tbody tr th:only-of-type {\n",
       "        vertical-align: middle;\n",
       "    }\n",
       "\n",
       "    .dataframe tbody tr th {\n",
       "        vertical-align: top;\n",
       "    }\n",
       "\n",
       "    .dataframe thead th {\n",
       "        text-align: right;\n",
       "    }\n",
       "</style>\n",
       "<table border=\"1\" class=\"dataframe\">\n",
       "  <thead>\n",
       "    <tr style=\"text-align: right;\">\n",
       "      <th></th>\n",
       "      <th>Country</th>\n",
       "      <th>Year</th>\n",
       "      <th>Status</th>\n",
       "      <th>Life expectancy</th>\n",
       "      <th>Adult Mortality</th>\n",
       "      <th>infant deaths</th>\n",
       "      <th>Alcohol</th>\n",
       "      <th>percentage expenditure</th>\n",
       "      <th>Hepatitis B</th>\n",
       "      <th>Measles</th>\n",
       "      <th>...</th>\n",
       "      <th>Polio</th>\n",
       "      <th>Total expenditure</th>\n",
       "      <th>Diphtheria</th>\n",
       "      <th>HIV/AIDS</th>\n",
       "      <th>GDP</th>\n",
       "      <th>Population</th>\n",
       "      <th>thinness  1-19 years</th>\n",
       "      <th>thinness 5-9 years</th>\n",
       "      <th>Income composition of resources</th>\n",
       "      <th>Schooling</th>\n",
       "    </tr>\n",
       "  </thead>\n",
       "  <tbody>\n",
       "    <tr>\n",
       "      <th>0</th>\n",
       "      <td>Afghanistan</td>\n",
       "      <td>2015</td>\n",
       "      <td>Developing</td>\n",
       "      <td>65.0</td>\n",
       "      <td>263.0</td>\n",
       "      <td>62</td>\n",
       "      <td>0.01</td>\n",
       "      <td>71.279624</td>\n",
       "      <td>65.0</td>\n",
       "      <td>1154</td>\n",
       "      <td>...</td>\n",
       "      <td>6.0</td>\n",
       "      <td>8.16</td>\n",
       "      <td>65.0</td>\n",
       "      <td>0.1</td>\n",
       "      <td>584.259210</td>\n",
       "      <td>33736494.0</td>\n",
       "      <td>17.2</td>\n",
       "      <td>17.3</td>\n",
       "      <td>0.479</td>\n",
       "      <td>10.1</td>\n",
       "    </tr>\n",
       "    <tr>\n",
       "      <th>1</th>\n",
       "      <td>Afghanistan</td>\n",
       "      <td>2014</td>\n",
       "      <td>Developing</td>\n",
       "      <td>59.9</td>\n",
       "      <td>271.0</td>\n",
       "      <td>64</td>\n",
       "      <td>0.01</td>\n",
       "      <td>73.523582</td>\n",
       "      <td>62.0</td>\n",
       "      <td>492</td>\n",
       "      <td>...</td>\n",
       "      <td>58.0</td>\n",
       "      <td>8.18</td>\n",
       "      <td>62.0</td>\n",
       "      <td>0.1</td>\n",
       "      <td>612.696514</td>\n",
       "      <td>327582.0</td>\n",
       "      <td>17.5</td>\n",
       "      <td>17.5</td>\n",
       "      <td>0.476</td>\n",
       "      <td>10.0</td>\n",
       "    </tr>\n",
       "    <tr>\n",
       "      <th>2</th>\n",
       "      <td>Afghanistan</td>\n",
       "      <td>2013</td>\n",
       "      <td>Developing</td>\n",
       "      <td>59.9</td>\n",
       "      <td>268.0</td>\n",
       "      <td>66</td>\n",
       "      <td>0.01</td>\n",
       "      <td>73.219243</td>\n",
       "      <td>64.0</td>\n",
       "      <td>430</td>\n",
       "      <td>...</td>\n",
       "      <td>62.0</td>\n",
       "      <td>8.13</td>\n",
       "      <td>64.0</td>\n",
       "      <td>0.1</td>\n",
       "      <td>631.744976</td>\n",
       "      <td>31731688.0</td>\n",
       "      <td>17.7</td>\n",
       "      <td>17.7</td>\n",
       "      <td>0.470</td>\n",
       "      <td>9.9</td>\n",
       "    </tr>\n",
       "    <tr>\n",
       "      <th>3</th>\n",
       "      <td>Afghanistan</td>\n",
       "      <td>2012</td>\n",
       "      <td>Developing</td>\n",
       "      <td>59.5</td>\n",
       "      <td>272.0</td>\n",
       "      <td>69</td>\n",
       "      <td>0.01</td>\n",
       "      <td>78.184215</td>\n",
       "      <td>67.0</td>\n",
       "      <td>2787</td>\n",
       "      <td>...</td>\n",
       "      <td>67.0</td>\n",
       "      <td>8.52</td>\n",
       "      <td>67.0</td>\n",
       "      <td>0.1</td>\n",
       "      <td>669.959000</td>\n",
       "      <td>3696958.0</td>\n",
       "      <td>17.9</td>\n",
       "      <td>18.0</td>\n",
       "      <td>0.463</td>\n",
       "      <td>9.8</td>\n",
       "    </tr>\n",
       "    <tr>\n",
       "      <th>4</th>\n",
       "      <td>Afghanistan</td>\n",
       "      <td>2011</td>\n",
       "      <td>Developing</td>\n",
       "      <td>59.2</td>\n",
       "      <td>275.0</td>\n",
       "      <td>71</td>\n",
       "      <td>0.01</td>\n",
       "      <td>7.097109</td>\n",
       "      <td>68.0</td>\n",
       "      <td>3013</td>\n",
       "      <td>...</td>\n",
       "      <td>68.0</td>\n",
       "      <td>7.87</td>\n",
       "      <td>68.0</td>\n",
       "      <td>0.1</td>\n",
       "      <td>63.537231</td>\n",
       "      <td>2978599.0</td>\n",
       "      <td>18.2</td>\n",
       "      <td>18.2</td>\n",
       "      <td>0.454</td>\n",
       "      <td>9.5</td>\n",
       "    </tr>\n",
       "  </tbody>\n",
       "</table>\n",
       "<p>5 rows × 22 columns</p>\n",
       "</div>"
      ],
      "text/plain": [
       "       Country  Year      Status  Life expectancy   Adult Mortality  \\\n",
       "0  Afghanistan  2015  Developing              65.0            263.0   \n",
       "1  Afghanistan  2014  Developing              59.9            271.0   \n",
       "2  Afghanistan  2013  Developing              59.9            268.0   \n",
       "3  Afghanistan  2012  Developing              59.5            272.0   \n",
       "4  Afghanistan  2011  Developing              59.2            275.0   \n",
       "\n",
       "   infant deaths  Alcohol  percentage expenditure  Hepatitis B  Measles   \\\n",
       "0             62     0.01               71.279624         65.0      1154   \n",
       "1             64     0.01               73.523582         62.0       492   \n",
       "2             66     0.01               73.219243         64.0       430   \n",
       "3             69     0.01               78.184215         67.0      2787   \n",
       "4             71     0.01                7.097109         68.0      3013   \n",
       "\n",
       "     ...      Polio  Total expenditure  Diphtheria    HIV/AIDS         GDP  \\\n",
       "0    ...        6.0               8.16         65.0        0.1  584.259210   \n",
       "1    ...       58.0               8.18         62.0        0.1  612.696514   \n",
       "2    ...       62.0               8.13         64.0        0.1  631.744976   \n",
       "3    ...       67.0               8.52         67.0        0.1  669.959000   \n",
       "4    ...       68.0               7.87         68.0        0.1   63.537231   \n",
       "\n",
       "   Population   thinness  1-19 years   thinness 5-9 years  \\\n",
       "0  33736494.0                   17.2                 17.3   \n",
       "1    327582.0                   17.5                 17.5   \n",
       "2  31731688.0                   17.7                 17.7   \n",
       "3   3696958.0                   17.9                 18.0   \n",
       "4   2978599.0                   18.2                 18.2   \n",
       "\n",
       "   Income composition of resources  Schooling  \n",
       "0                            0.479       10.1  \n",
       "1                            0.476       10.0  \n",
       "2                            0.470        9.9  \n",
       "3                            0.463        9.8  \n",
       "4                            0.454        9.5  \n",
       "\n",
       "[5 rows x 22 columns]"
      ]
     },
     "execution_count": 4,
     "metadata": {},
     "output_type": "execute_result"
    }
   ],
   "source": [
    "life_df.toPandas().head()"
   ]
  },
  {
   "cell_type": "code",
   "execution_count": 5,
   "metadata": {},
   "outputs": [
    {
     "name": "stdout",
     "output_type": "stream",
     "text": [
      "root\n",
      " |-- Country: string (nullable = true)\n",
      " |-- Year: integer (nullable = true)\n",
      " |-- Status: string (nullable = true)\n",
      " |-- Life expectancy : double (nullable = true)\n",
      " |-- Adult Mortality: integer (nullable = true)\n",
      " |-- infant deaths: integer (nullable = true)\n",
      " |-- Alcohol: double (nullable = true)\n",
      " |-- percentage expenditure: double (nullable = true)\n",
      " |-- Hepatitis B: integer (nullable = true)\n",
      " |-- Measles : integer (nullable = true)\n",
      " |--  BMI : double (nullable = true)\n",
      " |-- under-five deaths : integer (nullable = true)\n",
      " |-- Polio: integer (nullable = true)\n",
      " |-- Total expenditure: double (nullable = true)\n",
      " |-- Diphtheria : integer (nullable = true)\n",
      " |--  HIV/AIDS: double (nullable = true)\n",
      " |-- GDP: double (nullable = true)\n",
      " |-- Population: double (nullable = true)\n",
      " |--  thinness  1-19 years: double (nullable = true)\n",
      " |--  thinness 5-9 years: double (nullable = true)\n",
      " |-- Income composition of resources: double (nullable = true)\n",
      " |-- Schooling: double (nullable = true)\n",
      "\n"
     ]
    }
   ],
   "source": [
    "life_df.printSchema()"
   ]
  },
  {
   "cell_type": "code",
   "execution_count": 6,
   "metadata": {},
   "outputs": [],
   "source": [
    "new_column_names = [\"Country\", \"Year\", \"Status\", \"label\", \"AdultMortality\",\n",
    "      \"InfantDeaths\", \"Alcohol\", \"PercentageExpenditure\", \"HepatitisB\", \"Measles\", \"BMI\",\n",
    "      \"UnderFiveDeaths\", \"Polio\", \"TotalExpenditure\", \"Diphtheria\", \"HIV_AIDS\", \"GDP\", \n",
    "      \"Population\", \"Thinness1-19years\", \"Thinness5-9years\", \"IncomeCompositionOfResources\", \"Schooling\"]"
   ]
  },
  {
   "cell_type": "code",
   "execution_count": 7,
   "metadata": {
    "scrolled": false
   },
   "outputs": [],
   "source": [
    "life_df = life_df.toDF(*new_column_names)"
   ]
  },
  {
   "cell_type": "code",
   "execution_count": 8,
   "metadata": {},
   "outputs": [
    {
     "data": {
      "text/html": [
       "<div>\n",
       "<style scoped>\n",
       "    .dataframe tbody tr th:only-of-type {\n",
       "        vertical-align: middle;\n",
       "    }\n",
       "\n",
       "    .dataframe tbody tr th {\n",
       "        vertical-align: top;\n",
       "    }\n",
       "\n",
       "    .dataframe thead th {\n",
       "        text-align: right;\n",
       "    }\n",
       "</style>\n",
       "<table border=\"1\" class=\"dataframe\">\n",
       "  <thead>\n",
       "    <tr style=\"text-align: right;\">\n",
       "      <th></th>\n",
       "      <th>Country</th>\n",
       "      <th>Year</th>\n",
       "      <th>Status</th>\n",
       "      <th>label</th>\n",
       "      <th>AdultMortality</th>\n",
       "      <th>InfantDeaths</th>\n",
       "      <th>Alcohol</th>\n",
       "      <th>PercentageExpenditure</th>\n",
       "      <th>HepatitisB</th>\n",
       "      <th>Measles</th>\n",
       "      <th>...</th>\n",
       "      <th>Polio</th>\n",
       "      <th>TotalExpenditure</th>\n",
       "      <th>Diphtheria</th>\n",
       "      <th>HIV_AIDS</th>\n",
       "      <th>GDP</th>\n",
       "      <th>Population</th>\n",
       "      <th>Thinness1-19years</th>\n",
       "      <th>Thinness5-9years</th>\n",
       "      <th>IncomeCompositionOfResources</th>\n",
       "      <th>Schooling</th>\n",
       "    </tr>\n",
       "  </thead>\n",
       "  <tbody>\n",
       "    <tr>\n",
       "      <th>0</th>\n",
       "      <td>Afghanistan</td>\n",
       "      <td>2015</td>\n",
       "      <td>Developing</td>\n",
       "      <td>65.0</td>\n",
       "      <td>263.0</td>\n",
       "      <td>62</td>\n",
       "      <td>0.01</td>\n",
       "      <td>71.279624</td>\n",
       "      <td>65.0</td>\n",
       "      <td>1154</td>\n",
       "      <td>...</td>\n",
       "      <td>6.0</td>\n",
       "      <td>8.16</td>\n",
       "      <td>65.0</td>\n",
       "      <td>0.1</td>\n",
       "      <td>584.259210</td>\n",
       "      <td>33736494.0</td>\n",
       "      <td>17.2</td>\n",
       "      <td>17.3</td>\n",
       "      <td>0.479</td>\n",
       "      <td>10.1</td>\n",
       "    </tr>\n",
       "    <tr>\n",
       "      <th>1</th>\n",
       "      <td>Afghanistan</td>\n",
       "      <td>2014</td>\n",
       "      <td>Developing</td>\n",
       "      <td>59.9</td>\n",
       "      <td>271.0</td>\n",
       "      <td>64</td>\n",
       "      <td>0.01</td>\n",
       "      <td>73.523582</td>\n",
       "      <td>62.0</td>\n",
       "      <td>492</td>\n",
       "      <td>...</td>\n",
       "      <td>58.0</td>\n",
       "      <td>8.18</td>\n",
       "      <td>62.0</td>\n",
       "      <td>0.1</td>\n",
       "      <td>612.696514</td>\n",
       "      <td>327582.0</td>\n",
       "      <td>17.5</td>\n",
       "      <td>17.5</td>\n",
       "      <td>0.476</td>\n",
       "      <td>10.0</td>\n",
       "    </tr>\n",
       "    <tr>\n",
       "      <th>2</th>\n",
       "      <td>Afghanistan</td>\n",
       "      <td>2013</td>\n",
       "      <td>Developing</td>\n",
       "      <td>59.9</td>\n",
       "      <td>268.0</td>\n",
       "      <td>66</td>\n",
       "      <td>0.01</td>\n",
       "      <td>73.219243</td>\n",
       "      <td>64.0</td>\n",
       "      <td>430</td>\n",
       "      <td>...</td>\n",
       "      <td>62.0</td>\n",
       "      <td>8.13</td>\n",
       "      <td>64.0</td>\n",
       "      <td>0.1</td>\n",
       "      <td>631.744976</td>\n",
       "      <td>31731688.0</td>\n",
       "      <td>17.7</td>\n",
       "      <td>17.7</td>\n",
       "      <td>0.470</td>\n",
       "      <td>9.9</td>\n",
       "    </tr>\n",
       "    <tr>\n",
       "      <th>3</th>\n",
       "      <td>Afghanistan</td>\n",
       "      <td>2012</td>\n",
       "      <td>Developing</td>\n",
       "      <td>59.5</td>\n",
       "      <td>272.0</td>\n",
       "      <td>69</td>\n",
       "      <td>0.01</td>\n",
       "      <td>78.184215</td>\n",
       "      <td>67.0</td>\n",
       "      <td>2787</td>\n",
       "      <td>...</td>\n",
       "      <td>67.0</td>\n",
       "      <td>8.52</td>\n",
       "      <td>67.0</td>\n",
       "      <td>0.1</td>\n",
       "      <td>669.959000</td>\n",
       "      <td>3696958.0</td>\n",
       "      <td>17.9</td>\n",
       "      <td>18.0</td>\n",
       "      <td>0.463</td>\n",
       "      <td>9.8</td>\n",
       "    </tr>\n",
       "    <tr>\n",
       "      <th>4</th>\n",
       "      <td>Afghanistan</td>\n",
       "      <td>2011</td>\n",
       "      <td>Developing</td>\n",
       "      <td>59.2</td>\n",
       "      <td>275.0</td>\n",
       "      <td>71</td>\n",
       "      <td>0.01</td>\n",
       "      <td>7.097109</td>\n",
       "      <td>68.0</td>\n",
       "      <td>3013</td>\n",
       "      <td>...</td>\n",
       "      <td>68.0</td>\n",
       "      <td>7.87</td>\n",
       "      <td>68.0</td>\n",
       "      <td>0.1</td>\n",
       "      <td>63.537231</td>\n",
       "      <td>2978599.0</td>\n",
       "      <td>18.2</td>\n",
       "      <td>18.2</td>\n",
       "      <td>0.454</td>\n",
       "      <td>9.5</td>\n",
       "    </tr>\n",
       "  </tbody>\n",
       "</table>\n",
       "<p>5 rows × 22 columns</p>\n",
       "</div>"
      ],
      "text/plain": [
       "       Country  Year      Status  label  AdultMortality  InfantDeaths  \\\n",
       "0  Afghanistan  2015  Developing   65.0           263.0            62   \n",
       "1  Afghanistan  2014  Developing   59.9           271.0            64   \n",
       "2  Afghanistan  2013  Developing   59.9           268.0            66   \n",
       "3  Afghanistan  2012  Developing   59.5           272.0            69   \n",
       "4  Afghanistan  2011  Developing   59.2           275.0            71   \n",
       "\n",
       "   Alcohol  PercentageExpenditure  HepatitisB  Measles    ...      Polio  \\\n",
       "0     0.01              71.279624        65.0     1154    ...        6.0   \n",
       "1     0.01              73.523582        62.0      492    ...       58.0   \n",
       "2     0.01              73.219243        64.0      430    ...       62.0   \n",
       "3     0.01              78.184215        67.0     2787    ...       67.0   \n",
       "4     0.01               7.097109        68.0     3013    ...       68.0   \n",
       "\n",
       "   TotalExpenditure  Diphtheria  HIV_AIDS         GDP  Population  \\\n",
       "0              8.16        65.0       0.1  584.259210  33736494.0   \n",
       "1              8.18        62.0       0.1  612.696514    327582.0   \n",
       "2              8.13        64.0       0.1  631.744976  31731688.0   \n",
       "3              8.52        67.0       0.1  669.959000   3696958.0   \n",
       "4              7.87        68.0       0.1   63.537231   2978599.0   \n",
       "\n",
       "   Thinness1-19years  Thinness5-9years  IncomeCompositionOfResources  \\\n",
       "0               17.2              17.3                         0.479   \n",
       "1               17.5              17.5                         0.476   \n",
       "2               17.7              17.7                         0.470   \n",
       "3               17.9              18.0                         0.463   \n",
       "4               18.2              18.2                         0.454   \n",
       "\n",
       "   Schooling  \n",
       "0       10.1  \n",
       "1       10.0  \n",
       "2        9.9  \n",
       "3        9.8  \n",
       "4        9.5  \n",
       "\n",
       "[5 rows x 22 columns]"
      ]
     },
     "execution_count": 8,
     "metadata": {},
     "output_type": "execute_result"
    }
   ],
   "source": [
    "life_df.toPandas().head(5)"
   ]
  },
  {
   "cell_type": "markdown",
   "metadata": {},
   "source": [
    "#### [Interpretation]: When we check count numbers above they are changing (2744, 2928, 2938..). Therefore we can say that there has null values"
   ]
  },
  {
   "cell_type": "markdown",
   "metadata": {},
   "source": [
    "# 1. Data Understanding"
   ]
  },
  {
   "cell_type": "markdown",
   "metadata": {},
   "source": [
    "### 1.1. Checking of NULL values"
   ]
  },
  {
   "cell_type": "code",
   "execution_count": 9,
   "metadata": {},
   "outputs": [
    {
     "name": "stdout",
     "output_type": "stream",
     "text": [
      "1 . Country -->\u001b[1;92m is clean \u001b[0m\n",
      "2 . Year -->\u001b[1;92m is clean \u001b[0m\n",
      "3 . Status -->\u001b[1;92m is clean \u001b[0m\n",
      "4 . label --> \u001b[1;91m there has null values \u001b[0m\n",
      "5 . AdultMortality --> \u001b[1;91m there has null values \u001b[0m\n",
      "6 . InfantDeaths -->\u001b[1;92m is clean \u001b[0m\n",
      "7 . Alcohol --> \u001b[1;91m there has null values \u001b[0m\n",
      "8 . PercentageExpenditure -->\u001b[1;92m is clean \u001b[0m\n",
      "9 . HepatitisB --> \u001b[1;91m there has null values \u001b[0m\n",
      "10 . Measles -->\u001b[1;92m is clean \u001b[0m\n",
      "11 . BMI --> \u001b[1;91m there has null values \u001b[0m\n",
      "12 . UnderFiveDeaths -->\u001b[1;92m is clean \u001b[0m\n",
      "13 . Polio --> \u001b[1;91m there has null values \u001b[0m\n",
      "14 . TotalExpenditure --> \u001b[1;91m there has null values \u001b[0m\n",
      "15 . Diphtheria --> \u001b[1;91m there has null values \u001b[0m\n",
      "16 . HIV_AIDS -->\u001b[1;92m is clean \u001b[0m\n",
      "17 . GDP --> \u001b[1;91m there has null values \u001b[0m\n",
      "18 . Population --> \u001b[1;91m there has null values \u001b[0m\n",
      "19 . Thinness1-19years --> \u001b[1;91m there has null values \u001b[0m\n",
      "20 . Thinness5-9years --> \u001b[1;91m there has null values \u001b[0m\n",
      "21 . IncomeCompositionOfResources --> \u001b[1;91m there has null values \u001b[0m\n",
      "22 . Schooling --> \u001b[1;91m there has null values \u001b[0m\n"
     ]
    }
   ],
   "source": [
    "count_for_null = 1\n",
    "for column in life_df.columns:\n",
    "    if(life_df.filter(col(column).isNull()).count()>0):\n",
    "        print(count_for_null, \".\", column, \"--> \\033[1;91m there has null values \\033[0m\")\n",
    "    else:\n",
    "        print(count_for_null, \".\",column,\"-->\\033[1;92m is clean \\033[0m\")\n",
    "    count_for_null += 1"
   ]
  },
  {
   "cell_type": "markdown",
   "metadata": {},
   "source": [
    "### 1.2. Checking of categorical variables weakness"
   ]
  },
  {
   "cell_type": "code",
   "execution_count": 10,
   "metadata": {
    "scrolled": true
   },
   "outputs": [
    {
     "data": {
      "text/html": [
       "<div>\n",
       "<style scoped>\n",
       "    .dataframe tbody tr th:only-of-type {\n",
       "        vertical-align: middle;\n",
       "    }\n",
       "\n",
       "    .dataframe tbody tr th {\n",
       "        vertical-align: top;\n",
       "    }\n",
       "\n",
       "    .dataframe thead th {\n",
       "        text-align: right;\n",
       "    }\n",
       "</style>\n",
       "<table border=\"1\" class=\"dataframe\">\n",
       "  <thead>\n",
       "    <tr style=\"text-align: right;\">\n",
       "      <th></th>\n",
       "      <th>Country</th>\n",
       "      <th>count(1)</th>\n",
       "    </tr>\n",
       "  </thead>\n",
       "  <tbody>\n",
       "    <tr>\n",
       "      <th>0</th>\n",
       "      <td>Palau</td>\n",
       "      <td>1</td>\n",
       "    </tr>\n",
       "    <tr>\n",
       "      <th>1</th>\n",
       "      <td>Dominica</td>\n",
       "      <td>1</td>\n",
       "    </tr>\n",
       "    <tr>\n",
       "      <th>2</th>\n",
       "      <td>San Marino</td>\n",
       "      <td>1</td>\n",
       "    </tr>\n",
       "    <tr>\n",
       "      <th>3</th>\n",
       "      <td>Marshall Islands</td>\n",
       "      <td>1</td>\n",
       "    </tr>\n",
       "    <tr>\n",
       "      <th>4</th>\n",
       "      <td>Tuvalu</td>\n",
       "      <td>1</td>\n",
       "    </tr>\n",
       "    <tr>\n",
       "      <th>5</th>\n",
       "      <td>Monaco</td>\n",
       "      <td>1</td>\n",
       "    </tr>\n",
       "    <tr>\n",
       "      <th>6</th>\n",
       "      <td>Nauru</td>\n",
       "      <td>1</td>\n",
       "    </tr>\n",
       "    <tr>\n",
       "      <th>7</th>\n",
       "      <td>Saint Kitts and Nevis</td>\n",
       "      <td>1</td>\n",
       "    </tr>\n",
       "    <tr>\n",
       "      <th>8</th>\n",
       "      <td>Cook Islands</td>\n",
       "      <td>1</td>\n",
       "    </tr>\n",
       "    <tr>\n",
       "      <th>9</th>\n",
       "      <td>Niue</td>\n",
       "      <td>1</td>\n",
       "    </tr>\n",
       "    <tr>\n",
       "      <th>10</th>\n",
       "      <td>Côte d'Ivoire</td>\n",
       "      <td>16</td>\n",
       "    </tr>\n",
       "    <tr>\n",
       "      <th>11</th>\n",
       "      <td>Chad</td>\n",
       "      <td>16</td>\n",
       "    </tr>\n",
       "    <tr>\n",
       "      <th>12</th>\n",
       "      <td>Micronesia (Federated States of)</td>\n",
       "      <td>16</td>\n",
       "    </tr>\n",
       "    <tr>\n",
       "      <th>13</th>\n",
       "      <td>Paraguay</td>\n",
       "      <td>16</td>\n",
       "    </tr>\n",
       "    <tr>\n",
       "      <th>14</th>\n",
       "      <td>Yemen</td>\n",
       "      <td>16</td>\n",
       "    </tr>\n",
       "  </tbody>\n",
       "</table>\n",
       "</div>"
      ],
      "text/plain": [
       "                             Country  count(1)\n",
       "0                              Palau         1\n",
       "1                           Dominica         1\n",
       "2                         San Marino         1\n",
       "3                   Marshall Islands         1\n",
       "4                             Tuvalu         1\n",
       "5                             Monaco         1\n",
       "6                              Nauru         1\n",
       "7              Saint Kitts and Nevis         1\n",
       "8                       Cook Islands         1\n",
       "9                               Niue         1\n",
       "10                     Côte d'Ivoire        16\n",
       "11                              Chad        16\n",
       "12  Micronesia (Federated States of)        16\n",
       "13                          Paraguay        16\n",
       "14                             Yemen        16"
      ]
     },
     "execution_count": 10,
     "metadata": {},
     "output_type": "execute_result"
    }
   ],
   "source": [
    "life_df.groupBy([\"Country\"]).agg({\"*\":\"count\"}).sort(col(\"count(1)\").asc()).toPandas().head(15)"
   ]
  },
  {
   "cell_type": "markdown",
   "metadata": {},
   "source": [
    "### 1.3. Describing of dataset"
   ]
  },
  {
   "cell_type": "code",
   "execution_count": 11,
   "metadata": {
    "scrolled": true
   },
   "outputs": [
    {
     "data": {
      "text/html": [
       "<div>\n",
       "<style scoped>\n",
       "    .dataframe tbody tr th:only-of-type {\n",
       "        vertical-align: middle;\n",
       "    }\n",
       "\n",
       "    .dataframe tbody tr th {\n",
       "        vertical-align: top;\n",
       "    }\n",
       "\n",
       "    .dataframe thead th {\n",
       "        text-align: right;\n",
       "    }\n",
       "</style>\n",
       "<table border=\"1\" class=\"dataframe\">\n",
       "  <thead>\n",
       "    <tr style=\"text-align: right;\">\n",
       "      <th></th>\n",
       "      <th>summary</th>\n",
       "      <th>Country</th>\n",
       "      <th>Year</th>\n",
       "      <th>Status</th>\n",
       "      <th>label</th>\n",
       "      <th>AdultMortality</th>\n",
       "      <th>InfantDeaths</th>\n",
       "      <th>Alcohol</th>\n",
       "      <th>PercentageExpenditure</th>\n",
       "      <th>HepatitisB</th>\n",
       "      <th>...</th>\n",
       "      <th>Polio</th>\n",
       "      <th>TotalExpenditure</th>\n",
       "      <th>Diphtheria</th>\n",
       "      <th>HIV_AIDS</th>\n",
       "      <th>GDP</th>\n",
       "      <th>Population</th>\n",
       "      <th>Thinness1-19years</th>\n",
       "      <th>Thinness5-9years</th>\n",
       "      <th>IncomeCompositionOfResources</th>\n",
       "      <th>Schooling</th>\n",
       "    </tr>\n",
       "  </thead>\n",
       "  <tbody>\n",
       "    <tr>\n",
       "      <th>0</th>\n",
       "      <td>count</td>\n",
       "      <td>2938</td>\n",
       "      <td>2938</td>\n",
       "      <td>2938</td>\n",
       "      <td>2928</td>\n",
       "      <td>2928</td>\n",
       "      <td>2938</td>\n",
       "      <td>2744</td>\n",
       "      <td>2938</td>\n",
       "      <td>2385</td>\n",
       "      <td>...</td>\n",
       "      <td>2919</td>\n",
       "      <td>2712</td>\n",
       "      <td>2919</td>\n",
       "      <td>2938</td>\n",
       "      <td>2490</td>\n",
       "      <td>2286</td>\n",
       "      <td>2904</td>\n",
       "      <td>2904</td>\n",
       "      <td>2771</td>\n",
       "      <td>2775</td>\n",
       "    </tr>\n",
       "    <tr>\n",
       "      <th>1</th>\n",
       "      <td>mean</td>\n",
       "      <td>None</td>\n",
       "      <td>2007.5187202178352</td>\n",
       "      <td>None</td>\n",
       "      <td>69.22493169398912</td>\n",
       "      <td>164.79644808743168</td>\n",
       "      <td>30.303948264125257</td>\n",
       "      <td>4.6028607871720375</td>\n",
       "      <td>738.2512954533823</td>\n",
       "      <td>80.94046121593291</td>\n",
       "      <td>...</td>\n",
       "      <td>82.55018842069202</td>\n",
       "      <td>5.9381895280235915</td>\n",
       "      <td>82.32408359027065</td>\n",
       "      <td>1.7421034717494939</td>\n",
       "      <td>7483.158469138481</td>\n",
       "      <td>1.2753375120052498E7</td>\n",
       "      <td>4.8397038567493205</td>\n",
       "      <td>4.870316804407711</td>\n",
       "      <td>0.6275510645976166</td>\n",
       "      <td>11.992792792792786</td>\n",
       "    </tr>\n",
       "    <tr>\n",
       "      <th>2</th>\n",
       "      <td>stddev</td>\n",
       "      <td>None</td>\n",
       "      <td>4.613840940258099</td>\n",
       "      <td>None</td>\n",
       "      <td>9.523867487824305</td>\n",
       "      <td>124.2920790034219</td>\n",
       "      <td>117.92650131339906</td>\n",
       "      <td>4.052412658755658</td>\n",
       "      <td>1987.914858016194</td>\n",
       "      <td>25.070015593018063</td>\n",
       "      <td>...</td>\n",
       "      <td>23.428045949468476</td>\n",
       "      <td>2.498319672155633</td>\n",
       "      <td>23.7169120685726</td>\n",
       "      <td>5.077784531086547</td>\n",
       "      <td>14270.169341515959</td>\n",
       "      <td>6.101209650842794E7</td>\n",
       "      <td>4.420194947144322</td>\n",
       "      <td>4.508882086983007</td>\n",
       "      <td>0.2109035551515931</td>\n",
       "      <td>3.3589197211023554</td>\n",
       "    </tr>\n",
       "    <tr>\n",
       "      <th>3</th>\n",
       "      <td>min</td>\n",
       "      <td>Afghanistan</td>\n",
       "      <td>2000</td>\n",
       "      <td>Developed</td>\n",
       "      <td>36.3</td>\n",
       "      <td>1</td>\n",
       "      <td>0</td>\n",
       "      <td>0.01</td>\n",
       "      <td>0.0</td>\n",
       "      <td>1</td>\n",
       "      <td>...</td>\n",
       "      <td>3</td>\n",
       "      <td>0.37</td>\n",
       "      <td>2</td>\n",
       "      <td>0.1</td>\n",
       "      <td>1.68135</td>\n",
       "      <td>34.0</td>\n",
       "      <td>0.1</td>\n",
       "      <td>0.1</td>\n",
       "      <td>0.0</td>\n",
       "      <td>0.0</td>\n",
       "    </tr>\n",
       "    <tr>\n",
       "      <th>4</th>\n",
       "      <td>max</td>\n",
       "      <td>Zimbabwe</td>\n",
       "      <td>2015</td>\n",
       "      <td>Developing</td>\n",
       "      <td>89.0</td>\n",
       "      <td>723</td>\n",
       "      <td>1800</td>\n",
       "      <td>17.87</td>\n",
       "      <td>19479.91161</td>\n",
       "      <td>99</td>\n",
       "      <td>...</td>\n",
       "      <td>99</td>\n",
       "      <td>17.6</td>\n",
       "      <td>99</td>\n",
       "      <td>50.6</td>\n",
       "      <td>119172.7418</td>\n",
       "      <td>1.293859294E9</td>\n",
       "      <td>27.7</td>\n",
       "      <td>28.6</td>\n",
       "      <td>0.948</td>\n",
       "      <td>20.7</td>\n",
       "    </tr>\n",
       "  </tbody>\n",
       "</table>\n",
       "<p>5 rows × 23 columns</p>\n",
       "</div>"
      ],
      "text/plain": [
       "  summary      Country                Year      Status              label  \\\n",
       "0   count         2938                2938        2938               2928   \n",
       "1    mean         None  2007.5187202178352        None  69.22493169398912   \n",
       "2  stddev         None   4.613840940258099        None  9.523867487824305   \n",
       "3     min  Afghanistan                2000   Developed               36.3   \n",
       "4     max     Zimbabwe                2015  Developing               89.0   \n",
       "\n",
       "       AdultMortality        InfantDeaths             Alcohol  \\\n",
       "0                2928                2938                2744   \n",
       "1  164.79644808743168  30.303948264125257  4.6028607871720375   \n",
       "2   124.2920790034219  117.92650131339906   4.052412658755658   \n",
       "3                   1                   0                0.01   \n",
       "4                 723                1800               17.87   \n",
       "\n",
       "  PercentageExpenditure          HepatitisB         ...          \\\n",
       "0                  2938                2385         ...           \n",
       "1     738.2512954533823   80.94046121593291         ...           \n",
       "2     1987.914858016194  25.070015593018063         ...           \n",
       "3                   0.0                   1         ...           \n",
       "4           19479.91161                  99         ...           \n",
       "\n",
       "                Polio    TotalExpenditure         Diphtheria  \\\n",
       "0                2919                2712               2919   \n",
       "1   82.55018842069202  5.9381895280235915  82.32408359027065   \n",
       "2  23.428045949468476   2.498319672155633   23.7169120685726   \n",
       "3                   3                0.37                  2   \n",
       "4                  99                17.6                 99   \n",
       "\n",
       "             HIV_AIDS                 GDP            Population  \\\n",
       "0                2938                2490                  2286   \n",
       "1  1.7421034717494939   7483.158469138481  1.2753375120052498E7   \n",
       "2   5.077784531086547  14270.169341515959   6.101209650842794E7   \n",
       "3                 0.1             1.68135                  34.0   \n",
       "4                50.6         119172.7418         1.293859294E9   \n",
       "\n",
       "    Thinness1-19years   Thinness5-9years IncomeCompositionOfResources  \\\n",
       "0                2904               2904                         2771   \n",
       "1  4.8397038567493205  4.870316804407711           0.6275510645976166   \n",
       "2   4.420194947144322  4.508882086983007           0.2109035551515931   \n",
       "3                 0.1                0.1                          0.0   \n",
       "4                27.7               28.6                        0.948   \n",
       "\n",
       "            Schooling  \n",
       "0                2775  \n",
       "1  11.992792792792786  \n",
       "2  3.3589197211023554  \n",
       "3                 0.0  \n",
       "4                20.7  \n",
       "\n",
       "[5 rows x 23 columns]"
      ]
     },
     "execution_count": 11,
     "metadata": {},
     "output_type": "execute_result"
    }
   ],
   "source": [
    "life_df.describe().toPandas().head()"
   ]
  },
  {
   "cell_type": "markdown",
   "metadata": {},
   "source": [
    "# 2. Data Cleaning"
   ]
  },
  {
   "cell_type": "markdown",
   "metadata": {},
   "source": [
    "### 2.1. Handling of the missing values\n",
    "#### All numeric null values are filled using mean imputation"
   ]
  },
  {
   "cell_type": "code",
   "execution_count": 12,
   "metadata": {
    "scrolled": true
   },
   "outputs": [
    {
     "name": "stdout",
     "output_type": "stream",
     "text": [
      "Percentage of \u001b[1mNON-NULL and NULL values\u001b[0m in each columns\n",
      "\n",
      "(NON-NULL rate %,     NULL rate %,    Column_Name)\n",
      "\n",
      "(77.80803267528931, 22.19196732471069, 'Population')\n",
      "(81.17767188563649, 18.822328114363515, 'HepatitisB')\n",
      "(84.75153165418652, 15.248468345813478, 'GDP')\n",
      "(92.3076923076923, 7.692307692307693, 'TotalExpenditure')\n",
      "(93.39686861810755, 6.603131381892453, 'Alcohol')\n",
      "(94.31586113002042, 5.684138869979577, 'IncomeCompositionOfResources')\n",
      "(94.45200816882233, 5.547991831177669, 'Schooling')\n",
      "(98.8427501701838, 1.1572498298161946, 'BMI')\n",
      "(98.8427501701838, 1.1572498298161946, 'Thinness1-19years')\n",
      "(98.8427501701838, 1.1572498298161946, 'Thinness5-9years')\n",
      "(99.35330156569094, 0.6466984343090587, 'Diphtheria')\n",
      "(99.35330156569094, 0.6466984343090587, 'Polio')\n",
      "(99.65963240299523, 0.3403675970047715, 'AdultMortality')\n",
      "(99.65963240299523, 0.3403675970047715, 'label')\n",
      "(100.0, 0.0, 'Country')\n",
      "(100.0, 0.0, 'HIV_AIDS')\n",
      "(100.0, 0.0, 'InfantDeaths')\n",
      "(100.0, 0.0, 'Measles')\n",
      "(100.0, 0.0, 'PercentageExpenditure')\n",
      "(100.0, 0.0, 'Status')\n",
      "(100.0, 0.0, 'UnderFiveDeaths')\n",
      "(100.0, 0.0, 'Year')\n"
     ]
    }
   ],
   "source": [
    "percentage = (life_df.toPandas().count()/life_df.toPandas().isna().count())*100\n",
    "print(\"Percentage of \\033[1mNON-NULL and NULL values\\033[0m in each columns\\n\")\n",
    "print(\"(NON-NULL rate %,     NULL rate %,    Column_Name)\\n\")\n",
    "\n",
    "zipped = zip(percentage, 100-percentage, new_column_names)\n",
    "sorted_percentage = sorted(zipped)\n",
    "for i in sorted_percentage:\n",
    "    print(i)"
   ]
  },
  {
   "cell_type": "markdown",
   "metadata": {},
   "source": [
    "### Remove string and year columns for calculating mean and filling null values"
   ]
  },
  {
   "cell_type": "code",
   "execution_count": 13,
   "metadata": {},
   "outputs": [
    {
     "data": {
      "text/plain": [
       "1649"
      ]
     },
     "execution_count": 13,
     "metadata": {},
     "output_type": "execute_result"
    }
   ],
   "source": [
    "removed_df = life_df.drop(\"Country\",\"Status\",\"Year\")\n",
    "removed_df = removed_df.na.drop()\n",
    "removed_df.count()"
   ]
  },
  {
   "cell_type": "markdown",
   "metadata": {},
   "source": [
    "### NULL values are filling which were calculated from removed_df"
   ]
  },
  {
   "cell_type": "code",
   "execution_count": 14,
   "metadata": {},
   "outputs": [
    {
     "name": "stdout",
     "output_type": "stream",
     "text": [
      "(Column ---> Average value)\n",
      "\n",
      "label --->  69.30230442692543\n",
      "AdultMortality --->  168.2152819890843\n",
      "InfantDeaths --->  32.55306246209824\n",
      "Alcohol --->  4.533195876288676\n",
      "PercentageExpenditure --->  698.973558049698\n",
      "HepatitisB --->  79.21770770163735\n",
      "Measles --->  2224.4942389326866\n",
      "BMI --->  38.1286234081261\n",
      "UnderFiveDeaths --->  44.22013341419042\n",
      "Polio --->  83.56458459672528\n",
      "TotalExpenditure --->  5.955924802910845\n",
      "Diphtheria --->  84.155245603396\n",
      "HIV_AIDS --->  1.9838690115221154\n",
      "GDP --->  5566.031886817592\n",
      "Population --->  14653625.889484541\n",
      "Thinness1-19years --->  4.850636749545183\n",
      "Thinness5-9years --->  4.907762280169795\n",
      "IncomeCompositionOfResources --->  0.6315512431776829\n",
      "Schooling --->  12.119890842935117\n"
     ]
    }
   ],
   "source": [
    "imputed_df = life_df\n",
    "print(\"(Column ---> Average value)\\n\")\n",
    "for x in imputed_df.columns:\n",
    "    if(x != \"Country\" and x != \"Status\" and x != \"Year\"):\n",
    "        mean_value = removed_df.agg(mean(x)).first()[0]\n",
    "        print(x,\"---> \", mean_value)\n",
    "        imputed_df = imputed_df.na.fill(mean_value, [x])"
   ]
  },
  {
   "cell_type": "code",
   "execution_count": 15,
   "metadata": {
    "scrolled": true
   },
   "outputs": [
    {
     "data": {
      "text/html": [
       "<div>\n",
       "<style scoped>\n",
       "    .dataframe tbody tr th:only-of-type {\n",
       "        vertical-align: middle;\n",
       "    }\n",
       "\n",
       "    .dataframe tbody tr th {\n",
       "        vertical-align: top;\n",
       "    }\n",
       "\n",
       "    .dataframe thead th {\n",
       "        text-align: right;\n",
       "    }\n",
       "</style>\n",
       "<table border=\"1\" class=\"dataframe\">\n",
       "  <thead>\n",
       "    <tr style=\"text-align: right;\">\n",
       "      <th></th>\n",
       "      <th>summary</th>\n",
       "      <th>Country</th>\n",
       "      <th>Year</th>\n",
       "      <th>Status</th>\n",
       "      <th>label</th>\n",
       "      <th>AdultMortality</th>\n",
       "      <th>InfantDeaths</th>\n",
       "      <th>Alcohol</th>\n",
       "      <th>PercentageExpenditure</th>\n",
       "      <th>HepatitisB</th>\n",
       "      <th>...</th>\n",
       "      <th>Polio</th>\n",
       "      <th>TotalExpenditure</th>\n",
       "      <th>Diphtheria</th>\n",
       "      <th>HIV_AIDS</th>\n",
       "      <th>GDP</th>\n",
       "      <th>Population</th>\n",
       "      <th>Thinness1-19years</th>\n",
       "      <th>Thinness5-9years</th>\n",
       "      <th>IncomeCompositionOfResources</th>\n",
       "      <th>Schooling</th>\n",
       "    </tr>\n",
       "  </thead>\n",
       "  <tbody>\n",
       "    <tr>\n",
       "      <th>0</th>\n",
       "      <td>count</td>\n",
       "      <td>2938</td>\n",
       "      <td>2938</td>\n",
       "      <td>2938</td>\n",
       "      <td>2938</td>\n",
       "      <td>2938</td>\n",
       "      <td>2938</td>\n",
       "      <td>2938</td>\n",
       "      <td>2938</td>\n",
       "      <td>2938</td>\n",
       "      <td>...</td>\n",
       "      <td>2938</td>\n",
       "      <td>2938</td>\n",
       "      <td>2938</td>\n",
       "      <td>2938</td>\n",
       "      <td>2938</td>\n",
       "      <td>2938</td>\n",
       "      <td>2938</td>\n",
       "      <td>2938</td>\n",
       "      <td>2938</td>\n",
       "      <td>2938</td>\n",
       "    </tr>\n",
       "    <tr>\n",
       "      <th>1</th>\n",
       "      <td>mean</td>\n",
       "      <td>None</td>\n",
       "      <td>2007.5187202178352</td>\n",
       "      <td>None</td>\n",
       "      <td>69.22519504570099</td>\n",
       "      <td>164.80735194009532</td>\n",
       "      <td>30.303948264125257</td>\n",
       "      <td>4.598260721579346</td>\n",
       "      <td>738.2512954533823</td>\n",
       "      <td>80.57522123893806</td>\n",
       "      <td>...</td>\n",
       "      <td>82.55309734513274</td>\n",
       "      <td>5.939553779937997</td>\n",
       "      <td>82.3349217154527</td>\n",
       "      <td>1.7421034717494939</td>\n",
       "      <td>7190.826029084047</td>\n",
       "      <td>1.317507814989256E7</td>\n",
       "      <td>4.839830377632588</td>\n",
       "      <td>4.87075014211225</td>\n",
       "      <td>0.6277784403031543</td>\n",
       "      <td>11.999844182232321</td>\n",
       "    </tr>\n",
       "    <tr>\n",
       "      <th>2</th>\n",
       "      <td>stddev</td>\n",
       "      <td>None</td>\n",
       "      <td>4.613840940258099</td>\n",
       "      <td>None</td>\n",
       "      <td>9.507641133372623</td>\n",
       "      <td>124.08044190934694</td>\n",
       "      <td>117.92650131339906</td>\n",
       "      <td>3.916325972492945</td>\n",
       "      <td>1987.914858016194</td>\n",
       "      <td>22.599591386790895</td>\n",
       "      <td>...</td>\n",
       "      <td>23.35217064037839</td>\n",
       "      <td>2.4002785013518584</td>\n",
       "      <td>23.6404548509705</td>\n",
       "      <td>5.077784531086547</td>\n",
       "      <td>13154.872365914545</td>\n",
       "      <td>5.382125723701614E7</td>\n",
       "      <td>4.394535567499202</td>\n",
       "      <td>4.482709506353584</td>\n",
       "      <td>0.20482183548934116</td>\n",
       "      <td>3.2645109829668746</td>\n",
       "    </tr>\n",
       "    <tr>\n",
       "      <th>3</th>\n",
       "      <td>min</td>\n",
       "      <td>Afghanistan</td>\n",
       "      <td>2000</td>\n",
       "      <td>Developed</td>\n",
       "      <td>36.3</td>\n",
       "      <td>1</td>\n",
       "      <td>0</td>\n",
       "      <td>0.01</td>\n",
       "      <td>0.0</td>\n",
       "      <td>1</td>\n",
       "      <td>...</td>\n",
       "      <td>3</td>\n",
       "      <td>0.37</td>\n",
       "      <td>2</td>\n",
       "      <td>0.1</td>\n",
       "      <td>1.68135</td>\n",
       "      <td>34.0</td>\n",
       "      <td>0.1</td>\n",
       "      <td>0.1</td>\n",
       "      <td>0.0</td>\n",
       "      <td>0.0</td>\n",
       "    </tr>\n",
       "    <tr>\n",
       "      <th>4</th>\n",
       "      <td>max</td>\n",
       "      <td>Zimbabwe</td>\n",
       "      <td>2015</td>\n",
       "      <td>Developing</td>\n",
       "      <td>89.0</td>\n",
       "      <td>723</td>\n",
       "      <td>1800</td>\n",
       "      <td>17.87</td>\n",
       "      <td>19479.91161</td>\n",
       "      <td>99</td>\n",
       "      <td>...</td>\n",
       "      <td>99</td>\n",
       "      <td>17.6</td>\n",
       "      <td>99</td>\n",
       "      <td>50.6</td>\n",
       "      <td>119172.7418</td>\n",
       "      <td>1.293859294E9</td>\n",
       "      <td>27.7</td>\n",
       "      <td>28.6</td>\n",
       "      <td>0.948</td>\n",
       "      <td>20.7</td>\n",
       "    </tr>\n",
       "  </tbody>\n",
       "</table>\n",
       "<p>5 rows × 23 columns</p>\n",
       "</div>"
      ],
      "text/plain": [
       "  summary      Country                Year      Status              label  \\\n",
       "0   count         2938                2938        2938               2938   \n",
       "1    mean         None  2007.5187202178352        None  69.22519504570099   \n",
       "2  stddev         None   4.613840940258099        None  9.507641133372623   \n",
       "3     min  Afghanistan                2000   Developed               36.3   \n",
       "4     max     Zimbabwe                2015  Developing               89.0   \n",
       "\n",
       "       AdultMortality        InfantDeaths            Alcohol  \\\n",
       "0                2938                2938               2938   \n",
       "1  164.80735194009532  30.303948264125257  4.598260721579346   \n",
       "2  124.08044190934694  117.92650131339906  3.916325972492945   \n",
       "3                   1                   0               0.01   \n",
       "4                 723                1800              17.87   \n",
       "\n",
       "  PercentageExpenditure          HepatitisB         ...          \\\n",
       "0                  2938                2938         ...           \n",
       "1     738.2512954533823   80.57522123893806         ...           \n",
       "2     1987.914858016194  22.599591386790895         ...           \n",
       "3                   0.0                   1         ...           \n",
       "4           19479.91161                  99         ...           \n",
       "\n",
       "               Polio    TotalExpenditure        Diphtheria  \\\n",
       "0               2938                2938              2938   \n",
       "1  82.55309734513274   5.939553779937997  82.3349217154527   \n",
       "2  23.35217064037839  2.4002785013518584  23.6404548509705   \n",
       "3                  3                0.37                 2   \n",
       "4                 99                17.6                99   \n",
       "\n",
       "             HIV_AIDS                 GDP           Population  \\\n",
       "0                2938                2938                 2938   \n",
       "1  1.7421034717494939   7190.826029084047  1.317507814989256E7   \n",
       "2   5.077784531086547  13154.872365914545  5.382125723701614E7   \n",
       "3                 0.1             1.68135                 34.0   \n",
       "4                50.6         119172.7418        1.293859294E9   \n",
       "\n",
       "   Thinness1-19years   Thinness5-9years IncomeCompositionOfResources  \\\n",
       "0               2938               2938                         2938   \n",
       "1  4.839830377632588   4.87075014211225           0.6277784403031543   \n",
       "2  4.394535567499202  4.482709506353584          0.20482183548934116   \n",
       "3                0.1                0.1                          0.0   \n",
       "4               27.7               28.6                        0.948   \n",
       "\n",
       "            Schooling  \n",
       "0                2938  \n",
       "1  11.999844182232321  \n",
       "2  3.2645109829668746  \n",
       "3                 0.0  \n",
       "4                20.7  \n",
       "\n",
       "[5 rows x 23 columns]"
      ]
     },
     "execution_count": 15,
     "metadata": {},
     "output_type": "execute_result"
    }
   ],
   "source": [
    "imputed_df.describe().toPandas().head()"
   ]
  },
  {
   "cell_type": "markdown",
   "metadata": {},
   "source": [
    "### Checking of NULL values (Does there have still any null value ?)"
   ]
  },
  {
   "cell_type": "code",
   "execution_count": 16,
   "metadata": {},
   "outputs": [
    {
     "name": "stdout",
     "output_type": "stream",
     "text": [
      "1 . Country -->\u001b[1;92m is clean \u001b[0m\n",
      "2 . Year -->\u001b[1;92m is clean \u001b[0m\n",
      "3 . Status -->\u001b[1;92m is clean \u001b[0m\n",
      "4 . label -->\u001b[1;92m is clean \u001b[0m\n",
      "5 . AdultMortality -->\u001b[1;92m is clean \u001b[0m\n",
      "6 . InfantDeaths -->\u001b[1;92m is clean \u001b[0m\n",
      "7 . Alcohol -->\u001b[1;92m is clean \u001b[0m\n",
      "8 . PercentageExpenditure -->\u001b[1;92m is clean \u001b[0m\n",
      "9 . HepatitisB -->\u001b[1;92m is clean \u001b[0m\n",
      "10 . Measles -->\u001b[1;92m is clean \u001b[0m\n",
      "11 . BMI -->\u001b[1;92m is clean \u001b[0m\n",
      "12 . UnderFiveDeaths -->\u001b[1;92m is clean \u001b[0m\n",
      "13 . Polio -->\u001b[1;92m is clean \u001b[0m\n",
      "14 . TotalExpenditure -->\u001b[1;92m is clean \u001b[0m\n",
      "15 . Diphtheria -->\u001b[1;92m is clean \u001b[0m\n",
      "16 . HIV_AIDS -->\u001b[1;92m is clean \u001b[0m\n",
      "17 . GDP -->\u001b[1;92m is clean \u001b[0m\n",
      "18 . Population -->\u001b[1;92m is clean \u001b[0m\n",
      "19 . Thinness1-19years -->\u001b[1;92m is clean \u001b[0m\n",
      "20 . Thinness5-9years -->\u001b[1;92m is clean \u001b[0m\n",
      "21 . IncomeCompositionOfResources -->\u001b[1;92m is clean \u001b[0m\n",
      "22 . Schooling -->\u001b[1;92m is clean \u001b[0m\n"
     ]
    }
   ],
   "source": [
    "count_for_null = 1\n",
    "for column in imputed_df.columns:\n",
    "    if(imputed_df.filter(col(column).isNull()).count()>0):\n",
    "        print(count_for_null, \".\", column, \"--> \\033[1;91m there has null values \\033[0m\")\n",
    "    else:\n",
    "        print(count_for_null, \".\",column,\"-->\\033[1;92m is clean \\033[0m\")\n",
    "    count_for_null += 1"
   ]
  },
  {
   "cell_type": "markdown",
   "metadata": {},
   "source": [
    "# 3. Data Preparation"
   ]
  },
  {
   "cell_type": "markdown",
   "metadata": {},
   "source": [
    "### 3.1. StringIndexer (Transforming categorical to numeric)"
   ]
  },
  {
   "cell_type": "code",
   "execution_count": 17,
   "metadata": {},
   "outputs": [],
   "source": [
    "from pyspark.ml.feature import StringIndexer"
   ]
  },
  {
   "cell_type": "code",
   "execution_count": 18,
   "metadata": {},
   "outputs": [],
   "source": [
    "status_index = StringIndexer()\\\n",
    ".setInputCol(\"Status\")\\\n",
    ".setOutputCol(\"Status_Index\")"
   ]
  },
  {
   "cell_type": "markdown",
   "metadata": {},
   "source": [
    "### 3.2. OneHotEncoderEstimator (Indexing categorical values)"
   ]
  },
  {
   "cell_type": "code",
   "execution_count": 19,
   "metadata": {},
   "outputs": [],
   "source": [
    "from pyspark.ml.feature import OneHotEncoderEstimator"
   ]
  },
  {
   "cell_type": "code",
   "execution_count": 20,
   "metadata": {},
   "outputs": [],
   "source": [
    "encoder = OneHotEncoderEstimator()\\\n",
    ".setInputCols([\"Status_Index\"])\\\n",
    ".setOutputCols([\"Status_Encoded\"])"
   ]
  },
  {
   "cell_type": "markdown",
   "metadata": {},
   "source": [
    "### 3.3. VectorAssembler (Vectorizing attributes)"
   ]
  },
  {
   "cell_type": "code",
   "execution_count": 21,
   "metadata": {},
   "outputs": [],
   "source": [
    "'''\n",
    "before_modelling = [ \"Year\", \"AdultMortality\", \"InfantDeaths\", \"Alcohol\", \n",
    "                  \"PercentageExpenditure\", \"HepatitisB\", \"Measles\", \"BMI\",\n",
    "                  \"UnderFiveDeaths\", \"Polio\", \"TotalExpenditure\", \"Diphtheria\", \n",
    "                  \"HIV_AIDS\", \"GDP\", \"Population\", \"Thinness1-19years\", \"Thinness5-9years\", \n",
    "                  \"IncomeCompositionOfResources\", \"Schooling\", \"Status_Encoded\"]\n",
    "'''\n",
    "\n",
    "attributes = [ \"AdultMortality\", \"InfantDeaths\", \"Alcohol\",                \"HepatitisB\", \"Measles\", \"BMI\",\n",
    "              \"UnderFiveDeaths\", \"Polio\", \"Diphtheria\", \n",
    "              \"HIV_AIDS\", \"GDP\", \"Thinness1-19years\",  \n",
    "              \"IncomeCompositionOfResources\", \"Schooling\", \"Status_Encoded\"]"
   ]
  },
  {
   "cell_type": "code",
   "execution_count": 22,
   "metadata": {},
   "outputs": [],
   "source": [
    "from pyspark.ml.feature import VectorAssembler"
   ]
  },
  {
   "cell_type": "code",
   "execution_count": 23,
   "metadata": {},
   "outputs": [],
   "source": [
    "vector_assember = VectorAssembler()\\\n",
    ".setInputCols(attributes)\\\n",
    ".setOutputCol(\"vectorized_features\")"
   ]
  },
  {
   "cell_type": "markdown",
   "metadata": {},
   "source": [
    "### 3.4. Normalization (Standardization using StandardScaler)"
   ]
  },
  {
   "cell_type": "code",
   "execution_count": 24,
   "metadata": {},
   "outputs": [],
   "source": [
    "from pyspark.ml.feature import StandardScaler"
   ]
  },
  {
   "cell_type": "code",
   "execution_count": 25,
   "metadata": {},
   "outputs": [],
   "source": [
    "scaler = StandardScaler()\\\n",
    ".setInputCol(\"vectorized_features\")\\\n",
    ".setOutputCol(\"features\")"
   ]
  },
  {
   "cell_type": "markdown",
   "metadata": {},
   "source": [
    "### 3.5. Splitting dataset into Train-Test"
   ]
  },
  {
   "cell_type": "code",
   "execution_count": 26,
   "metadata": {},
   "outputs": [],
   "source": [
    "train_df, test_df = imputed_df.randomSplit([0.8, 0.2], seed=142)"
   ]
  },
  {
   "cell_type": "markdown",
   "metadata": {},
   "source": [
    "#### Cache() stores in memory, when you need to read dataset many time  from disc. Thus it does not need to read every time from disc."
   ]
  },
  {
   "cell_type": "code",
   "execution_count": 27,
   "metadata": {},
   "outputs": [
    {
     "data": {
      "text/plain": [
       "DataFrame[Country: string, Year: int, Status: string, label: double, AdultMortality: int, InfantDeaths: int, Alcohol: double, PercentageExpenditure: double, HepatitisB: int, Measles: int, BMI: double, UnderFiveDeaths: int, Polio: int, TotalExpenditure: double, Diphtheria: int, HIV_AIDS: double, GDP: double, Population: double, Thinness1-19years: double, Thinness5-9years: double, IncomeCompositionOfResources: double, Schooling: double]"
      ]
     },
     "execution_count": 27,
     "metadata": {},
     "output_type": "execute_result"
    }
   ],
   "source": [
    "train_df.cache()\n",
    "test_df.cache()"
   ]
  },
  {
   "cell_type": "markdown",
   "metadata": {},
   "source": [
    "### 3.6.Defining of Linear Model (Standardization using StandardScaler)"
   ]
  },
  {
   "cell_type": "code",
   "execution_count": 28,
   "metadata": {},
   "outputs": [],
   "source": [
    "from pyspark.ml.regression import LinearRegression\n",
    "\n",
    "linear_regression = LinearRegression()\\\n",
    ".setFeaturesCol(\"vectorized_features\")\\\n",
    ".setLabelCol(\"label\")"
   ]
  },
  {
   "cell_type": "markdown",
   "metadata": {},
   "source": [
    "### 3.7. Using of Pipeline"
   ]
  },
  {
   "cell_type": "code",
   "execution_count": 29,
   "metadata": {},
   "outputs": [],
   "source": [
    "from pyspark.ml.pipeline import Pipeline"
   ]
  },
  {
   "cell_type": "code",
   "execution_count": 30,
   "metadata": {},
   "outputs": [],
   "source": [
    "pipeline_object = Pipeline()\\\n",
    ".setStages([status_index, \n",
    "            encoder, \n",
    "            vector_assember, \n",
    "            linear_regression])"
   ]
  },
  {
   "cell_type": "markdown",
   "metadata": {},
   "source": [
    "# 4. Model Tuning and Training\n",
    "An important task in Machine Learning is model selection, or using data to find the best model or parameters for a given task which is called model tuning."
   ]
  },
  {
   "cell_type": "code",
   "execution_count": 31,
   "metadata": {},
   "outputs": [],
   "source": [
    "from pyspark.ml.evaluation import RegressionEvaluator\n",
    "from pyspark.ml.tuning import CrossValidator, ParamGridBuilder"
   ]
  },
  {
   "cell_type": "markdown",
   "metadata": {},
   "source": [
    "### paramGrid"
   ]
  },
  {
   "cell_type": "code",
   "execution_count": 32,
   "metadata": {},
   "outputs": [],
   "source": [
    "param_grid = ParamGridBuilder()\\\n",
    ".addGrid(linear_regression.aggregationDepth, [2,5])\\\n",
    ".addGrid(linear_regression.elasticNetParam, [0.0, 0.03])\\\n",
    ".addGrid(linear_regression.epsilon, [1.35,1.55])\\\n",
    ".addGrid(linear_regression.maxIter, [10,25])\\\n",
    ".addGrid(linear_regression.regParam, [0.0, 0.02])\\\n",
    ".addGrid(linear_regression.solver, [\"auto\", \"normal\", \"l-bfgs\"])\\\n",
    ".addGrid(linear_regression.tol, [1.0E-6, 1.0E-4])\\\n",
    ".build()"
   ]
  },
  {
   "cell_type": "markdown",
   "metadata": {},
   "source": [
    "### Cross-Validation\n",
    "CrossValidator begins by splitting the dataset into a set of folds which are used as separate training and test datasets. E.g., with k=3 folds, CrossValidator will generate 3 (training, test) dataset pairs, each of which uses 2/3 of the data for training and 1/3 for testing. "
   ]
  },
  {
   "cell_type": "code",
   "execution_count": 33,
   "metadata": {},
   "outputs": [],
   "source": [
    "cv = CrossValidator() \\\n",
    ".setEstimator(pipeline_object) \\\n",
    ".setEvaluator(RegressionEvaluator()) \\\n",
    ".setEstimatorParamMaps(param_grid) \\\n",
    ".setNumFolds(3) \\\n",
    ".setParallelism(2)"
   ]
  },
  {
   "cell_type": "markdown",
   "metadata": {},
   "source": [
    "### Training of train set\n",
    "It takes about 5-6 minute (note: according to laptop performance)"
   ]
  },
  {
   "cell_type": "code",
   "execution_count": 34,
   "metadata": {},
   "outputs": [],
   "source": [
    "cv_model = cv.fit(train_df)"
   ]
  },
  {
   "cell_type": "markdown",
   "metadata": {},
   "source": [
    "### Testing of original and predicted values"
   ]
  },
  {
   "cell_type": "code",
   "execution_count": 35,
   "metadata": {},
   "outputs": [
    {
     "data": {
      "text/html": [
       "<div>\n",
       "<style scoped>\n",
       "    .dataframe tbody tr th:only-of-type {\n",
       "        vertical-align: middle;\n",
       "    }\n",
       "\n",
       "    .dataframe tbody tr th {\n",
       "        vertical-align: top;\n",
       "    }\n",
       "\n",
       "    .dataframe thead th {\n",
       "        text-align: right;\n",
       "    }\n",
       "</style>\n",
       "<table border=\"1\" class=\"dataframe\">\n",
       "  <thead>\n",
       "    <tr style=\"text-align: right;\">\n",
       "      <th></th>\n",
       "      <th>label</th>\n",
       "      <th>prediction</th>\n",
       "    </tr>\n",
       "  </thead>\n",
       "  <tbody>\n",
       "    <tr>\n",
       "      <th>0</th>\n",
       "      <td>56.2</td>\n",
       "      <td>61.575387</td>\n",
       "    </tr>\n",
       "    <tr>\n",
       "      <th>1</th>\n",
       "      <td>57.3</td>\n",
       "      <td>58.737147</td>\n",
       "    </tr>\n",
       "    <tr>\n",
       "      <th>2</th>\n",
       "      <td>58.1</td>\n",
       "      <td>60.198686</td>\n",
       "    </tr>\n",
       "    <tr>\n",
       "      <th>3</th>\n",
       "      <td>58.6</td>\n",
       "      <td>60.401875</td>\n",
       "    </tr>\n",
       "    <tr>\n",
       "      <th>4</th>\n",
       "      <td>72.6</td>\n",
       "      <td>73.357768</td>\n",
       "    </tr>\n",
       "  </tbody>\n",
       "</table>\n",
       "</div>"
      ],
      "text/plain": [
       "   label  prediction\n",
       "0   56.2   61.575387\n",
       "1   57.3   58.737147\n",
       "2   58.1   60.198686\n",
       "3   58.6   60.401875\n",
       "4   72.6   73.357768"
      ]
     },
     "execution_count": 35,
     "metadata": {},
     "output_type": "execute_result"
    }
   ],
   "source": [
    "cv_model.transform(test_df).select(\"label\", \"prediction\").toPandas().head()"
   ]
  },
  {
   "cell_type": "markdown",
   "metadata": {},
   "source": [
    "# 5. The Best Model Evaluation\n",
    "Now here we evaluate our model and compare value according to previous prediction (14th exapmple)"
   ]
  },
  {
   "cell_type": "code",
   "execution_count": 36,
   "metadata": {},
   "outputs": [],
   "source": [
    "best_model = cv_model.bestModel"
   ]
  },
  {
   "cell_type": "code",
   "execution_count": 37,
   "metadata": {},
   "outputs": [
    {
     "data": {
      "text/plain": [
       "pyspark.ml.pipeline.PipelineModel"
      ]
     },
     "execution_count": 37,
     "metadata": {},
     "output_type": "execute_result"
    }
   ],
   "source": [
    "type(best_model)"
   ]
  },
  {
   "cell_type": "code",
   "execution_count": 38,
   "metadata": {},
   "outputs": [],
   "source": [
    "lr_model = best_model.stages[-1]"
   ]
  },
  {
   "cell_type": "code",
   "execution_count": 39,
   "metadata": {},
   "outputs": [
    {
     "data": {
      "text/plain": [
       "DenseVector([-0.0206, 0.0948, 0.0753, -0.0158, -0.0, 0.0404, -0.0708, 0.0306, 0.0449, -0.497, 0.0, -0.0817, 5.0373, 0.6306, -1.7942])"
      ]
     },
     "execution_count": 39,
     "metadata": {},
     "output_type": "execute_result"
    }
   ],
   "source": [
    "lr_model.coefficients"
   ]
  },
  {
   "cell_type": "code",
   "execution_count": 40,
   "metadata": {},
   "outputs": [
    {
     "data": {
      "text/plain": [
       "57.58539600422563"
      ]
     },
     "execution_count": 40,
     "metadata": {},
     "output_type": "execute_result"
    }
   ],
   "source": [
    "lr_model.intercept"
   ]
  },
  {
   "cell_type": "code",
   "execution_count": 41,
   "metadata": {
    "scrolled": true
   },
   "outputs": [
    {
     "data": {
      "text/plain": [
       "0.8220615768517484"
      ]
     },
     "execution_count": 41,
     "metadata": {},
     "output_type": "execute_result"
    }
   ],
   "source": [
    "lr_model.summary.r2"
   ]
  },
  {
   "cell_type": "code",
   "execution_count": 42,
   "metadata": {},
   "outputs": [
    {
     "data": {
      "text/plain": [
       "4.010559781735385"
      ]
     },
     "execution_count": 42,
     "metadata": {},
     "output_type": "execute_result"
    }
   ],
   "source": [
    "lr_model.summary.rootMeanSquaredError"
   ]
  },
  {
   "cell_type": "code",
   "execution_count": 43,
   "metadata": {
    "scrolled": true
   },
   "outputs": [
    {
     "data": {
      "text/plain": [
       "['aggregationDepth: suggested depth for treeAggregate (>= 2) (default: 2, current: 2)',\n",
       " 'elasticNetParam: the ElasticNet mixing parameter, in range [0, 1]. For alpha = 0, the penalty is an L2 penalty. For alpha = 1, it is an L1 penalty (default: 0.0, current: 0.0)',\n",
       " 'epsilon: The shape parameter to control the amount of robustness. Must be > 1.0. (default: 1.35, current: 1.35)',\n",
       " 'featuresCol: features column name (default: features, current: vectorized_features)',\n",
       " 'fitIntercept: whether to fit an intercept term (default: True)',\n",
       " 'labelCol: label column name (default: label, current: label)',\n",
       " 'loss: The loss function to be optimized. Supported options: squaredError, huber. (Default squaredError) (default: squaredError)',\n",
       " 'maxIter: maximum number of iterations (>= 0) (default: 100, current: 25)',\n",
       " 'predictionCol: prediction column name (default: prediction)',\n",
       " 'regParam: regularization parameter (>= 0) (default: 0.0, current: 0.0)',\n",
       " 'solver: The solver algorithm for optimization. Supported options: auto, normal, l-bfgs. (Default auto) (default: auto, current: l-bfgs)',\n",
       " 'standardization: whether to standardize the training features before fitting the model (default: True)',\n",
       " 'tol: the convergence tolerance for iterative algorithms (>= 0) (default: 1e-06, current: 0.0001)',\n",
       " 'weightCol: weight column name. If this is not set or empty, we treat all instance weights as 1.0 (undefined)']"
      ]
     },
     "execution_count": 43,
     "metadata": {},
     "output_type": "execute_result"
    }
   ],
   "source": [
    "lr_model.explainParams().split(\"\\n\")"
   ]
  }
 ],
 "metadata": {
  "kernelspec": {
   "display_name": "Python 3",
   "language": "python",
   "name": "python3"
  },
  "language_info": {
   "codemirror_mode": {
    "name": "ipython",
    "version": 3
   },
   "file_extension": ".py",
   "mimetype": "text/x-python",
   "name": "python",
   "nbconvert_exporter": "python",
   "pygments_lexer": "ipython3",
   "version": "3.7.1"
  }
 },
 "nbformat": 4,
 "nbformat_minor": 2
}
