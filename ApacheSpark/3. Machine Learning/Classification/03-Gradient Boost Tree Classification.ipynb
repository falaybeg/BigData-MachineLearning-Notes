{
 "cells": [
  {
   "cell_type": "markdown",
   "metadata": {},
   "source": [
    "# Machine Learning Classification using Gradient Boost Tree"
   ]
  },
  {
   "cell_type": "markdown",
   "metadata": {},
   "source": [
    "Classification is a kind of supervised learning of Machine Learning and these problems have categorical outputs (true-false, yes-no or multiple categories like low-medium-high). \n",
    "\n",
    "\n",
    "A term deposit is a banking process that money loaned to an Institue for a fixed period time and cannot get back until the end of the term. In this project, we will try to prediction the subscription of a term deposit of a Bank. The banking dataset is downloaded from https://data.world/data-society/bank-marketing-data/ web page where can be founded on public datasets. Dataset consists of 21 features where are 20 features and 1 label feature. All feature are as follows:\n",
    "\n",
    "#### --> Bank Client Attributes\n",
    "1 - Age (numeric) \n",
    "\n",
    "2 - Job (categorical): type of job (admin, entrepreneur... etc)\n",
    "\n",
    "3 - Maritial (categorical): maritial status (married, unknown...)\n",
    "\n",
    "4 - Education (categorical): (basic.y4, basic.6y, high school...)\n",
    "\n",
    "5 - Default (categorical): has credit in default ? (yes, no)\n",
    "\n",
    "6 - Housing (categorical): has housing loan ? (yes, no)\n",
    "\n",
    "7 - Loan (categorical): has personal loan ? (yes, no)\n",
    "\n",
    "#### --> Related with the last contact of the current campaing\n",
    "8 - Contact (categorical): contact communication type (cellular, telephone)\n",
    "\n",
    "9 - Month (categorical): contact month of year (jan, feb, march...)\n",
    "\n",
    "10 - Day_of_Week (categorical): last contact day of week (mon, tue, wed...)\n",
    "\n",
    "11 - Duration (numeric): last contact duration in second\n",
    "\n",
    "#### --> Other Attributes\n",
    "12 - Campaign (numeric): number of contacts performed during this campaign and for this client \n",
    "\n",
    "13 - pDays (numeric): number of days that passed by after the client was last contacted from a previoud campaign \n",
    "\n",
    "14 - Previous (numeric): number of contacts performend before this campaign and for this client\n",
    "\n",
    "15 - pOutcome (categorical): outcome of the previous marketing campaign (failure, nonexistent...)\n",
    "\n",
    "#### --> Social and Economic Context Attributes\n",
    "16 - emp.var.rate (numeric): employment variation rate - quarterly indicatior\n",
    "\n",
    "17 - cons.price.idx (numeric): consumer price index - monthly indicator\n",
    "\n",
    "18 - cons.conf.idx (numeric): consumer confidence index - monthly indicator\n",
    "\n",
    "19 - euribor3m (numeric): euribor 3 month rate - daily indicator\n",
    "\n",
    "20 - nr.employed (numeric): number of employees - quarterly indicator\n",
    "\n",
    "#### --> Output Variable (related with subscription)\n",
    "2 - label (binary): Has the client subscribed a term deposit ? (yes - no)"
   ]
  },
  {
   "cell_type": "markdown",
   "metadata": {},
   "source": [
    "## 1. Configuration"
   ]
  },
  {
   "cell_type": "code",
   "execution_count": 1,
   "metadata": {},
   "outputs": [],
   "source": [
    "from pyspark.sql import SparkSession\n",
    "\n",
    "pyspark = SparkSession.builder\\\n",
    ".master(\"local[4]\")\\\n",
    ".appName(\"ML-Classification\")\\\n",
    ".config(\"spark.executor.memory\",\"2g\")\\\n",
    ".config(\"spark.driver.memory\",\"3g\")\\\n",
    ".getOrCreate()\n",
    "\n",
    "sc = pyspark.sparkContext"
   ]
  },
  {
   "cell_type": "markdown",
   "metadata": {},
   "source": [
    "## 2. Load Dataset"
   ]
  },
  {
   "cell_type": "code",
   "execution_count": 2,
   "metadata": {},
   "outputs": [],
   "source": [
    "bank_df = spark.read.format(\"csv\")\\\n",
    ".option(\"header\",\"True\")\\\n",
    ".option(\"inferSchema\",\"True\")\\\n",
    ".option(\"sep\",\",\")\\\n",
    ".load(\"bank_additional.csv\")"
   ]
  },
  {
   "cell_type": "code",
   "execution_count": 3,
   "metadata": {},
   "outputs": [
    {
     "data": {
      "text/html": [
       "<div>\n",
       "<style scoped>\n",
       "    .dataframe tbody tr th:only-of-type {\n",
       "        vertical-align: middle;\n",
       "    }\n",
       "\n",
       "    .dataframe tbody tr th {\n",
       "        vertical-align: top;\n",
       "    }\n",
       "\n",
       "    .dataframe thead th {\n",
       "        text-align: right;\n",
       "    }\n",
       "</style>\n",
       "<table border=\"1\" class=\"dataframe\">\n",
       "  <thead>\n",
       "    <tr style=\"text-align: right;\">\n",
       "      <th></th>\n",
       "      <th>age</th>\n",
       "      <th>job</th>\n",
       "      <th>marital</th>\n",
       "      <th>education</th>\n",
       "      <th>default</th>\n",
       "      <th>housing</th>\n",
       "      <th>loan</th>\n",
       "      <th>contact</th>\n",
       "      <th>month</th>\n",
       "      <th>day_of_week</th>\n",
       "      <th>...</th>\n",
       "      <th>campaign</th>\n",
       "      <th>pdays</th>\n",
       "      <th>previous</th>\n",
       "      <th>poutcome</th>\n",
       "      <th>emp_var_rate</th>\n",
       "      <th>cons_price_idx</th>\n",
       "      <th>cons_conf_idx</th>\n",
       "      <th>euribor3m</th>\n",
       "      <th>nr_employed</th>\n",
       "      <th>subscription</th>\n",
       "    </tr>\n",
       "  </thead>\n",
       "  <tbody>\n",
       "    <tr>\n",
       "      <th>0</th>\n",
       "      <td>30</td>\n",
       "      <td>blue-collar</td>\n",
       "      <td>married</td>\n",
       "      <td>basic.9y</td>\n",
       "      <td>no</td>\n",
       "      <td>yes</td>\n",
       "      <td>no</td>\n",
       "      <td>cellular</td>\n",
       "      <td>may</td>\n",
       "      <td>fri</td>\n",
       "      <td>...</td>\n",
       "      <td>2</td>\n",
       "      <td>999</td>\n",
       "      <td>0</td>\n",
       "      <td>nonexistent</td>\n",
       "      <td>-1.8</td>\n",
       "      <td>92.893</td>\n",
       "      <td>-46.2</td>\n",
       "      <td>1.313</td>\n",
       "      <td>5099.1</td>\n",
       "      <td>no</td>\n",
       "    </tr>\n",
       "    <tr>\n",
       "      <th>1</th>\n",
       "      <td>39</td>\n",
       "      <td>services</td>\n",
       "      <td>single</td>\n",
       "      <td>high.school</td>\n",
       "      <td>no</td>\n",
       "      <td>no</td>\n",
       "      <td>no</td>\n",
       "      <td>telephone</td>\n",
       "      <td>may</td>\n",
       "      <td>fri</td>\n",
       "      <td>...</td>\n",
       "      <td>4</td>\n",
       "      <td>999</td>\n",
       "      <td>0</td>\n",
       "      <td>nonexistent</td>\n",
       "      <td>1.1</td>\n",
       "      <td>93.994</td>\n",
       "      <td>-36.4</td>\n",
       "      <td>4.855</td>\n",
       "      <td>5191.0</td>\n",
       "      <td>no</td>\n",
       "    </tr>\n",
       "    <tr>\n",
       "      <th>2</th>\n",
       "      <td>25</td>\n",
       "      <td>services</td>\n",
       "      <td>married</td>\n",
       "      <td>high.school</td>\n",
       "      <td>no</td>\n",
       "      <td>yes</td>\n",
       "      <td>no</td>\n",
       "      <td>telephone</td>\n",
       "      <td>jun</td>\n",
       "      <td>wed</td>\n",
       "      <td>...</td>\n",
       "      <td>1</td>\n",
       "      <td>999</td>\n",
       "      <td>0</td>\n",
       "      <td>nonexistent</td>\n",
       "      <td>1.4</td>\n",
       "      <td>94.465</td>\n",
       "      <td>-41.8</td>\n",
       "      <td>4.962</td>\n",
       "      <td>5228.1</td>\n",
       "      <td>no</td>\n",
       "    </tr>\n",
       "    <tr>\n",
       "      <th>3</th>\n",
       "      <td>38</td>\n",
       "      <td>services</td>\n",
       "      <td>married</td>\n",
       "      <td>basic.9y</td>\n",
       "      <td>no</td>\n",
       "      <td>unknown</td>\n",
       "      <td>unknown</td>\n",
       "      <td>telephone</td>\n",
       "      <td>jun</td>\n",
       "      <td>fri</td>\n",
       "      <td>...</td>\n",
       "      <td>3</td>\n",
       "      <td>999</td>\n",
       "      <td>0</td>\n",
       "      <td>nonexistent</td>\n",
       "      <td>1.4</td>\n",
       "      <td>94.465</td>\n",
       "      <td>-41.8</td>\n",
       "      <td>4.959</td>\n",
       "      <td>5228.1</td>\n",
       "      <td>no</td>\n",
       "    </tr>\n",
       "    <tr>\n",
       "      <th>4</th>\n",
       "      <td>47</td>\n",
       "      <td>admin.</td>\n",
       "      <td>married</td>\n",
       "      <td>university.degree</td>\n",
       "      <td>no</td>\n",
       "      <td>yes</td>\n",
       "      <td>no</td>\n",
       "      <td>cellular</td>\n",
       "      <td>nov</td>\n",
       "      <td>mon</td>\n",
       "      <td>...</td>\n",
       "      <td>1</td>\n",
       "      <td>999</td>\n",
       "      <td>0</td>\n",
       "      <td>nonexistent</td>\n",
       "      <td>-0.1</td>\n",
       "      <td>93.200</td>\n",
       "      <td>-42.0</td>\n",
       "      <td>4.191</td>\n",
       "      <td>5195.8</td>\n",
       "      <td>no</td>\n",
       "    </tr>\n",
       "    <tr>\n",
       "      <th>5</th>\n",
       "      <td>32</td>\n",
       "      <td>services</td>\n",
       "      <td>single</td>\n",
       "      <td>university.degree</td>\n",
       "      <td>no</td>\n",
       "      <td>no</td>\n",
       "      <td>no</td>\n",
       "      <td>cellular</td>\n",
       "      <td>sep</td>\n",
       "      <td>thu</td>\n",
       "      <td>...</td>\n",
       "      <td>3</td>\n",
       "      <td>999</td>\n",
       "      <td>2</td>\n",
       "      <td>failure</td>\n",
       "      <td>-1.1</td>\n",
       "      <td>94.199</td>\n",
       "      <td>-37.5</td>\n",
       "      <td>0.884</td>\n",
       "      <td>4963.6</td>\n",
       "      <td>no</td>\n",
       "    </tr>\n",
       "    <tr>\n",
       "      <th>6</th>\n",
       "      <td>32</td>\n",
       "      <td>admin.</td>\n",
       "      <td>single</td>\n",
       "      <td>university.degree</td>\n",
       "      <td>no</td>\n",
       "      <td>yes</td>\n",
       "      <td>no</td>\n",
       "      <td>cellular</td>\n",
       "      <td>sep</td>\n",
       "      <td>mon</td>\n",
       "      <td>...</td>\n",
       "      <td>4</td>\n",
       "      <td>999</td>\n",
       "      <td>0</td>\n",
       "      <td>nonexistent</td>\n",
       "      <td>-1.1</td>\n",
       "      <td>94.199</td>\n",
       "      <td>-37.5</td>\n",
       "      <td>0.879</td>\n",
       "      <td>4963.6</td>\n",
       "      <td>no</td>\n",
       "    </tr>\n",
       "    <tr>\n",
       "      <th>7</th>\n",
       "      <td>41</td>\n",
       "      <td>entrepreneur</td>\n",
       "      <td>married</td>\n",
       "      <td>university.degree</td>\n",
       "      <td>unknown</td>\n",
       "      <td>yes</td>\n",
       "      <td>no</td>\n",
       "      <td>cellular</td>\n",
       "      <td>nov</td>\n",
       "      <td>mon</td>\n",
       "      <td>...</td>\n",
       "      <td>2</td>\n",
       "      <td>999</td>\n",
       "      <td>0</td>\n",
       "      <td>nonexistent</td>\n",
       "      <td>-0.1</td>\n",
       "      <td>93.200</td>\n",
       "      <td>-42.0</td>\n",
       "      <td>4.191</td>\n",
       "      <td>5195.8</td>\n",
       "      <td>no</td>\n",
       "    </tr>\n",
       "    <tr>\n",
       "      <th>8</th>\n",
       "      <td>31</td>\n",
       "      <td>services</td>\n",
       "      <td>divorced</td>\n",
       "      <td>professional.course</td>\n",
       "      <td>no</td>\n",
       "      <td>no</td>\n",
       "      <td>no</td>\n",
       "      <td>cellular</td>\n",
       "      <td>nov</td>\n",
       "      <td>tue</td>\n",
       "      <td>...</td>\n",
       "      <td>1</td>\n",
       "      <td>999</td>\n",
       "      <td>1</td>\n",
       "      <td>failure</td>\n",
       "      <td>-0.1</td>\n",
       "      <td>93.200</td>\n",
       "      <td>-42.0</td>\n",
       "      <td>4.153</td>\n",
       "      <td>5195.8</td>\n",
       "      <td>no</td>\n",
       "    </tr>\n",
       "    <tr>\n",
       "      <th>9</th>\n",
       "      <td>35</td>\n",
       "      <td>blue-collar</td>\n",
       "      <td>married</td>\n",
       "      <td>basic.9y</td>\n",
       "      <td>unknown</td>\n",
       "      <td>no</td>\n",
       "      <td>no</td>\n",
       "      <td>telephone</td>\n",
       "      <td>may</td>\n",
       "      <td>thu</td>\n",
       "      <td>...</td>\n",
       "      <td>1</td>\n",
       "      <td>999</td>\n",
       "      <td>0</td>\n",
       "      <td>nonexistent</td>\n",
       "      <td>1.1</td>\n",
       "      <td>93.994</td>\n",
       "      <td>-36.4</td>\n",
       "      <td>4.855</td>\n",
       "      <td>5191.0</td>\n",
       "      <td>no</td>\n",
       "    </tr>\n",
       "  </tbody>\n",
       "</table>\n",
       "<p>10 rows × 21 columns</p>\n",
       "</div>"
      ],
      "text/plain": [
       "   age           job   marital            education  default  housing  \\\n",
       "0   30   blue-collar   married             basic.9y       no      yes   \n",
       "1   39      services    single          high.school       no       no   \n",
       "2   25      services   married          high.school       no      yes   \n",
       "3   38      services   married             basic.9y       no  unknown   \n",
       "4   47        admin.   married    university.degree       no      yes   \n",
       "5   32      services    single    university.degree       no       no   \n",
       "6   32        admin.    single    university.degree       no      yes   \n",
       "7   41  entrepreneur   married    university.degree  unknown      yes   \n",
       "8   31      services  divorced  professional.course       no       no   \n",
       "9   35   blue-collar   married             basic.9y  unknown       no   \n",
       "\n",
       "      loan    contact month day_of_week      ...       campaign  pdays  \\\n",
       "0       no   cellular   may         fri      ...              2    999   \n",
       "1       no  telephone   may         fri      ...              4    999   \n",
       "2       no  telephone   jun         wed      ...              1    999   \n",
       "3  unknown  telephone   jun         fri      ...              3    999   \n",
       "4       no   cellular   nov         mon      ...              1    999   \n",
       "5       no   cellular   sep         thu      ...              3    999   \n",
       "6       no   cellular   sep         mon      ...              4    999   \n",
       "7       no   cellular   nov         mon      ...              2    999   \n",
       "8       no   cellular   nov         tue      ...              1    999   \n",
       "9       no  telephone   may         thu      ...              1    999   \n",
       "\n",
       "   previous     poutcome emp_var_rate  cons_price_idx  cons_conf_idx  \\\n",
       "0         0  nonexistent         -1.8          92.893          -46.2   \n",
       "1         0  nonexistent          1.1          93.994          -36.4   \n",
       "2         0  nonexistent          1.4          94.465          -41.8   \n",
       "3         0  nonexistent          1.4          94.465          -41.8   \n",
       "4         0  nonexistent         -0.1          93.200          -42.0   \n",
       "5         2      failure         -1.1          94.199          -37.5   \n",
       "6         0  nonexistent         -1.1          94.199          -37.5   \n",
       "7         0  nonexistent         -0.1          93.200          -42.0   \n",
       "8         1      failure         -0.1          93.200          -42.0   \n",
       "9         0  nonexistent          1.1          93.994          -36.4   \n",
       "\n",
       "   euribor3m  nr_employed  subscription  \n",
       "0      1.313       5099.1            no  \n",
       "1      4.855       5191.0            no  \n",
       "2      4.962       5228.1            no  \n",
       "3      4.959       5228.1            no  \n",
       "4      4.191       5195.8            no  \n",
       "5      0.884       4963.6            no  \n",
       "6      0.879       4963.6            no  \n",
       "7      4.191       5195.8            no  \n",
       "8      4.153       5195.8            no  \n",
       "9      4.855       5191.0            no  \n",
       "\n",
       "[10 rows x 21 columns]"
      ]
     },
     "execution_count": 3,
     "metadata": {},
     "output_type": "execute_result"
    }
   ],
   "source": [
    "bank_df.toPandas().head(10)"
   ]
  },
  {
   "cell_type": "markdown",
   "metadata": {},
   "source": [
    "## 2. Data Understanding "
   ]
  },
  {
   "cell_type": "code",
   "execution_count": 4,
   "metadata": {},
   "outputs": [],
   "source": [
    "from pyspark.sql.functions import *"
   ]
  },
  {
   "cell_type": "markdown",
   "metadata": {},
   "source": [
    "### 3.1. Total Data Count"
   ]
  },
  {
   "cell_type": "code",
   "execution_count": 5,
   "metadata": {
    "scrolled": true
   },
   "outputs": [
    {
     "name": "stdout",
     "output_type": "stream",
     "text": [
      "Total data count:  4119\n"
     ]
    }
   ],
   "source": [
    "print(\"Total data count: \", bank_df.count())"
   ]
  },
  {
   "cell_type": "markdown",
   "metadata": {},
   "source": [
    "### 3.2. Description of dataset"
   ]
  },
  {
   "cell_type": "code",
   "execution_count": 6,
   "metadata": {},
   "outputs": [
    {
     "data": {
      "text/html": [
       "<div>\n",
       "<style scoped>\n",
       "    .dataframe tbody tr th:only-of-type {\n",
       "        vertical-align: middle;\n",
       "    }\n",
       "\n",
       "    .dataframe tbody tr th {\n",
       "        vertical-align: top;\n",
       "    }\n",
       "\n",
       "    .dataframe thead th {\n",
       "        text-align: right;\n",
       "    }\n",
       "</style>\n",
       "<table border=\"1\" class=\"dataframe\">\n",
       "  <thead>\n",
       "    <tr style=\"text-align: right;\">\n",
       "      <th></th>\n",
       "      <th>summary</th>\n",
       "      <th>age</th>\n",
       "      <th>job</th>\n",
       "      <th>marital</th>\n",
       "      <th>education</th>\n",
       "      <th>default</th>\n",
       "      <th>housing</th>\n",
       "      <th>loan</th>\n",
       "      <th>contact</th>\n",
       "      <th>month</th>\n",
       "      <th>...</th>\n",
       "      <th>campaign</th>\n",
       "      <th>pdays</th>\n",
       "      <th>previous</th>\n",
       "      <th>poutcome</th>\n",
       "      <th>emp_var_rate</th>\n",
       "      <th>cons_price_idx</th>\n",
       "      <th>cons_conf_idx</th>\n",
       "      <th>euribor3m</th>\n",
       "      <th>nr_employed</th>\n",
       "      <th>subscription</th>\n",
       "    </tr>\n",
       "  </thead>\n",
       "  <tbody>\n",
       "    <tr>\n",
       "      <th>0</th>\n",
       "      <td>count</td>\n",
       "      <td>4119</td>\n",
       "      <td>4119</td>\n",
       "      <td>4119</td>\n",
       "      <td>4119</td>\n",
       "      <td>4119</td>\n",
       "      <td>4119</td>\n",
       "      <td>4119</td>\n",
       "      <td>4119</td>\n",
       "      <td>4119</td>\n",
       "      <td>...</td>\n",
       "      <td>4119</td>\n",
       "      <td>4119</td>\n",
       "      <td>4119</td>\n",
       "      <td>4119</td>\n",
       "      <td>4119</td>\n",
       "      <td>4119</td>\n",
       "      <td>4119</td>\n",
       "      <td>4119</td>\n",
       "      <td>4119</td>\n",
       "      <td>4119</td>\n",
       "    </tr>\n",
       "    <tr>\n",
       "      <th>1</th>\n",
       "      <td>mean</td>\n",
       "      <td>40.11361981063365</td>\n",
       "      <td>None</td>\n",
       "      <td>None</td>\n",
       "      <td>None</td>\n",
       "      <td>None</td>\n",
       "      <td>None</td>\n",
       "      <td>None</td>\n",
       "      <td>None</td>\n",
       "      <td>None</td>\n",
       "      <td>...</td>\n",
       "      <td>2.537266326778344</td>\n",
       "      <td>960.4221898519058</td>\n",
       "      <td>0.19033746054867687</td>\n",
       "      <td>None</td>\n",
       "      <td>0.08497208060208582</td>\n",
       "      <td>93.57970429716252</td>\n",
       "      <td>-40.499101723719384</td>\n",
       "      <td>3.621355668851656</td>\n",
       "      <td>5166.481694586143</td>\n",
       "      <td>None</td>\n",
       "    </tr>\n",
       "    <tr>\n",
       "      <th>2</th>\n",
       "      <td>stddev</td>\n",
       "      <td>10.313361547199827</td>\n",
       "      <td>None</td>\n",
       "      <td>None</td>\n",
       "      <td>None</td>\n",
       "      <td>None</td>\n",
       "      <td>None</td>\n",
       "      <td>None</td>\n",
       "      <td>None</td>\n",
       "      <td>None</td>\n",
       "      <td>...</td>\n",
       "      <td>2.568159237578134</td>\n",
       "      <td>191.92278580077652</td>\n",
       "      <td>0.541788323429031</td>\n",
       "      <td>None</td>\n",
       "      <td>1.5631144559116772</td>\n",
       "      <td>0.579348804988967</td>\n",
       "      <td>4.594577506837539</td>\n",
       "      <td>1.7335912227013535</td>\n",
       "      <td>73.66790355721237</td>\n",
       "      <td>None</td>\n",
       "    </tr>\n",
       "    <tr>\n",
       "      <th>3</th>\n",
       "      <td>min</td>\n",
       "      <td>18</td>\n",
       "      <td>admin.</td>\n",
       "      <td>divorced</td>\n",
       "      <td>basic.4y</td>\n",
       "      <td>no</td>\n",
       "      <td>no</td>\n",
       "      <td>no</td>\n",
       "      <td>cellular</td>\n",
       "      <td>apr</td>\n",
       "      <td>...</td>\n",
       "      <td>1</td>\n",
       "      <td>0</td>\n",
       "      <td>0</td>\n",
       "      <td>failure</td>\n",
       "      <td>-3.4</td>\n",
       "      <td>92.201</td>\n",
       "      <td>-50.8</td>\n",
       "      <td>0.635</td>\n",
       "      <td>4963.6</td>\n",
       "      <td>no</td>\n",
       "    </tr>\n",
       "    <tr>\n",
       "      <th>4</th>\n",
       "      <td>max</td>\n",
       "      <td>88</td>\n",
       "      <td>unknown</td>\n",
       "      <td>unknown</td>\n",
       "      <td>unknown</td>\n",
       "      <td>yes</td>\n",
       "      <td>yes</td>\n",
       "      <td>yes</td>\n",
       "      <td>telephone</td>\n",
       "      <td>sep</td>\n",
       "      <td>...</td>\n",
       "      <td>35</td>\n",
       "      <td>999</td>\n",
       "      <td>6</td>\n",
       "      <td>success</td>\n",
       "      <td>1.4</td>\n",
       "      <td>94.767</td>\n",
       "      <td>-26.9</td>\n",
       "      <td>5.045</td>\n",
       "      <td>5228.1</td>\n",
       "      <td>yes</td>\n",
       "    </tr>\n",
       "  </tbody>\n",
       "</table>\n",
       "<p>5 rows × 22 columns</p>\n",
       "</div>"
      ],
      "text/plain": [
       "  summary                 age      job   marital education default housing  \\\n",
       "0   count                4119     4119      4119      4119    4119    4119   \n",
       "1    mean   40.11361981063365     None      None      None    None    None   \n",
       "2  stddev  10.313361547199827     None      None      None    None    None   \n",
       "3     min                  18   admin.  divorced  basic.4y      no      no   \n",
       "4     max                  88  unknown   unknown   unknown     yes     yes   \n",
       "\n",
       "   loan    contact month     ...                campaign               pdays  \\\n",
       "0  4119       4119  4119     ...                    4119                4119   \n",
       "1  None       None  None     ...       2.537266326778344   960.4221898519058   \n",
       "2  None       None  None     ...       2.568159237578134  191.92278580077652   \n",
       "3    no   cellular   apr     ...                       1                   0   \n",
       "4   yes  telephone   sep     ...                      35                 999   \n",
       "\n",
       "              previous poutcome         emp_var_rate     cons_price_idx  \\\n",
       "0                 4119     4119                 4119               4119   \n",
       "1  0.19033746054867687     None  0.08497208060208582  93.57970429716252   \n",
       "2    0.541788323429031     None   1.5631144559116772  0.579348804988967   \n",
       "3                    0  failure                 -3.4             92.201   \n",
       "4                    6  success                  1.4             94.767   \n",
       "\n",
       "         cons_conf_idx           euribor3m        nr_employed subscription  \n",
       "0                 4119                4119               4119         4119  \n",
       "1  -40.499101723719384   3.621355668851656  5166.481694586143         None  \n",
       "2    4.594577506837539  1.7335912227013535  73.66790355721237         None  \n",
       "3                -50.8               0.635             4963.6           no  \n",
       "4                -26.9               5.045             5228.1          yes  \n",
       "\n",
       "[5 rows x 22 columns]"
      ]
     },
     "execution_count": 6,
     "metadata": {},
     "output_type": "execute_result"
    }
   ],
   "source": [
    "bank_df.describe().toPandas().head()"
   ]
  },
  {
   "cell_type": "markdown",
   "metadata": {},
   "source": [
    "### 3.3. Checking Null Values"
   ]
  },
  {
   "cell_type": "code",
   "execution_count": 7,
   "metadata": {},
   "outputs": [
    {
     "name": "stdout",
     "output_type": "stream",
     "text": [
      "1 . age --> \u001b[1;32;1m is clean \u001b[0m\n",
      "2 . job --> \u001b[1;32;1m is clean \u001b[0m\n",
      "3 . marital --> \u001b[1;32;1m is clean \u001b[0m\n",
      "4 . education --> \u001b[1;32;1m is clean \u001b[0m\n",
      "5 . default --> \u001b[1;32;1m is clean \u001b[0m\n",
      "6 . housing --> \u001b[1;32;1m is clean \u001b[0m\n",
      "7 . loan --> \u001b[1;32;1m is clean \u001b[0m\n",
      "8 . contact --> \u001b[1;32;1m is clean \u001b[0m\n",
      "9 . month --> \u001b[1;32;1m is clean \u001b[0m\n",
      "10 . day_of_week --> \u001b[1;32;1m is clean \u001b[0m\n",
      "11 . duration --> \u001b[1;32;1m is clean \u001b[0m\n",
      "12 . campaign --> \u001b[1;32;1m is clean \u001b[0m\n",
      "13 . pdays --> \u001b[1;32;1m is clean \u001b[0m\n",
      "14 . previous --> \u001b[1;32;1m is clean \u001b[0m\n",
      "15 . poutcome --> \u001b[1;32;1m is clean \u001b[0m\n",
      "16 . emp_var_rate --> \u001b[1;32;1m is clean \u001b[0m\n",
      "17 . cons_price_idx --> \u001b[1;32;1m is clean \u001b[0m\n",
      "18 . cons_conf_idx --> \u001b[1;32;1m is clean \u001b[0m\n",
      "19 . euribor3m --> \u001b[1;32;1m is clean \u001b[0m\n",
      "20 . nr_employed --> \u001b[1;32;1m is clean \u001b[0m\n",
      "21 . subscription --> \u001b[1;32;1m is clean \u001b[0m\n"
     ]
    }
   ],
   "source": [
    "count_for_null = 1\n",
    "for column in bank_df.columns:\n",
    "    if(bank_df.filter(col(column).isNull()).count()>0):\n",
    "        print(count_for_null, \".\", column, \"--> \\033[1;31;1m there has null values \\033[0m\")\n",
    "    else:\n",
    "        print(count_for_null, \".\",column,\"--> \\033[1;32;1m is clean \\033[0m\")\n",
    "    count_for_null += 1"
   ]
  },
  {
   "cell_type": "code",
   "execution_count": 8,
   "metadata": {},
   "outputs": [
    {
     "data": {
      "text/html": [
       "<div>\n",
       "<style scoped>\n",
       "    .dataframe tbody tr th:only-of-type {\n",
       "        vertical-align: middle;\n",
       "    }\n",
       "\n",
       "    .dataframe tbody tr th {\n",
       "        vertical-align: top;\n",
       "    }\n",
       "\n",
       "    .dataframe thead th {\n",
       "        text-align: right;\n",
       "    }\n",
       "</style>\n",
       "<table border=\"1\" class=\"dataframe\">\n",
       "  <thead>\n",
       "    <tr style=\"text-align: right;\">\n",
       "      <th></th>\n",
       "      <th>subscription</th>\n",
       "      <th>count</th>\n",
       "    </tr>\n",
       "  </thead>\n",
       "  <tbody>\n",
       "    <tr>\n",
       "      <th>0</th>\n",
       "      <td>no</td>\n",
       "      <td>3668</td>\n",
       "    </tr>\n",
       "    <tr>\n",
       "      <th>1</th>\n",
       "      <td>yes</td>\n",
       "      <td>451</td>\n",
       "    </tr>\n",
       "  </tbody>\n",
       "</table>\n",
       "</div>"
      ],
      "text/plain": [
       "  subscription  count\n",
       "0           no   3668\n",
       "1          yes    451"
      ]
     },
     "execution_count": 8,
     "metadata": {},
     "output_type": "execute_result"
    }
   ],
   "source": [
    "bank_df.groupBy(\"subscription\").count().toPandas().head()"
   ]
  },
  {
   "cell_type": "markdown",
   "metadata": {},
   "source": [
    "### 3.4. Checking of the Unknown Category in the Dataset"
   ]
  },
  {
   "cell_type": "code",
   "execution_count": 9,
   "metadata": {},
   "outputs": [
    {
     "name": "stdout",
     "output_type": "stream",
     "text": [
      "1 . age --> \u001b[1;32;1m is clean \u001b[0m\n",
      "2 . job --> \u001b[1;31;1m there has unknown \u001b[0m\n",
      "3 . marital --> \u001b[1;31;1m there has unknown \u001b[0m\n",
      "4 . education --> \u001b[1;31;1m there has unknown \u001b[0m\n",
      "5 . default --> \u001b[1;31;1m there has unknown \u001b[0m\n",
      "6 . housing --> \u001b[1;31;1m there has unknown \u001b[0m\n",
      "7 . loan --> \u001b[1;31;1m there has unknown \u001b[0m\n",
      "8 . contact --> \u001b[1;32;1m is clean \u001b[0m\n",
      "9 . month --> \u001b[1;32;1m is clean \u001b[0m\n",
      "10 . day_of_week --> \u001b[1;32;1m is clean \u001b[0m\n",
      "11 . duration --> \u001b[1;32;1m is clean \u001b[0m\n",
      "12 . campaign --> \u001b[1;32;1m is clean \u001b[0m\n",
      "13 . pdays --> \u001b[1;32;1m is clean \u001b[0m\n",
      "14 . previous --> \u001b[1;32;1m is clean \u001b[0m\n",
      "15 . poutcome --> \u001b[1;32;1m is clean \u001b[0m\n",
      "16 . emp_var_rate --> \u001b[1;32;1m is clean \u001b[0m\n",
      "17 . cons_price_idx --> \u001b[1;32;1m is clean \u001b[0m\n",
      "18 . cons_conf_idx --> \u001b[1;32;1m is clean \u001b[0m\n",
      "19 . euribor3m --> \u001b[1;32;1m is clean \u001b[0m\n",
      "20 . nr_employed --> \u001b[1;32;1m is clean \u001b[0m\n",
      "21 . subscription --> \u001b[1;32;1m is clean \u001b[0m\n"
     ]
    }
   ],
   "source": [
    "count_for_null = 1\n",
    "for column in bank_df.columns:\n",
    "    if(bank_df.filter(col(column).contains(\"unknown\")).count()>0):\n",
    "        print(count_for_null, \".\", column, \"--> \\033[1;31;1m there has unknown \\033[0m\")\n",
    "    else:\n",
    "        print(count_for_null, \".\",column,\"--> \\033[1;32;1m is clean \\033[0m\")\n",
    "    count_for_null += 1"
   ]
  },
  {
   "cell_type": "markdown",
   "metadata": {},
   "source": [
    "#### 3.4.1. job feature"
   ]
  },
  {
   "cell_type": "code",
   "execution_count": 10,
   "metadata": {
    "scrolled": true
   },
   "outputs": [
    {
     "data": {
      "text/html": [
       "<div>\n",
       "<style scoped>\n",
       "    .dataframe tbody tr th:only-of-type {\n",
       "        vertical-align: middle;\n",
       "    }\n",
       "\n",
       "    .dataframe tbody tr th {\n",
       "        vertical-align: top;\n",
       "    }\n",
       "\n",
       "    .dataframe thead th {\n",
       "        text-align: right;\n",
       "    }\n",
       "</style>\n",
       "<table border=\"1\" class=\"dataframe\">\n",
       "  <thead>\n",
       "    <tr style=\"text-align: right;\">\n",
       "      <th></th>\n",
       "      <th>job</th>\n",
       "      <th>count</th>\n",
       "    </tr>\n",
       "  </thead>\n",
       "  <tbody>\n",
       "    <tr>\n",
       "      <th>0</th>\n",
       "      <td>unknown</td>\n",
       "      <td>39</td>\n",
       "    </tr>\n",
       "    <tr>\n",
       "      <th>1</th>\n",
       "      <td>student</td>\n",
       "      <td>82</td>\n",
       "    </tr>\n",
       "    <tr>\n",
       "      <th>2</th>\n",
       "      <td>housemaid</td>\n",
       "      <td>110</td>\n",
       "    </tr>\n",
       "    <tr>\n",
       "      <th>3</th>\n",
       "      <td>unemployed</td>\n",
       "      <td>111</td>\n",
       "    </tr>\n",
       "    <tr>\n",
       "      <th>4</th>\n",
       "      <td>entrepreneur</td>\n",
       "      <td>148</td>\n",
       "    </tr>\n",
       "    <tr>\n",
       "      <th>5</th>\n",
       "      <td>self-employed</td>\n",
       "      <td>159</td>\n",
       "    </tr>\n",
       "    <tr>\n",
       "      <th>6</th>\n",
       "      <td>retired</td>\n",
       "      <td>166</td>\n",
       "    </tr>\n",
       "    <tr>\n",
       "      <th>7</th>\n",
       "      <td>management</td>\n",
       "      <td>324</td>\n",
       "    </tr>\n",
       "    <tr>\n",
       "      <th>8</th>\n",
       "      <td>services</td>\n",
       "      <td>393</td>\n",
       "    </tr>\n",
       "    <tr>\n",
       "      <th>9</th>\n",
       "      <td>technician</td>\n",
       "      <td>691</td>\n",
       "    </tr>\n",
       "    <tr>\n",
       "      <th>10</th>\n",
       "      <td>blue-collar</td>\n",
       "      <td>884</td>\n",
       "    </tr>\n",
       "    <tr>\n",
       "      <th>11</th>\n",
       "      <td>admin.</td>\n",
       "      <td>1012</td>\n",
       "    </tr>\n",
       "  </tbody>\n",
       "</table>\n",
       "</div>"
      ],
      "text/plain": [
       "              job  count\n",
       "0         unknown     39\n",
       "1         student     82\n",
       "2       housemaid    110\n",
       "3      unemployed    111\n",
       "4    entrepreneur    148\n",
       "5   self-employed    159\n",
       "6         retired    166\n",
       "7      management    324\n",
       "8        services    393\n",
       "9      technician    691\n",
       "10    blue-collar    884\n",
       "11         admin.   1012"
      ]
     },
     "execution_count": 10,
     "metadata": {},
     "output_type": "execute_result"
    }
   ],
   "source": [
    "bank_df.groupBy(\"job\").count().sort(col(\"count\")).toPandas().head(15)"
   ]
  },
  {
   "cell_type": "markdown",
   "metadata": {},
   "source": [
    "#### 3.4.2. maritial feature"
   ]
  },
  {
   "cell_type": "code",
   "execution_count": 11,
   "metadata": {
    "scrolled": true
   },
   "outputs": [
    {
     "data": {
      "text/html": [
       "<div>\n",
       "<style scoped>\n",
       "    .dataframe tbody tr th:only-of-type {\n",
       "        vertical-align: middle;\n",
       "    }\n",
       "\n",
       "    .dataframe tbody tr th {\n",
       "        vertical-align: top;\n",
       "    }\n",
       "\n",
       "    .dataframe thead th {\n",
       "        text-align: right;\n",
       "    }\n",
       "</style>\n",
       "<table border=\"1\" class=\"dataframe\">\n",
       "  <thead>\n",
       "    <tr style=\"text-align: right;\">\n",
       "      <th></th>\n",
       "      <th>marital</th>\n",
       "      <th>count</th>\n",
       "    </tr>\n",
       "  </thead>\n",
       "  <tbody>\n",
       "    <tr>\n",
       "      <th>0</th>\n",
       "      <td>unknown</td>\n",
       "      <td>11</td>\n",
       "    </tr>\n",
       "    <tr>\n",
       "      <th>1</th>\n",
       "      <td>divorced</td>\n",
       "      <td>446</td>\n",
       "    </tr>\n",
       "    <tr>\n",
       "      <th>2</th>\n",
       "      <td>single</td>\n",
       "      <td>1153</td>\n",
       "    </tr>\n",
       "    <tr>\n",
       "      <th>3</th>\n",
       "      <td>married</td>\n",
       "      <td>2509</td>\n",
       "    </tr>\n",
       "  </tbody>\n",
       "</table>\n",
       "</div>"
      ],
      "text/plain": [
       "    marital  count\n",
       "0   unknown     11\n",
       "1  divorced    446\n",
       "2    single   1153\n",
       "3   married   2509"
      ]
     },
     "execution_count": 11,
     "metadata": {},
     "output_type": "execute_result"
    }
   ],
   "source": [
    "bank_df.groupBy(\"marital\").count().sort(col(\"count\")).toPandas().head(20)"
   ]
  },
  {
   "cell_type": "markdown",
   "metadata": {},
   "source": [
    "#### 3.4.2. education feature"
   ]
  },
  {
   "cell_type": "code",
   "execution_count": 12,
   "metadata": {
    "scrolled": true
   },
   "outputs": [
    {
     "data": {
      "text/html": [
       "<div>\n",
       "<style scoped>\n",
       "    .dataframe tbody tr th:only-of-type {\n",
       "        vertical-align: middle;\n",
       "    }\n",
       "\n",
       "    .dataframe tbody tr th {\n",
       "        vertical-align: top;\n",
       "    }\n",
       "\n",
       "    .dataframe thead th {\n",
       "        text-align: right;\n",
       "    }\n",
       "</style>\n",
       "<table border=\"1\" class=\"dataframe\">\n",
       "  <thead>\n",
       "    <tr style=\"text-align: right;\">\n",
       "      <th></th>\n",
       "      <th>education</th>\n",
       "      <th>count</th>\n",
       "    </tr>\n",
       "  </thead>\n",
       "  <tbody>\n",
       "    <tr>\n",
       "      <th>0</th>\n",
       "      <td>illiterate</td>\n",
       "      <td>1</td>\n",
       "    </tr>\n",
       "    <tr>\n",
       "      <th>1</th>\n",
       "      <td>unknown</td>\n",
       "      <td>167</td>\n",
       "    </tr>\n",
       "    <tr>\n",
       "      <th>2</th>\n",
       "      <td>basic.6y</td>\n",
       "      <td>228</td>\n",
       "    </tr>\n",
       "    <tr>\n",
       "      <th>3</th>\n",
       "      <td>basic.4y</td>\n",
       "      <td>429</td>\n",
       "    </tr>\n",
       "    <tr>\n",
       "      <th>4</th>\n",
       "      <td>professional.course</td>\n",
       "      <td>535</td>\n",
       "    </tr>\n",
       "    <tr>\n",
       "      <th>5</th>\n",
       "      <td>basic.9y</td>\n",
       "      <td>574</td>\n",
       "    </tr>\n",
       "    <tr>\n",
       "      <th>6</th>\n",
       "      <td>high.school</td>\n",
       "      <td>921</td>\n",
       "    </tr>\n",
       "    <tr>\n",
       "      <th>7</th>\n",
       "      <td>university.degree</td>\n",
       "      <td>1264</td>\n",
       "    </tr>\n",
       "  </tbody>\n",
       "</table>\n",
       "</div>"
      ],
      "text/plain": [
       "             education  count\n",
       "0           illiterate      1\n",
       "1              unknown    167\n",
       "2             basic.6y    228\n",
       "3             basic.4y    429\n",
       "4  professional.course    535\n",
       "5             basic.9y    574\n",
       "6          high.school    921\n",
       "7    university.degree   1264"
      ]
     },
     "execution_count": 12,
     "metadata": {},
     "output_type": "execute_result"
    }
   ],
   "source": [
    "bank_df.groupBy(\"education\").count().sort(col(\"count\")).toPandas().head(20)"
   ]
  },
  {
   "cell_type": "markdown",
   "metadata": {},
   "source": [
    "#### 3.4.2. default feature"
   ]
  },
  {
   "cell_type": "code",
   "execution_count": 13,
   "metadata": {
    "scrolled": true
   },
   "outputs": [
    {
     "data": {
      "text/html": [
       "<div>\n",
       "<style scoped>\n",
       "    .dataframe tbody tr th:only-of-type {\n",
       "        vertical-align: middle;\n",
       "    }\n",
       "\n",
       "    .dataframe tbody tr th {\n",
       "        vertical-align: top;\n",
       "    }\n",
       "\n",
       "    .dataframe thead th {\n",
       "        text-align: right;\n",
       "    }\n",
       "</style>\n",
       "<table border=\"1\" class=\"dataframe\">\n",
       "  <thead>\n",
       "    <tr style=\"text-align: right;\">\n",
       "      <th></th>\n",
       "      <th>default</th>\n",
       "      <th>count</th>\n",
       "    </tr>\n",
       "  </thead>\n",
       "  <tbody>\n",
       "    <tr>\n",
       "      <th>0</th>\n",
       "      <td>yes</td>\n",
       "      <td>1</td>\n",
       "    </tr>\n",
       "    <tr>\n",
       "      <th>1</th>\n",
       "      <td>unknown</td>\n",
       "      <td>803</td>\n",
       "    </tr>\n",
       "    <tr>\n",
       "      <th>2</th>\n",
       "      <td>no</td>\n",
       "      <td>3315</td>\n",
       "    </tr>\n",
       "  </tbody>\n",
       "</table>\n",
       "</div>"
      ],
      "text/plain": [
       "   default  count\n",
       "0      yes      1\n",
       "1  unknown    803\n",
       "2       no   3315"
      ]
     },
     "execution_count": 13,
     "metadata": {},
     "output_type": "execute_result"
    }
   ],
   "source": [
    "bank_df.groupBy(\"default\").count().sort(col(\"count\")).toPandas().head(20)"
   ]
  },
  {
   "cell_type": "markdown",
   "metadata": {},
   "source": [
    "#### 3.4.2. housing feature"
   ]
  },
  {
   "cell_type": "code",
   "execution_count": 14,
   "metadata": {
    "scrolled": true
   },
   "outputs": [
    {
     "data": {
      "text/html": [
       "<div>\n",
       "<style scoped>\n",
       "    .dataframe tbody tr th:only-of-type {\n",
       "        vertical-align: middle;\n",
       "    }\n",
       "\n",
       "    .dataframe tbody tr th {\n",
       "        vertical-align: top;\n",
       "    }\n",
       "\n",
       "    .dataframe thead th {\n",
       "        text-align: right;\n",
       "    }\n",
       "</style>\n",
       "<table border=\"1\" class=\"dataframe\">\n",
       "  <thead>\n",
       "    <tr style=\"text-align: right;\">\n",
       "      <th></th>\n",
       "      <th>housing</th>\n",
       "      <th>count</th>\n",
       "    </tr>\n",
       "  </thead>\n",
       "  <tbody>\n",
       "    <tr>\n",
       "      <th>0</th>\n",
       "      <td>unknown</td>\n",
       "      <td>105</td>\n",
       "    </tr>\n",
       "    <tr>\n",
       "      <th>1</th>\n",
       "      <td>no</td>\n",
       "      <td>1839</td>\n",
       "    </tr>\n",
       "    <tr>\n",
       "      <th>2</th>\n",
       "      <td>yes</td>\n",
       "      <td>2175</td>\n",
       "    </tr>\n",
       "  </tbody>\n",
       "</table>\n",
       "</div>"
      ],
      "text/plain": [
       "   housing  count\n",
       "0  unknown    105\n",
       "1       no   1839\n",
       "2      yes   2175"
      ]
     },
     "execution_count": 14,
     "metadata": {},
     "output_type": "execute_result"
    }
   ],
   "source": [
    "bank_df.groupBy(\"housing\").count().sort(col(\"count\")).toPandas().head(20)"
   ]
  },
  {
   "cell_type": "markdown",
   "metadata": {},
   "source": [
    "#### 3.4.2. loan feature"
   ]
  },
  {
   "cell_type": "code",
   "execution_count": 15,
   "metadata": {},
   "outputs": [
    {
     "data": {
      "text/html": [
       "<div>\n",
       "<style scoped>\n",
       "    .dataframe tbody tr th:only-of-type {\n",
       "        vertical-align: middle;\n",
       "    }\n",
       "\n",
       "    .dataframe tbody tr th {\n",
       "        vertical-align: top;\n",
       "    }\n",
       "\n",
       "    .dataframe thead th {\n",
       "        text-align: right;\n",
       "    }\n",
       "</style>\n",
       "<table border=\"1\" class=\"dataframe\">\n",
       "  <thead>\n",
       "    <tr style=\"text-align: right;\">\n",
       "      <th></th>\n",
       "      <th>loan</th>\n",
       "      <th>count</th>\n",
       "    </tr>\n",
       "  </thead>\n",
       "  <tbody>\n",
       "    <tr>\n",
       "      <th>0</th>\n",
       "      <td>unknown</td>\n",
       "      <td>105</td>\n",
       "    </tr>\n",
       "    <tr>\n",
       "      <th>1</th>\n",
       "      <td>yes</td>\n",
       "      <td>665</td>\n",
       "    </tr>\n",
       "    <tr>\n",
       "      <th>2</th>\n",
       "      <td>no</td>\n",
       "      <td>3349</td>\n",
       "    </tr>\n",
       "  </tbody>\n",
       "</table>\n",
       "</div>"
      ],
      "text/plain": [
       "      loan  count\n",
       "0  unknown    105\n",
       "1      yes    665\n",
       "2       no   3349"
      ]
     },
     "execution_count": 15,
     "metadata": {},
     "output_type": "execute_result"
    }
   ],
   "source": [
    "bank_df.groupBy(\"loan\").count().sort(col(\"count\")).toPandas().head(20)"
   ]
  },
  {
   "cell_type": "markdown",
   "metadata": {},
   "source": [
    "## 3. Data Cleaning"
   ]
  },
  {
   "cell_type": "markdown",
   "metadata": {},
   "source": [
    "### 3.1.  Remove Unknown categories in the features (job, marital, education, housing, loan)\n",
    "\n",
    "##### 3.1.1. unknown categories in the job feature"
   ]
  },
  {
   "cell_type": "code",
   "execution_count": 16,
   "metadata": {},
   "outputs": [
    {
     "data": {
      "text/plain": [
       "4080"
      ]
     },
     "execution_count": 16,
     "metadata": {},
     "output_type": "execute_result"
    }
   ],
   "source": [
    "bank_df_clean = bank_df.filter(bank_df.job != \"unknown\")\n",
    "bank_df_clean.count()"
   ]
  },
  {
   "cell_type": "markdown",
   "metadata": {},
   "source": [
    "##### 3.1.2. unknown categories in the marital feature"
   ]
  },
  {
   "cell_type": "code",
   "execution_count": 17,
   "metadata": {},
   "outputs": [
    {
     "data": {
      "text/plain": [
       "4069"
      ]
     },
     "execution_count": 17,
     "metadata": {},
     "output_type": "execute_result"
    }
   ],
   "source": [
    "bank_df_clean = bank_df_clean.filter(bank_df.marital != \"unknown\")\n",
    "bank_df_clean.count()"
   ]
  },
  {
   "cell_type": "markdown",
   "metadata": {},
   "source": [
    "##### 3.1.3. unknown categories in the education feature"
   ]
  },
  {
   "cell_type": "code",
   "execution_count": 18,
   "metadata": {},
   "outputs": [
    {
     "data": {
      "text/plain": [
       "3915"
      ]
     },
     "execution_count": 18,
     "metadata": {},
     "output_type": "execute_result"
    }
   ],
   "source": [
    "bank_df_clean = bank_df_clean.filter(bank_df.education != \"unknown\")\n",
    "bank_df_clean.count()"
   ]
  },
  {
   "cell_type": "markdown",
   "metadata": {},
   "source": [
    "##### 3.1.4. unknown categories in the housing feature"
   ]
  },
  {
   "cell_type": "code",
   "execution_count": 19,
   "metadata": {},
   "outputs": [
    {
     "data": {
      "text/plain": [
       "3811"
      ]
     },
     "execution_count": 19,
     "metadata": {},
     "output_type": "execute_result"
    }
   ],
   "source": [
    "bank_df_clean = bank_df_clean.filter(bank_df.housing != \"unknown\")\n",
    "bank_df_clean.count()"
   ]
  },
  {
   "cell_type": "markdown",
   "metadata": {},
   "source": [
    "##### 3.1.5. unknown categories in the loan feature"
   ]
  },
  {
   "cell_type": "code",
   "execution_count": 20,
   "metadata": {},
   "outputs": [
    {
     "data": {
      "text/plain": [
       "3811"
      ]
     },
     "execution_count": 20,
     "metadata": {},
     "output_type": "execute_result"
    }
   ],
   "source": [
    "bank_df_clean = bank_df_clean.filter(bank_df.loan != \"unknown\")\n",
    "bank_df_clean.count()"
   ]
  },
  {
   "cell_type": "markdown",
   "metadata": {},
   "source": [
    "### 3.2. Removing weak category count"
   ]
  },
  {
   "cell_type": "markdown",
   "metadata": {},
   "source": [
    "###### 3.2.1. Remove yes category which is a weak class in the default "
   ]
  },
  {
   "cell_type": "code",
   "execution_count": 21,
   "metadata": {},
   "outputs": [
    {
     "data": {
      "text/html": [
       "<div>\n",
       "<style scoped>\n",
       "    .dataframe tbody tr th:only-of-type {\n",
       "        vertical-align: middle;\n",
       "    }\n",
       "\n",
       "    .dataframe tbody tr th {\n",
       "        vertical-align: top;\n",
       "    }\n",
       "\n",
       "    .dataframe thead th {\n",
       "        text-align: right;\n",
       "    }\n",
       "</style>\n",
       "<table border=\"1\" class=\"dataframe\">\n",
       "  <thead>\n",
       "    <tr style=\"text-align: right;\">\n",
       "      <th></th>\n",
       "      <th>default</th>\n",
       "      <th>count</th>\n",
       "    </tr>\n",
       "  </thead>\n",
       "  <tbody>\n",
       "    <tr>\n",
       "      <th>0</th>\n",
       "      <td>yes</td>\n",
       "      <td>1</td>\n",
       "    </tr>\n",
       "    <tr>\n",
       "      <th>1</th>\n",
       "      <td>unknown</td>\n",
       "      <td>721</td>\n",
       "    </tr>\n",
       "    <tr>\n",
       "      <th>2</th>\n",
       "      <td>no</td>\n",
       "      <td>3089</td>\n",
       "    </tr>\n",
       "  </tbody>\n",
       "</table>\n",
       "</div>"
      ],
      "text/plain": [
       "   default  count\n",
       "0      yes      1\n",
       "1  unknown    721\n",
       "2       no   3089"
      ]
     },
     "execution_count": 21,
     "metadata": {},
     "output_type": "execute_result"
    }
   ],
   "source": [
    "bank_df_clean.groupBy(\"default\").count().sort(col(\"count\")).toPandas().head(20)"
   ]
  },
  {
   "cell_type": "code",
   "execution_count": 22,
   "metadata": {},
   "outputs": [
    {
     "data": {
      "text/plain": [
       "3810"
      ]
     },
     "execution_count": 22,
     "metadata": {},
     "output_type": "execute_result"
    }
   ],
   "source": [
    "bank_df_clean = bank_df_clean.filter(bank_df.default != \"yes\")\n",
    "bank_df_clean.count()"
   ]
  },
  {
   "cell_type": "markdown",
   "metadata": {},
   "source": [
    "###### 3.2.2. Remove illiterate category which is a weak class in the education "
   ]
  },
  {
   "cell_type": "code",
   "execution_count": 23,
   "metadata": {},
   "outputs": [
    {
     "data": {
      "text/plain": [
       "3809"
      ]
     },
     "execution_count": 23,
     "metadata": {},
     "output_type": "execute_result"
    }
   ],
   "source": [
    "bank_df_clean = bank_df_clean.filter(bank_df.education != \"illiterate\")\n",
    "bank_df_clean.count()"
   ]
  },
  {
   "cell_type": "markdown",
   "metadata": {},
   "source": [
    "### 3.3. Remove admin's point (.) in the job feature"
   ]
  },
  {
   "cell_type": "code",
   "execution_count": 24,
   "metadata": {},
   "outputs": [
    {
     "data": {
      "text/html": [
       "<div>\n",
       "<style scoped>\n",
       "    .dataframe tbody tr th:only-of-type {\n",
       "        vertical-align: middle;\n",
       "    }\n",
       "\n",
       "    .dataframe tbody tr th {\n",
       "        vertical-align: top;\n",
       "    }\n",
       "\n",
       "    .dataframe thead th {\n",
       "        text-align: right;\n",
       "    }\n",
       "</style>\n",
       "<table border=\"1\" class=\"dataframe\">\n",
       "  <thead>\n",
       "    <tr style=\"text-align: right;\">\n",
       "      <th></th>\n",
       "      <th>job</th>\n",
       "    </tr>\n",
       "  </thead>\n",
       "  <tbody>\n",
       "    <tr>\n",
       "      <th>0</th>\n",
       "      <td>admin</td>\n",
       "    </tr>\n",
       "    <tr>\n",
       "      <th>1</th>\n",
       "      <td>admin</td>\n",
       "    </tr>\n",
       "    <tr>\n",
       "      <th>2</th>\n",
       "      <td>admin</td>\n",
       "    </tr>\n",
       "    <tr>\n",
       "      <th>3</th>\n",
       "      <td>admin</td>\n",
       "    </tr>\n",
       "    <tr>\n",
       "      <th>4</th>\n",
       "      <td>admin</td>\n",
       "    </tr>\n",
       "  </tbody>\n",
       "</table>\n",
       "</div>"
      ],
      "text/plain": [
       "     job\n",
       "0  admin\n",
       "1  admin\n",
       "2  admin\n",
       "3  admin\n",
       "4  admin"
      ]
     },
     "execution_count": 24,
     "metadata": {},
     "output_type": "execute_result"
    }
   ],
   "source": [
    "bank_remove_point = bank_df_clean\\\n",
    ".withColumn(\"job\", regexp_replace(col(\"job\"), \"admin.\", \"admin\"))\n",
    "\n",
    "bank_remove_point.filter(col(\"job\").contains(\"admin\")).select(\"job\").toPandas().head()"
   ]
  },
  {
   "cell_type": "markdown",
   "metadata": {},
   "source": [
    "### 3.4. Combining of categories of Education "
   ]
  },
  {
   "cell_type": "code",
   "execution_count": 25,
   "metadata": {
    "scrolled": true
   },
   "outputs": [
    {
     "data": {
      "text/html": [
       "<div>\n",
       "<style scoped>\n",
       "    .dataframe tbody tr th:only-of-type {\n",
       "        vertical-align: middle;\n",
       "    }\n",
       "\n",
       "    .dataframe tbody tr th {\n",
       "        vertical-align: top;\n",
       "    }\n",
       "\n",
       "    .dataframe thead th {\n",
       "        text-align: right;\n",
       "    }\n",
       "</style>\n",
       "<table border=\"1\" class=\"dataframe\">\n",
       "  <thead>\n",
       "    <tr style=\"text-align: right;\">\n",
       "      <th></th>\n",
       "      <th>education</th>\n",
       "      <th>count</th>\n",
       "    </tr>\n",
       "  </thead>\n",
       "  <tbody>\n",
       "    <tr>\n",
       "      <th>0</th>\n",
       "      <td>high.school</td>\n",
       "      <td>884</td>\n",
       "    </tr>\n",
       "    <tr>\n",
       "      <th>1</th>\n",
       "      <td>basic.6y</td>\n",
       "      <td>220</td>\n",
       "    </tr>\n",
       "    <tr>\n",
       "      <th>2</th>\n",
       "      <td>professional.course</td>\n",
       "      <td>517</td>\n",
       "    </tr>\n",
       "    <tr>\n",
       "      <th>3</th>\n",
       "      <td>university.degree</td>\n",
       "      <td>1239</td>\n",
       "    </tr>\n",
       "    <tr>\n",
       "      <th>4</th>\n",
       "      <td>basic.4y</td>\n",
       "      <td>405</td>\n",
       "    </tr>\n",
       "    <tr>\n",
       "      <th>5</th>\n",
       "      <td>basic.9y</td>\n",
       "      <td>544</td>\n",
       "    </tr>\n",
       "  </tbody>\n",
       "</table>\n",
       "</div>"
      ],
      "text/plain": [
       "             education  count\n",
       "0          high.school    884\n",
       "1             basic.6y    220\n",
       "2  professional.course    517\n",
       "3    university.degree   1239\n",
       "4             basic.4y    405\n",
       "5             basic.9y    544"
      ]
     },
     "execution_count": 25,
     "metadata": {},
     "output_type": "execute_result"
    }
   ],
   "source": [
    "bank_remove_point.groupBy(\"education\").count().toPandas().head(20)"
   ]
  },
  {
   "cell_type": "markdown",
   "metadata": {},
   "source": [
    "We have 5 kind of education categories. We combine some of them into one category as follow:\n",
    "\n",
    "basic.4y, basic6.y, basic.9y ---> elementary-school\n",
    "\n",
    "high.school ---> high-school\n",
    "\n",
    "university.degree ---> university-degree\n",
    "\n",
    "professional.course ---> professional-course"
   ]
  },
  {
   "cell_type": "code",
   "execution_count": 26,
   "metadata": {},
   "outputs": [
    {
     "data": {
      "text/html": [
       "<div>\n",
       "<style scoped>\n",
       "    .dataframe tbody tr th:only-of-type {\n",
       "        vertical-align: middle;\n",
       "    }\n",
       "\n",
       "    .dataframe tbody tr th {\n",
       "        vertical-align: top;\n",
       "    }\n",
       "\n",
       "    .dataframe thead th {\n",
       "        text-align: right;\n",
       "    }\n",
       "</style>\n",
       "<table border=\"1\" class=\"dataframe\">\n",
       "  <thead>\n",
       "    <tr style=\"text-align: right;\">\n",
       "      <th></th>\n",
       "      <th>age</th>\n",
       "      <th>job</th>\n",
       "      <th>marital</th>\n",
       "      <th>education</th>\n",
       "      <th>default</th>\n",
       "      <th>housing</th>\n",
       "      <th>loan</th>\n",
       "      <th>contact</th>\n",
       "      <th>month</th>\n",
       "      <th>day_of_week</th>\n",
       "      <th>...</th>\n",
       "      <th>campaign</th>\n",
       "      <th>pdays</th>\n",
       "      <th>previous</th>\n",
       "      <th>poutcome</th>\n",
       "      <th>emp_var_rate</th>\n",
       "      <th>cons_price_idx</th>\n",
       "      <th>cons_conf_idx</th>\n",
       "      <th>euribor3m</th>\n",
       "      <th>nr_employed</th>\n",
       "      <th>subscription</th>\n",
       "    </tr>\n",
       "  </thead>\n",
       "  <tbody>\n",
       "    <tr>\n",
       "      <th>0</th>\n",
       "      <td>30</td>\n",
       "      <td>blue-collar</td>\n",
       "      <td>married</td>\n",
       "      <td>elementary-school</td>\n",
       "      <td>no</td>\n",
       "      <td>yes</td>\n",
       "      <td>no</td>\n",
       "      <td>cellular</td>\n",
       "      <td>may</td>\n",
       "      <td>fri</td>\n",
       "      <td>...</td>\n",
       "      <td>2</td>\n",
       "      <td>999</td>\n",
       "      <td>0</td>\n",
       "      <td>nonexistent</td>\n",
       "      <td>-1.8</td>\n",
       "      <td>92.893</td>\n",
       "      <td>-46.2</td>\n",
       "      <td>1.313</td>\n",
       "      <td>5099.1</td>\n",
       "      <td>no</td>\n",
       "    </tr>\n",
       "    <tr>\n",
       "      <th>1</th>\n",
       "      <td>39</td>\n",
       "      <td>services</td>\n",
       "      <td>single</td>\n",
       "      <td>high-school</td>\n",
       "      <td>no</td>\n",
       "      <td>no</td>\n",
       "      <td>no</td>\n",
       "      <td>telephone</td>\n",
       "      <td>may</td>\n",
       "      <td>fri</td>\n",
       "      <td>...</td>\n",
       "      <td>4</td>\n",
       "      <td>999</td>\n",
       "      <td>0</td>\n",
       "      <td>nonexistent</td>\n",
       "      <td>1.1</td>\n",
       "      <td>93.994</td>\n",
       "      <td>-36.4</td>\n",
       "      <td>4.855</td>\n",
       "      <td>5191.0</td>\n",
       "      <td>no</td>\n",
       "    </tr>\n",
       "    <tr>\n",
       "      <th>2</th>\n",
       "      <td>25</td>\n",
       "      <td>services</td>\n",
       "      <td>married</td>\n",
       "      <td>high-school</td>\n",
       "      <td>no</td>\n",
       "      <td>yes</td>\n",
       "      <td>no</td>\n",
       "      <td>telephone</td>\n",
       "      <td>jun</td>\n",
       "      <td>wed</td>\n",
       "      <td>...</td>\n",
       "      <td>1</td>\n",
       "      <td>999</td>\n",
       "      <td>0</td>\n",
       "      <td>nonexistent</td>\n",
       "      <td>1.4</td>\n",
       "      <td>94.465</td>\n",
       "      <td>-41.8</td>\n",
       "      <td>4.962</td>\n",
       "      <td>5228.1</td>\n",
       "      <td>no</td>\n",
       "    </tr>\n",
       "    <tr>\n",
       "      <th>3</th>\n",
       "      <td>47</td>\n",
       "      <td>admin</td>\n",
       "      <td>married</td>\n",
       "      <td>university-degree</td>\n",
       "      <td>no</td>\n",
       "      <td>yes</td>\n",
       "      <td>no</td>\n",
       "      <td>cellular</td>\n",
       "      <td>nov</td>\n",
       "      <td>mon</td>\n",
       "      <td>...</td>\n",
       "      <td>1</td>\n",
       "      <td>999</td>\n",
       "      <td>0</td>\n",
       "      <td>nonexistent</td>\n",
       "      <td>-0.1</td>\n",
       "      <td>93.200</td>\n",
       "      <td>-42.0</td>\n",
       "      <td>4.191</td>\n",
       "      <td>5195.8</td>\n",
       "      <td>no</td>\n",
       "    </tr>\n",
       "    <tr>\n",
       "      <th>4</th>\n",
       "      <td>32</td>\n",
       "      <td>services</td>\n",
       "      <td>single</td>\n",
       "      <td>university-degree</td>\n",
       "      <td>no</td>\n",
       "      <td>no</td>\n",
       "      <td>no</td>\n",
       "      <td>cellular</td>\n",
       "      <td>sep</td>\n",
       "      <td>thu</td>\n",
       "      <td>...</td>\n",
       "      <td>3</td>\n",
       "      <td>999</td>\n",
       "      <td>2</td>\n",
       "      <td>failure</td>\n",
       "      <td>-1.1</td>\n",
       "      <td>94.199</td>\n",
       "      <td>-37.5</td>\n",
       "      <td>0.884</td>\n",
       "      <td>4963.6</td>\n",
       "      <td>no</td>\n",
       "    </tr>\n",
       "  </tbody>\n",
       "</table>\n",
       "<p>5 rows × 21 columns</p>\n",
       "</div>"
      ],
      "text/plain": [
       "   age          job  marital          education default housing loan  \\\n",
       "0   30  blue-collar  married  elementary-school      no     yes   no   \n",
       "1   39     services   single        high-school      no      no   no   \n",
       "2   25     services  married        high-school      no     yes   no   \n",
       "3   47        admin  married  university-degree      no     yes   no   \n",
       "4   32     services   single  university-degree      no      no   no   \n",
       "\n",
       "     contact month day_of_week      ...       campaign  pdays  previous  \\\n",
       "0   cellular   may         fri      ...              2    999         0   \n",
       "1  telephone   may         fri      ...              4    999         0   \n",
       "2  telephone   jun         wed      ...              1    999         0   \n",
       "3   cellular   nov         mon      ...              1    999         0   \n",
       "4   cellular   sep         thu      ...              3    999         2   \n",
       "\n",
       "      poutcome emp_var_rate  cons_price_idx  cons_conf_idx  euribor3m  \\\n",
       "0  nonexistent         -1.8          92.893          -46.2      1.313   \n",
       "1  nonexistent          1.1          93.994          -36.4      4.855   \n",
       "2  nonexistent          1.4          94.465          -41.8      4.962   \n",
       "3  nonexistent         -0.1          93.200          -42.0      4.191   \n",
       "4      failure         -1.1          94.199          -37.5      0.884   \n",
       "\n",
       "   nr_employed  subscription  \n",
       "0       5099.1            no  \n",
       "1       5191.0            no  \n",
       "2       5228.1            no  \n",
       "3       5195.8            no  \n",
       "4       4963.6            no  \n",
       "\n",
       "[5 rows x 21 columns]"
      ]
     },
     "execution_count": 26,
     "metadata": {},
     "output_type": "execute_result"
    }
   ],
   "source": [
    "bank_df_combined = bank_remove_point.withColumn(\"education\",\n",
    "                                               when(col(\"education\").isin(\"basic.4y\",\"basic.6y\",\"basic.9y\"), \"elementary-school\")\n",
    "                                                .when(col(\"education\").isin(\"high.school\"), \"high-school\")\n",
    "                                                .when(col(\"education\").isin(\"university.degree\"), \"university-degree\")\n",
    "                                                .when(col(\"education\").isin(\"professional.course\"), \"professional-course\")\n",
    "                                                .otherwise(col(\"education\")))\n",
    "\n",
    "bank_df_combined.toPandas().head()"
   ]
  },
  {
   "cell_type": "code",
   "execution_count": 27,
   "metadata": {},
   "outputs": [],
   "source": [
    "bank_df_clean = bank_df_combined"
   ]
  },
  {
   "cell_type": "markdown",
   "metadata": {},
   "source": [
    "## 4. Data Preparation"
   ]
  },
  {
   "cell_type": "code",
   "execution_count": 28,
   "metadata": {},
   "outputs": [],
   "source": [
    "from pyspark.ml.feature import StringIndexer"
   ]
  },
  {
   "cell_type": "markdown",
   "metadata": {},
   "source": [
    "We have to transform some categorical values to numeric values. To be transformed values are as follows:\n",
    "\n",
    "- job \n",
    "\n",
    "- maritial\n",
    "\n",
    "- education\n",
    "\n",
    "- default\n",
    "\n",
    "- housing\n",
    "\n",
    "- loan \n",
    "\n",
    "- contact \n",
    "\n",
    "- month \n",
    "\n",
    "- day_of_weeks\n",
    "\n",
    "- poutcome"
   ]
  },
  {
   "cell_type": "markdown",
   "metadata": {},
   "source": [
    "### 4.1. StringIndexer (Categorical features)"
   ]
  },
  {
   "cell_type": "code",
   "execution_count": 29,
   "metadata": {},
   "outputs": [],
   "source": [
    "job_indexer = StringIndexer()\\\n",
    ".setInputCol(\"job\")\\\n",
    ".setOutputCol(\"job_index\")"
   ]
  },
  {
   "cell_type": "code",
   "execution_count": 30,
   "metadata": {},
   "outputs": [],
   "source": [
    "marital_indexer = StringIndexer()\\\n",
    ".setInputCol(\"marital\")\\\n",
    ".setOutputCol(\"marital_index\")"
   ]
  },
  {
   "cell_type": "code",
   "execution_count": 31,
   "metadata": {},
   "outputs": [],
   "source": [
    "education_indexer = StringIndexer()\\\n",
    ".setInputCol(\"education\")\\\n",
    ".setOutputCol(\"education_index\")"
   ]
  },
  {
   "cell_type": "code",
   "execution_count": 32,
   "metadata": {},
   "outputs": [],
   "source": [
    "default_indexer = StringIndexer()\\\n",
    ".setInputCol(\"default\")\\\n",
    ".setOutputCol(\"default_index\")"
   ]
  },
  {
   "cell_type": "code",
   "execution_count": 33,
   "metadata": {},
   "outputs": [],
   "source": [
    "housing_indexer = StringIndexer()\\\n",
    ".setInputCol(\"housing\")\\\n",
    ".setOutputCol(\"housing_index\")"
   ]
  },
  {
   "cell_type": "code",
   "execution_count": 34,
   "metadata": {},
   "outputs": [],
   "source": [
    "loan_indexer = StringIndexer()\\\n",
    ".setInputCol(\"loan\")\\\n",
    ".setOutputCol(\"loan_index\")"
   ]
  },
  {
   "cell_type": "code",
   "execution_count": 35,
   "metadata": {},
   "outputs": [],
   "source": [
    "contact_indexer = StringIndexer()\\\n",
    ".setInputCol(\"contact\")\\\n",
    ".setOutputCol(\"contact_index\")"
   ]
  },
  {
   "cell_type": "code",
   "execution_count": 36,
   "metadata": {},
   "outputs": [],
   "source": [
    "month_indexer = StringIndexer()\\\n",
    ".setInputCol(\"month\")\\\n",
    ".setOutputCol(\"month_index\")"
   ]
  },
  {
   "cell_type": "code",
   "execution_count": 37,
   "metadata": {},
   "outputs": [],
   "source": [
    "day_of_weeks_indexer = StringIndexer()\\\n",
    ".setInputCol(\"day_of_week\")\\\n",
    ".setOutputCol(\"day_of_week_index\")"
   ]
  },
  {
   "cell_type": "code",
   "execution_count": 38,
   "metadata": {},
   "outputs": [],
   "source": [
    "poutcomes = StringIndexer()\\\n",
    ".setInputCol(\"poutcome\")\\\n",
    ".setOutputCol(\"poutcome_index\")"
   ]
  },
  {
   "cell_type": "markdown",
   "metadata": {},
   "source": [
    "### 4.2. OneHotEncoderEstimator (Categorical Features)"
   ]
  },
  {
   "cell_type": "code",
   "execution_count": 39,
   "metadata": {},
   "outputs": [],
   "source": [
    "from pyspark.ml.feature import OneHotEncoderEstimator"
   ]
  },
  {
   "cell_type": "code",
   "execution_count": 40,
   "metadata": {},
   "outputs": [],
   "source": [
    "encoder = OneHotEncoderEstimator()\\\n",
    ".setInputCols([\"job_index\",\"marital_index\",\"education_index\", \"default_index\",\n",
    "              \"housing_index\",\"loan_index\",\"contact_index\",\"month_index\",\n",
    "               \"day_of_week_index\",\"poutcome_index\"])\\\n",
    ".setOutputCols([\"job_encoded\",\"marital_encoded\",\"education_encoded\", \"default_encoded\",\n",
    "               \"housing_encoded\",\"loan_encoded\",\"contact_encoded\",\"month_encoded\",\n",
    "               \"day_of_week_encoded\",\"poutcome_encoded\"])"
   ]
  },
  {
   "cell_type": "markdown",
   "metadata": {},
   "source": [
    "### 4.3. VectorAssembler"
   ]
  },
  {
   "cell_type": "code",
   "execution_count": 41,
   "metadata": {},
   "outputs": [],
   "source": [
    "from pyspark.ml.feature import VectorAssembler\n",
    "\n",
    "assembler = VectorAssembler()\\\n",
    ".setInputCols([\"age\",\"job_encoded\",\"marital_encoded\",\"education_encoded\",\n",
    "              \"default_encoded\",\"housing_encoded\",\"loan_encoded\",\"contact_encoded\",\n",
    "              \"month_encoded\",\"day_of_week_encoded\",\"duration\",\"campaign\",\n",
    "              \"pdays\", \"previous\", \"poutcome_encoded\", \"emp_var_rate\",\"cons_price_idx\",\n",
    "              \"cons_conf_idx\",\"euribor3m\",\"nr_employed\"])\\\n",
    ".setOutputCol(\"vectorized_features\")\n",
    "\n",
    "            "
   ]
  },
  {
   "cell_type": "markdown",
   "metadata": {},
   "source": [
    "### 4.4. LabelIndexer "
   ]
  },
  {
   "cell_type": "code",
   "execution_count": 42,
   "metadata": {},
   "outputs": [],
   "source": [
    "label_indexer = StringIndexer()\\\n",
    ".setInputCol(\"subscription\")\\\n",
    ".setOutputCol(\"label\")"
   ]
  },
  {
   "cell_type": "markdown",
   "metadata": {},
   "source": [
    "### 4.5 Normalization-Standardization"
   ]
  },
  {
   "cell_type": "code",
   "execution_count": 43,
   "metadata": {},
   "outputs": [],
   "source": [
    "from pyspark.ml.feature import StandardScaler\n",
    "\n",
    "scaler = StandardScaler()\\\n",
    ".setInputCol(\"vectorized_features\")\\\n",
    ".setOutputCol(\"features\")"
   ]
  },
  {
   "cell_type": "markdown",
   "metadata": {},
   "source": [
    "### 4.6. Split dataset into Train and Test "
   ]
  },
  {
   "cell_type": "code",
   "execution_count": 44,
   "metadata": {},
   "outputs": [],
   "source": [
    "train_df, test_df = bank_df_clean.randomSplit([0.8, 0.2], seed=142)"
   ]
  },
  {
   "cell_type": "markdown",
   "metadata": {},
   "source": [
    "## 5. Machine Learning Algorithm (Gradient Boost Tree)"
   ]
  },
  {
   "cell_type": "markdown",
   "metadata": {},
   "source": [
    "### 5.1. Gradient Boost Tree process"
   ]
  },
  {
   "cell_type": "code",
   "execution_count": 45,
   "metadata": {},
   "outputs": [],
   "source": [
    "from pyspark.ml.classification import GBTClassifier"
   ]
  },
  {
   "cell_type": "code",
   "execution_count": 46,
   "metadata": {},
   "outputs": [],
   "source": [
    "gradient_boost_tree = GBTClassifier()\\\n",
    ".setFeaturesCol(\"features\")\\\n",
    ".setLabelCol(\"label\")\\\n",
    ".setPredictionCol(\"prediction\")"
   ]
  },
  {
   "cell_type": "markdown",
   "metadata": {},
   "source": [
    "### 5.2. Pipeline process"
   ]
  },
  {
   "cell_type": "code",
   "execution_count": 47,
   "metadata": {},
   "outputs": [],
   "source": [
    "from pyspark.ml import Pipeline"
   ]
  },
  {
   "cell_type": "code",
   "execution_count": 48,
   "metadata": {},
   "outputs": [],
   "source": [
    "pipeline_obj = Pipeline()\\\n",
    ".setStages([job_indexer, \n",
    "            marital_indexer,\n",
    "            education_indexer,\n",
    "            default_indexer,\n",
    "            housing_indexer,\n",
    "            loan_indexer,\n",
    "            contact_indexer,\n",
    "            month_indexer,\n",
    "            day_of_weeks_indexer,\n",
    "            poutcomes,\n",
    "            encoder,\n",
    "            assembler,\n",
    "            label_indexer,\n",
    "            scaler,\n",
    "            gradient_boost_tree])"
   ]
  },
  {
   "cell_type": "code",
   "execution_count": 49,
   "metadata": {},
   "outputs": [],
   "source": [
    "pipeline_model = pipeline_obj.fit(train_df)\n",
    "\n",
    "result = pipeline_model.transform(test_df)"
   ]
  },
  {
   "cell_type": "code",
   "execution_count": 50,
   "metadata": {},
   "outputs": [
    {
     "data": {
      "text/html": [
       "<div>\n",
       "<style scoped>\n",
       "    .dataframe tbody tr th:only-of-type {\n",
       "        vertical-align: middle;\n",
       "    }\n",
       "\n",
       "    .dataframe tbody tr th {\n",
       "        vertical-align: top;\n",
       "    }\n",
       "\n",
       "    .dataframe thead th {\n",
       "        text-align: right;\n",
       "    }\n",
       "</style>\n",
       "<table border=\"1\" class=\"dataframe\">\n",
       "  <thead>\n",
       "    <tr style=\"text-align: right;\">\n",
       "      <th></th>\n",
       "      <th>features</th>\n",
       "      <th>label</th>\n",
       "      <th>prediction</th>\n",
       "    </tr>\n",
       "  </thead>\n",
       "  <tbody>\n",
       "    <tr>\n",
       "      <th>0</th>\n",
       "      <td>(1.9530460909171459, 0.0, 0.0, 0.0, 0.0, 0.0, ...</td>\n",
       "      <td>0.0</td>\n",
       "      <td>0.0</td>\n",
       "    </tr>\n",
       "    <tr>\n",
       "      <th>1</th>\n",
       "      <td>(2.0506983954630034, 0.0, 0.0, 0.0, 0.0, 0.0, ...</td>\n",
       "      <td>0.0</td>\n",
       "      <td>0.0</td>\n",
       "    </tr>\n",
       "    <tr>\n",
       "      <th>2</th>\n",
       "      <td>(2.0506983954630034, 0.0, 0.0, 0.0, 0.0, 0.0, ...</td>\n",
       "      <td>1.0</td>\n",
       "      <td>1.0</td>\n",
       "    </tr>\n",
       "    <tr>\n",
       "      <th>3</th>\n",
       "      <td>(2.0506983954630034, 0.0, 0.0, 0.0, 0.0, 0.0, ...</td>\n",
       "      <td>0.0</td>\n",
       "      <td>0.0</td>\n",
       "    </tr>\n",
       "    <tr>\n",
       "      <th>4</th>\n",
       "      <td>(2.1483507000088604, 0.0, 0.0, 0.0, 3.44003024...</td>\n",
       "      <td>0.0</td>\n",
       "      <td>0.0</td>\n",
       "    </tr>\n",
       "  </tbody>\n",
       "</table>\n",
       "</div>"
      ],
      "text/plain": [
       "                                            features  label  prediction\n",
       "0  (1.9530460909171459, 0.0, 0.0, 0.0, 0.0, 0.0, ...    0.0         0.0\n",
       "1  (2.0506983954630034, 0.0, 0.0, 0.0, 0.0, 0.0, ...    0.0         0.0\n",
       "2  (2.0506983954630034, 0.0, 0.0, 0.0, 0.0, 0.0, ...    1.0         1.0\n",
       "3  (2.0506983954630034, 0.0, 0.0, 0.0, 0.0, 0.0, ...    0.0         0.0\n",
       "4  (2.1483507000088604, 0.0, 0.0, 0.0, 3.44003024...    0.0         0.0"
      ]
     },
     "execution_count": 50,
     "metadata": {},
     "output_type": "execute_result"
    }
   ],
   "source": [
    "result.select(\"features\",\"label\",\"prediction\").toPandas().head()"
   ]
  },
  {
   "cell_type": "markdown",
   "metadata": {},
   "source": [
    "## 6. Evaluation the Model "
   ]
  },
  {
   "cell_type": "code",
   "execution_count": 51,
   "metadata": {},
   "outputs": [],
   "source": [
    "from pyspark.ml.evaluation import MulticlassClassificationEvaluator"
   ]
  },
  {
   "cell_type": "markdown",
   "metadata": {},
   "source": [
    "### 6.1. Accuracy Evaluation"
   ]
  },
  {
   "cell_type": "code",
   "execution_count": 52,
   "metadata": {},
   "outputs": [],
   "source": [
    "evaluator = MulticlassClassificationEvaluator(\n",
    "    labelCol=\"label\", \n",
    "    predictionCol=\"prediction\", \n",
    "    metricName = \"accuracy\")\n",
    "\n",
    "gbt = evaluator.evaluate(result)"
   ]
  },
  {
   "cell_type": "code",
   "execution_count": 53,
   "metadata": {},
   "outputs": [
    {
     "name": "stdout",
     "output_type": "stream",
     "text": [
      " --- Gradient Boost Tree Classification ---\n",
      "Accuracy Rate:  0.9156939040207522\n",
      "Error Rate:  0.08430609597924776\n"
     ]
    }
   ],
   "source": [
    "print(\" --- Gradient Boost Tree Classification ---\")\n",
    "print(\"Accuracy Rate: \", gbt)\n",
    "print(\"Error Rate: \", (1.0 - gbt))"
   ]
  },
  {
   "cell_type": "markdown",
   "metadata": {},
   "source": [
    "### 6.2. Confusion Matrix"
   ]
  },
  {
   "cell_type": "code",
   "execution_count": 54,
   "metadata": {},
   "outputs": [
    {
     "name": "stdout",
     "output_type": "stream",
     "text": [
      "+------+-------+\n",
      "|normal|anomaly|\n",
      "+------+-------+\n",
      "| 669.0|   32.0|\n",
      "|  33.0|   37.0|\n",
      "+------+-------+\n",
      "\n"
     ]
    }
   ],
   "source": [
    "predictionAndLabel = result.select(\"prediction\",\"label\").rdd\n",
    "\n",
    "from pyspark.mllib.evaluation import MulticlassMetrics\n",
    "metrics = MulticlassMetrics(predictionAndLabel)\n",
    "cm = metrics.confusionMatrix()\n",
    "rows = cm.toArray().tolist()\n",
    "\n",
    "confusion_matrix = spark.createDataFrame(rows,[\"normal\",\"anomaly\"])\n",
    "confusion_matrix.show()"
   ]
  },
  {
   "cell_type": "code",
   "execution_count": 55,
   "metadata": {},
   "outputs": [
    {
     "name": "stdout",
     "output_type": "stream",
     "text": [
      "+-----+----------+-----+\n",
      "|label|prediction|count|\n",
      "+-----+----------+-----+\n",
      "|  1.0|       1.0|   37|\n",
      "|  0.0|       1.0|   32|\n",
      "|  1.0|       0.0|   33|\n",
      "|  0.0|       0.0|  669|\n",
      "+-----+----------+-----+\n",
      "\n"
     ]
    }
   ],
   "source": [
    "result.groupBy(\"label\",\"prediction\").count().show()"
   ]
  },
  {
   "cell_type": "markdown",
   "metadata": {},
   "source": [
    "##### Results\n",
    "\n",
    "As a result, %90.92 (0.9092) accuracy rate obtained using Gradient Boost Tree "
   ]
  }
 ],
 "metadata": {
  "kernelspec": {
   "display_name": "Python 3",
   "language": "python",
   "name": "python3"
  },
  "language_info": {
   "codemirror_mode": {
    "name": "ipython",
    "version": 3
   },
   "file_extension": ".py",
   "mimetype": "text/x-python",
   "name": "python",
   "nbconvert_exporter": "python",
   "pygments_lexer": "ipython3",
   "version": "3.7.1"
  }
 },
 "nbformat": 4,
 "nbformat_minor": 2
}
