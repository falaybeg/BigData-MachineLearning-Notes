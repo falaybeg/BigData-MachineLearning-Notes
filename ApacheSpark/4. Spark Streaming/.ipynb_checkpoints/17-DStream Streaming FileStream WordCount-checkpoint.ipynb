{
 "cells": [
  {
   "cell_type": "markdown",
   "metadata": {},
   "source": [
    "# FileStream, countByWindow, reduceByKeyAndWindow, checkpoing using  old (DStream) API"
   ]
  },
  {
   "cell_type": "code",
   "execution_count": 1,
   "metadata": {},
   "outputs": [],
   "source": [
    "import findspark\n",
    "findspark.init()"
   ]
  },
  {
   "cell_type": "code",
   "execution_count": 2,
   "metadata": {},
   "outputs": [],
   "source": [
    "from pyspark.streaming import * \n",
    "from pyspark import SparkConf, SparkContext"
   ]
  },
  {
   "cell_type": "code",
   "execution_count": 3,
   "metadata": {},
   "outputs": [],
   "source": [
    "#sc = SparkContext(appName=\"WindowOperations\", master=\"local[4]\")\n",
    "sc = SparkContext.getOrCreate()"
   ]
  },
  {
   "cell_type": "code",
   "execution_count": 4,
   "metadata": {},
   "outputs": [],
   "source": [
    "ssc = StreamingContext(sc, 5)"
   ]
  },
  {
   "cell_type": "code",
   "execution_count": 5,
   "metadata": {},
   "outputs": [],
   "source": [
    "lines = ssc.textFileStream(\"data\")"
   ]
  },
  {
   "cell_type": "code",
   "execution_count": 6,
   "metadata": {},
   "outputs": [],
   "source": [
    "ssc.checkpoint(\"checkpoint\")"
   ]
  },
  {
   "cell_type": "code",
   "execution_count": 7,
   "metadata": {},
   "outputs": [],
   "source": [
    "words = lines.flatMap(lambda x: x.split(\" \"))"
   ]
  },
  {
   "cell_type": "code",
   "execution_count": 8,
   "metadata": {},
   "outputs": [],
   "source": [
    "mapped_words = words.map(lambda x: (x,1))"
   ]
  },
  {
   "cell_type": "markdown",
   "metadata": {},
   "source": [
    "## 1. Windows Operation"
   ]
  },
  {
   "cell_type": "markdown",
   "metadata": {},
   "source": [
    "#### Here slideDuration should be 2 times bigger than batchDuration"
   ]
  },
  {
   "cell_type": "code",
   "execution_count": 9,
   "metadata": {},
   "outputs": [],
   "source": [
    "window = mapped_words.window(windowDuration=30, slideDuration=10)"
   ]
  },
  {
   "cell_type": "code",
   "execution_count": 10,
   "metadata": {},
   "outputs": [],
   "source": [
    "window.pprint(10)"
   ]
  },
  {
   "cell_type": "code",
   "execution_count": 11,
   "metadata": {
    "scrolled": true
   },
   "outputs": [
    {
     "name": "stdout",
     "output_type": "stream",
     "text": [
      "-------------------------------------------\n",
      "Time: 2019-04-27 12:17:40\n",
      "-------------------------------------------\n",
      "\n",
      "-------------------------------------------\n",
      "Time: 2019-04-27 12:17:50\n",
      "-------------------------------------------\n",
      "('Once', 1)\n",
      "('upon', 1)\n",
      "('a', 1)\n",
      "('time', 1)\n",
      "('there', 1)\n",
      "('dwelt', 1)\n",
      "('on', 1)\n",
      "('the', 1)\n",
      "('outskirts', 1)\n",
      "('of', 1)\n",
      "...\n",
      "\n",
      "-------------------------------------------\n",
      "Time: 2019-04-27 12:18:00\n",
      "-------------------------------------------\n",
      "('Once', 1)\n",
      "('upon', 1)\n",
      "('a', 1)\n",
      "('time', 1)\n",
      "('there', 1)\n",
      "('dwelt', 1)\n",
      "('on', 1)\n",
      "('the', 1)\n",
      "('outskirts', 1)\n",
      "('of', 1)\n",
      "...\n",
      "\n",
      "-------------------------------------------\n",
      "Time: 2019-04-27 12:18:10\n",
      "-------------------------------------------\n",
      "('Once', 1)\n",
      "('upon', 1)\n",
      "('a', 1)\n",
      "('time', 1)\n",
      "('there', 1)\n",
      "('dwelt', 1)\n",
      "('on', 1)\n",
      "('the', 1)\n",
      "('outskirts', 1)\n",
      "('of', 1)\n",
      "...\n",
      "\n",
      "-------------------------------------------\n",
      "Time: 2019-04-27 12:18:20\n",
      "-------------------------------------------\n",
      "\n",
      "-------------------------------------------\n",
      "Time: 2019-04-27 12:18:30\n",
      "-------------------------------------------\n",
      "\n"
     ]
    }
   ],
   "source": [
    "ssc.start()"
   ]
  },
  {
   "cell_type": "code",
   "execution_count": 12,
   "metadata": {},
   "outputs": [
    {
     "name": "stdout",
     "output_type": "stream",
     "text": [
      "-------------------------------------------\n",
      "Time: 2019-04-27 12:18:40\n",
      "-------------------------------------------\n",
      "\n"
     ]
    }
   ],
   "source": [
    "ssc.stop(stopSparkContext= True, stopGraceFully= True)"
   ]
  },
  {
   "cell_type": "markdown",
   "metadata": {},
   "source": [
    "## 2. countByWindow"
   ]
  },
  {
   "cell_type": "markdown",
   "metadata": {},
   "source": [
    "CountByWindow returns a sliding window count of elements in the stream. We have 10 elements in the first window and then comes 15 elements in the second window, in total it calculates the 25 elements."
   ]
  },
  {
   "cell_type": "code",
   "execution_count": 20,
   "metadata": {},
   "outputs": [],
   "source": [
    "countByWindow = mapped_words.countByWindow(windowDuration=30, slideDuration=10)"
   ]
  },
  {
   "cell_type": "code",
   "execution_count": 21,
   "metadata": {},
   "outputs": [],
   "source": [
    "countByWindow.pprint(10)"
   ]
  },
  {
   "cell_type": "code",
   "execution_count": 22,
   "metadata": {
    "scrolled": true
   },
   "outputs": [
    {
     "name": "stdout",
     "output_type": "stream",
     "text": [
      "-------------------------------------------\n",
      "Time: 2019-04-27 12:19:10\n",
      "-------------------------------------------\n",
      "\n",
      "-------------------------------------------\n",
      "Time: 2019-04-27 12:19:20\n",
      "-------------------------------------------\n",
      "1890\n",
      "\n",
      "-------------------------------------------\n",
      "Time: 2019-04-27 12:19:30\n",
      "-------------------------------------------\n",
      "3780\n",
      "\n",
      "-------------------------------------------\n",
      "Time: 2019-04-27 12:19:40\n",
      "-------------------------------------------\n",
      "3780\n",
      "\n",
      "-------------------------------------------\n",
      "Time: 2019-04-27 12:19:50\n",
      "-------------------------------------------\n",
      "3780\n",
      "\n",
      "-------------------------------------------\n",
      "Time: 2019-04-27 12:20:00\n",
      "-------------------------------------------\n",
      "5670\n",
      "\n"
     ]
    }
   ],
   "source": [
    "ssc.start()"
   ]
  },
  {
   "cell_type": "code",
   "execution_count": 23,
   "metadata": {},
   "outputs": [
    {
     "name": "stdout",
     "output_type": "stream",
     "text": [
      "-------------------------------------------\n",
      "Time: 2019-04-27 12:20:10\n",
      "-------------------------------------------\n",
      "5670\n",
      "\n"
     ]
    }
   ],
   "source": [
    "ssc.stop(stopSparkContext= True, stopGraceFully= True)"
   ]
  },
  {
   "cell_type": "markdown",
   "metadata": {},
   "source": [
    "Here we add HanselStory.txt file and the program reads 1890 words. After that, we copy text file and it shows 3780 which is the last added txt file (3 files) counts."
   ]
  },
  {
   "cell_type": "markdown",
   "metadata": {},
   "source": [
    "## 3. reduceByKeyAndWindow"
   ]
  },
  {
   "cell_type": "code",
   "execution_count": 20,
   "metadata": {
    "scrolled": true
   },
   "outputs": [],
   "source": [
    "reduceByKeyAndWindow = mapped_words.reduceByKeyAndWindow(\n",
    "    lambda x,y: (int(x) + int(y)), \\\n",
    "    lambda x,y: (int(x)- int(y)), \\\n",
    "    windowDuration=30, slideDuration=10) \\\n",
    ".map(lambda x: (x[1], x[0])) \\\n",
    ".transform(lambda x: x.sortByKey(False))"
   ]
  },
  {
   "cell_type": "code",
   "execution_count": 21,
   "metadata": {},
   "outputs": [],
   "source": [
    "reduceByKeyAndWindow.pprint(10)"
   ]
  },
  {
   "cell_type": "code",
   "execution_count": 22,
   "metadata": {
    "scrolled": true
   },
   "outputs": [
    {
     "name": "stdout",
     "output_type": "stream",
     "text": [
      "-------------------------------------------\n",
      "Time: 2019-04-27 12:27:35\n",
      "-------------------------------------------\n",
      "\n",
      "-------------------------------------------\n",
      "Time: 2019-04-27 12:27:45\n",
      "-------------------------------------------\n",
      "(113, 'the')\n",
      "(91, 'and')\n",
      "(44, 'to')\n",
      "(42, 'a')\n",
      "(34, 'they')\n",
      "(31, 'of')\n",
      "(27, 'had')\n",
      "(19, 'was')\n",
      "(19, 'in')\n",
      "(19, 'he')\n",
      "...\n",
      "\n",
      "-------------------------------------------\n",
      "Time: 2019-04-27 12:27:55\n",
      "-------------------------------------------\n",
      "(226, 'the')\n",
      "(182, 'and')\n",
      "(88, 'to')\n",
      "(84, 'a')\n",
      "(68, 'they')\n",
      "(62, 'of')\n",
      "(54, 'had')\n",
      "(38, 'was')\n",
      "(38, 'in')\n",
      "(38, 'he')\n",
      "...\n",
      "\n",
      "-------------------------------------------\n",
      "Time: 2019-04-27 12:28:05\n",
      "-------------------------------------------\n",
      "(339, 'the')\n",
      "(273, 'and')\n",
      "(132, 'to')\n",
      "(126, 'a')\n",
      "(102, 'they')\n",
      "(93, 'of')\n",
      "(81, 'had')\n",
      "(57, 'was')\n",
      "(57, 'in')\n",
      "(57, 'he')\n",
      "...\n",
      "\n"
     ]
    }
   ],
   "source": [
    "ssc.start()"
   ]
  },
  {
   "cell_type": "code",
   "execution_count": 23,
   "metadata": {},
   "outputs": [
    {
     "name": "stdout",
     "output_type": "stream",
     "text": [
      "-------------------------------------------\n",
      "Time: 2019-04-27 12:28:15\n",
      "-------------------------------------------\n",
      "(226, 'the')\n",
      "(182, 'and')\n",
      "(88, 'to')\n",
      "(84, 'a')\n",
      "(68, 'they')\n",
      "(62, 'of')\n",
      "(54, 'had')\n",
      "(38, 'was')\n",
      "(38, 'in')\n",
      "(38, 'he')\n",
      "...\n",
      "\n"
     ]
    }
   ],
   "source": [
    "ssc.stop(stopSparkContext= True, stopGraceFully= True)"
   ]
  },
  {
   "cell_type": "markdown",
   "metadata": {},
   "source": [
    "Here words are reduced (counted) using reduceByKeyAndWindows() function. Then we copy the text file every 10 seconds. Our calculating slide is every 10 seconds so that in stop action we get only the last two file results."
   ]
  },
  {
   "cell_type": "code",
   "execution_count": null,
   "metadata": {},
   "outputs": [],
   "source": []
  }
 ],
 "metadata": {
  "kernelspec": {
   "display_name": "Python 3",
   "language": "python",
   "name": "python3"
  },
  "language_info": {
   "codemirror_mode": {
    "name": "ipython",
    "version": 3
   },
   "file_extension": ".py",
   "mimetype": "text/x-python",
   "name": "python",
   "nbconvert_exporter": "python",
   "pygments_lexer": "ipython3",
   "version": "3.7.1"
  }
 },
 "nbformat": 4,
 "nbformat_minor": 2
}
